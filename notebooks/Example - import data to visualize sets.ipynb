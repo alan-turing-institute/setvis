{
 "cells": [
  {
   "cell_type": "markdown",
   "id": "f2662b53",
   "metadata": {},
   "source": [
    "# Example: Import data to visualize sets and intersections"
   ]
  },
  {
   "cell_type": "markdown",
   "id": "2ef2c293",
   "metadata": {},
   "source": [
    "This example shows the methods that you can use to import data and visualize set-type data. The data is stored in a Membership object, which stores the sets in each intersection, and the combination of sets that each record belongs to."
   ]
  },
  {
   "cell_type": "markdown",
   "id": "69ba3e19",
   "metadata": {},
   "source": [
    "# Includes: setvis and other libraries"
   ]
  },
  {
   "cell_type": "code",
   "execution_count": null,
   "id": "9a18e4b9",
   "metadata": {},
   "outputs": [],
   "source": [
    "import pandas as pd\n",
    "\n",
    "from setvis import Membership\n",
    "from setvis.plots import PlotSession"
   ]
  },
  {
   "cell_type": "markdown",
   "id": "7d58911e",
   "metadata": {},
   "source": [
    "## Visualize the sets and intersections"
   ]
  },
  {
   "cell_type": "markdown",
   "id": "4d266e3b",
   "metadata": {},
   "source": [
    "The following three data import methods produce identical visualizations."
   ]
  },
  {
   "cell_type": "code",
   "execution_count": null,
   "id": "14e11256",
   "metadata": {},
   "outputs": [],
   "source": [
    "# This is a TAB-delimited file\n",
    "input_file = \"../examples/datasets/convenience_store_table.txt\""
   ]
  },
  {
   "cell_type": "markdown",
   "id": "6268105a",
   "metadata": {},
   "source": [
    "### Create a Membership object directly from the input file"
   ]
  },
  {
   "cell_type": "code",
   "execution_count": null,
   "id": "19f877cb",
   "metadata": {},
   "outputs": [],
   "source": [
    "set1 = Membership.from_csv(input_file, read_csv_args={'sep':'\\t'}, set_mode=True)\n",
    "# PlotSession is the core class that provides the functionality to analyse and explore the missingness patterns found in a dataset\n",
    "set_session1 = PlotSession(set1)\n",
    "# To visualise the dataset, call add_plot(), providing a name.\n",
    "# Naming the plot is important: It allows any interactive selection made in the plot to be referred to later.\n",
    "# The result is a Bokeh widget with a number of tabs, each with a different visualisation of the missingness data.\n",
    "set_session1.add_plot(name=\"example\")"
   ]
  },
  {
   "cell_type": "markdown",
   "id": "eb81a7f9",
   "metadata": {},
   "source": [
    "### Import the file as a data frame and then create a Membership object"
   ]
  },
  {
   "cell_type": "code",
   "execution_count": null,
   "id": "5e5f8f3a",
   "metadata": {},
   "outputs": [],
   "source": [
    "df2 = pd.read_csv(input_file, sep='\\t')\n",
    "set2 = Membership.from_data_frame(df2, set_mode=True)\n",
    "# Create a PlotSession object and visualise the patterns of missing values\n",
    "set_session2 = PlotSession(set2)\n",
    "set_session2.add_plot(name=\"example\")"
   ]
  },
  {
   "cell_type": "markdown",
   "id": "100402dd",
   "metadata": {},
   "source": [
    "### Create a PlotSession object directly from the input file"
   ]
  },
  {
   "cell_type": "code",
   "execution_count": null,
   "id": "3517d1a4",
   "metadata": {},
   "outputs": [],
   "source": [
    "df3 = pd.read_csv(input_file, sep='\\t')\n",
    "set_session3 = PlotSession(df3, set_mode=True)\n",
    "set_session3.add_plot(name=\"example\")"
   ]
  },
  {
   "cell_type": "markdown",
   "id": "5cbd8a5f",
   "metadata": {},
   "source": [
    "## Create the same visualizations, but from a compact data file"
   ]
  },
  {
   "cell_type": "code",
   "execution_count": null,
   "id": "cc4d8fec",
   "metadata": {},
   "outputs": [],
   "source": [
    "# This is a TAB-delimited file, and the sets are stored in the Product column as comma-separated values\n",
    "input_file = \"../examples/datasets/convenience_store_membership.txt\""
   ]
  },
  {
   "cell_type": "markdown",
   "id": "8e404985",
   "metadata": {},
   "source": [
    "### Create a Membership object directly from the input file"
   ]
  },
  {
   "cell_type": "code",
   "execution_count": null,
   "id": "085073db",
   "metadata": {},
   "outputs": [],
   "source": [
    "memset1 = Membership.from_membership_csv(input_file, read_csv_args={'sep':'\\t'}, membership_column='Product', membership_separator=',')\n",
    "\n",
    "# PlotSession is the core class that provides the functionality to analyse and explore the missingness patterns found in a dataset\n",
    "memset_session1 = PlotSession(memset1)\n",
    "# To visualise the dataset, call add_plot(), providing a name.\n",
    "# Naming the plot is important: It allows any interactive selection made in the plot to be referred to later.\n",
    "# The result is a Bokeh widget with a number of tabs, each with a different visualisation of the missingness data.\n",
    "memset_session1.add_plot(name=\"example\")"
   ]
  },
  {
   "cell_type": "markdown",
   "id": "6a27346e",
   "metadata": {},
   "source": [
    "### Import the file as a data frame and then create a Membership object"
   ]
  },
  {
   "cell_type": "code",
   "execution_count": null,
   "id": "b7509f25",
   "metadata": {},
   "outputs": [],
   "source": [
    "df4 = pd.read_csv(input_file, sep='\\t')\n",
    "memset2 = Membership.from_membership_data_frame(df4, membership_column='Product', membership_separator=',')\n",
    "# Create a PlotSession object and visualise the patterns of missing values\n",
    "memset_session2 = PlotSession(memset2)\n",
    "memset_session2.add_plot(name=\"example\")"
   ]
  },
  {
   "cell_type": "code",
   "execution_count": null,
   "id": "f0efee82",
   "metadata": {},
   "outputs": [],
   "source": []
  }
 ],
 "metadata": {
  "kernelspec": {
   "display_name": "Python 3 (ipykernel)",
   "language": "python",
   "name": "python3"
  },
  "language_info": {
   "codemirror_mode": {
    "name": "ipython",
    "version": 3
   },
   "file_extension": ".py",
   "mimetype": "text/x-python",
   "name": "python",
   "nbconvert_exporter": "python",
   "pygments_lexer": "ipython3",
   "version": "3.8.2"
  }
 },
 "nbformat": 4,
 "nbformat_minor": 5
}
