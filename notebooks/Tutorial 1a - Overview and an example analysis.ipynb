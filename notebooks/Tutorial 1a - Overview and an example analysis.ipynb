{
 "cells": [
  {
   "cell_type": "markdown",
   "id": "f2662b53",
   "metadata": {},
   "source": [
    "# PACE Tutorial 1a: Analysing Missingness in Synthetic APC Data – Interactive selection (decision tree version)"
   ]
  },
  {
   "cell_type": "markdown",
   "id": "e31edfba",
   "metadata": {},
   "source": [
    "## Introduction"
   ]
  },
  {
   "cell_type": "markdown",
   "id": "2ef2c293",
   "metadata": {},
   "source": [
    "This tutorial example focuses on the high-level functionality of PACE and uses a synthetic dataset that mirrors the missingness patterns that were found in an extract of an Admitted Patient Care (APC) dataset from Hospital Episode Statistics (HES).\n",
    "\n",
    "**Objectives for this tutorial:**\n",
    "  - Get a basic overview of PACE functionality for exploring missingness in data\n",
    "  - Introduction to the interactive workflow and `PlotSession`\n",
    "  - Explain unexpected patterns of missing data by using data mining techniques"
   ]
  },
  {
   "cell_type": "markdown",
   "id": "2a20ef68",
   "metadata": {},
   "source": [
    "<div class=\"alert alert-success\"><b>Note: </b>To produce the expected results, this tutorial notebook requires you to interact with it in a few places.  When this is necessary, a box like this will let you know.\n",
    "\n",
    "Given the partly interactive nature, this notebook is intended to be executed **cell by cell**. If you run the whole notbook in one go, you won't get the expected results.\n",
    "</div>"
   ]
  },
  {
   "cell_type": "markdown",
   "id": "858f7215",
   "metadata": {},
   "source": [
    "<div class=\"alert alert-info\"><b>Solution: </b>After an interactive part, you will find a box like this before the cells that contain hints or solutions.</div>"
   ]
  },
  {
   "cell_type": "markdown",
   "id": "580bcf98",
   "metadata": {},
   "source": [
    "## Preamble"
   ]
  },
  {
   "cell_type": "markdown",
   "id": "69ba3e19",
   "metadata": {},
   "source": [
    "### Includes: PACE and other libraries"
   ]
  },
  {
   "cell_type": "code",
   "execution_count": 2,
   "id": "9a18e4b9",
   "metadata": {},
   "outputs": [],
   "source": [
    "# For this tutorial, we only need the 'PlotSession' class, from the pace.plots module\n",
    "from pace.plots import PlotSession\n",
    "\n",
    "import pandas as pd\n",
    "import numpy as np\n",
    "import matplotlib.pyplot as plt\n",
    "\n",
    "from sklearn import tree, preprocessing\n",
    "from sklearn.metrics import mutual_info_score"
   ]
  }
 ],
 "metadata": {
  "kernelspec": {
   "display_name": "Python 3 (ipykernel)",
   "language": "python",
   "name": "python3"
  },
  "language_info": {
   "codemirror_mode": {
    "name": "ipython",
    "version": 3
   },
   "file_extension": ".py",
   "mimetype": "text/x-python",
   "name": "python",
   "nbconvert_exporter": "python",
   "pygments_lexer": "ipython3",
   "version": "3.8.12"
  }
 },
 "nbformat": 4,
 "nbformat_minor": 5
}
