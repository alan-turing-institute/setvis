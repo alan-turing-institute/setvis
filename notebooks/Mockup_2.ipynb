{
 "cells": [
  {
   "cell_type": "markdown",
   "id": "fcf3f3d7",
   "metadata": {},
   "source": [
    "# Mock-up interactive notebook - Version 2\n",
    "\n",
    "No drowpdown menu to select the plot type. All plots are shown in a tab panel layout. To add a new plot panel, add a new cell, past `add_plot(selected_indices)` and run the cell.\n",
    "\n",
    "<hr>\n",
    "\n",
    "TODO:\n",
    "\n",
    " - [ ] Make plot functions part of class.\n",
    " - [ ] Combination heat map: drop fields that are never missing\n",
    " - [ ] Is there a better way to handle the field identifiers than two dictionaries?"
   ]
  },
  {
   "cell_type": "code",
   "execution_count": null,
   "id": "f1dc55c0",
   "metadata": {},
   "outputs": [],
   "source": [
    "from pace.datastructure import MissingData\n",
    "from pace.plots import PlotMissingData\n",
    "# from pace.plots import value_bar_chart #, combination_heatmap, dict_to_matrix, dict_to_long_matrix, plot_data_tab\n",
    "from pathlib import Path\n",
    "import pandas as pd\n",
    "import numpy as np\n",
    "\n",
    "from bokeh.models import ColumnDataSource \n",
    "# from bokeh.models.widgets import Panel, Tabs\n",
    "from bokeh.io import output_notebook\n",
    "output_notebook(hide_banner=True)\n",
    "\n",
    "# imports for click buttons\n",
    "from IPython.display import Javascript, display\n",
    "from ipywidgets import widgets\n",
    "\n",
    "import logging\n",
    "# Set up logging\n",
    "logger = logging.getLogger(__name__)\n",
    "logging.basicConfig(format='%(asctime)s', level=logging.INFO)\n",
    "\n",
    "from IPython.display import clear_output "
   ]
  },
  {
   "cell_type": "code",
   "execution_count": null,
   "id": "835aadb7",
   "metadata": {},
   "outputs": [],
   "source": [
    "def add_plot(missing_data_instance, selected_indices=[]):\n",
    "    # no data selected\n",
    "    if not selected_indices:\n",
    "        missing_data_instance.plot_data()     \n",
    "    else: \n",
    "        logging.info(f\"***** \\n Data selection not yet supported \\n *****\")\n",
    "        # if selected_indices is not empty, create a new data instance and call plot_data_tab(...)"
   ]
  },
  {
   "cell_type": "markdown",
   "id": "072c08e2",
   "metadata": {},
   "source": [
    "## Load data"
   ]
  },
  {
   "cell_type": "code",
   "execution_count": null,
   "id": "3271b0bd",
   "metadata": {},
   "outputs": [],
   "source": [
    "# load data set\n",
    "filename = \"test_data_merged_10000.csv\"\n",
    "path_to_file = Path.cwd().parent / \"data\" / filename\n",
    "data = pd.read_csv(path_to_file)\n",
    "logging.info(f\"\"\"\n",
    "Load dataset\n",
    "********\n",
    "Number of fields: {data.shape[1]}\n",
    "Number of records: {data.shape[0]}\n",
    "********\"\"\")"
   ]
  },
  {
   "cell_type": "markdown",
   "id": "9afdf455",
   "metadata": {},
   "source": [
    "## Perform computation and plot value bar chart\n",
    "\n",
    "Perform missingness computation and show plots."
   ]
  },
  {
   "cell_type": "code",
   "execution_count": null,
   "id": "5974f393",
   "metadata": {},
   "outputs": [],
   "source": [
    "# create missing data instance\n",
    "missing_data_instance = PlotMissingData(data)\n",
    "# +++++++++++++++\n",
    "\n",
    "# +++++++++++++++\n",
    "# # convert dictionary to plot_source?\n",
    "# data_matrix = dict_to_matrix(missing_data_instance) # todo: rename this function\n",
    "selected_indices = []\n",
    "# # value_bar_chart(data_matrix, selected_indices)\n",
    "logging.info(f\"\"\"\n",
    "Computation\n",
    "********\n",
    "Total number of missing combinations: {len(missing_data_instance.missing_combinations)}\n",
    "********\"\"\")"
   ]
  },
  {
   "cell_type": "code",
   "execution_count": null,
   "id": "4352b975",
   "metadata": {},
   "outputs": [],
   "source": [
    "missing_data_instance.plot_data()"
   ]
  },
  {
   "cell_type": "markdown",
   "id": "0c26d177",
   "metadata": {},
   "source": [
    "## Visualise"
   ]
  },
  {
   "cell_type": "code",
   "execution_count": null,
   "id": "4e15661d",
   "metadata": {
    "scrolled": true
   },
   "outputs": [],
   "source": [
    "# add_plot(missing_data_instance)"
   ]
  }
 ],
 "metadata": {
  "kernelspec": {
   "display_name": "Python 3 (ipykernel)",
   "language": "python",
   "name": "python3"
  },
  "language_info": {
   "codemirror_mode": {
    "name": "ipython",
    "version": 3
   },
   "file_extension": ".py",
   "mimetype": "text/x-python",
   "name": "python",
   "nbconvert_exporter": "python",
   "pygments_lexer": "ipython3",
   "version": "3.9.6"
  }
 },
 "nbformat": 4,
 "nbformat_minor": 5
}
