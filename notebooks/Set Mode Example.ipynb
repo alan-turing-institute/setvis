{
 "cells": [
  {
   "cell_type": "code",
   "execution_count": null,
   "id": "71870895",
   "metadata": {},
   "outputs": [],
   "source": [
    "import pandas as pd\n",
    "from pathlib import Path\n",
    "\n",
    "from pace import Membership\n",
    "from pace.plots import PlotSession"
   ]
  },
  {
   "cell_type": "markdown",
   "id": "233417a3",
   "metadata": {},
   "source": [
    "## Import data"
   ]
  },
  {
   "cell_type": "code",
   "execution_count": null,
   "id": "7b00e37c",
   "metadata": {},
   "outputs": [],
   "source": [
    "filename = \"simpsons - Format 1.csv\"\n",
    "path = Path.cwd().parent / \"examples\" / \"datasets\" / filename\n",
    "df = pd.read_csv(path, low_memory=False)\n",
    "\n",
    "path2 = Path.cwd().parent / \"examples\" / \"datasets\" / \"Synthetic_APC_DIAG_Fields.csv\"\n",
    "df2 = pd.read_csv(path2, low_memory=False)"
   ]
  },
  {
   "cell_type": "markdown",
   "id": "691e78bd",
   "metadata": {},
   "source": [
    "## Compute set intersections"
   ]
  },
  {
   "cell_type": "code",
   "execution_count": null,
   "id": "c8ca3508",
   "metadata": {},
   "outputs": [],
   "source": [
    "m_set = Membership.from_data_frame(df, set_mode=True)\n",
    "labels = m_set.columns()"
   ]
  },
  {
   "cell_type": "code",
   "execution_count": null,
   "id": "89d6c091",
   "metadata": {},
   "outputs": [],
   "source": [
    "m = Membership.from_data_frame(df2)"
   ]
  },
  {
   "cell_type": "code",
   "execution_count": null,
   "id": "ab5a0d8c",
   "metadata": {},
   "outputs": [],
   "source": [
    "counts = m_set.count_intersections()\n",
    "counts[\"empty\"] = m_set.empty_intersection()\n",
    "counts"
   ]
  },
  {
   "cell_type": "markdown",
   "id": "e449dd64",
   "metadata": {},
   "source": [
    "## Test plots"
   ]
  },
  {
   "cell_type": "markdown",
   "id": "fe52db12",
   "metadata": {},
   "source": [
    "### Set bar chart\n",
    "\n",
    "What is a set? \n",
    "\n",
    "Looking at the _Set Bar Chart_ in ACE, the sets on the x-axis correspond to the fields/columns in the dataset that start with _category@_ ."
   ]
  },
  {
   "cell_type": "code",
   "execution_count": null,
   "id": "779df802",
   "metadata": {},
   "outputs": [],
   "source": [
    "session_set = PlotSession(df, set_mode=True)"
   ]
  },
  {
   "cell_type": "code",
   "execution_count": null,
   "id": "58ebfb9f",
   "metadata": {},
   "outputs": [],
   "source": [
    "session = PlotSession(df2)"
   ]
  },
  {
   "cell_type": "code",
   "execution_count": null,
   "id": "f4aed53b",
   "metadata": {},
   "outputs": [],
   "source": [
    "session_set.add_plot(name=\"a\")"
   ]
  },
  {
   "cell_type": "code",
   "execution_count": null,
   "id": "9f78353f",
   "metadata": {},
   "outputs": [],
   "source": [
    "session.add_plot(name=\"a\")"
   ]
  }
 ],
 "metadata": {
  "kernelspec": {
   "display_name": "Python 3 (ipykernel)",
   "language": "python",
   "name": "python3"
  },
  "language_info": {
   "codemirror_mode": {
    "name": "ipython",
    "version": 3
   },
   "file_extension": ".py",
   "mimetype": "text/x-python",
   "name": "python",
   "nbconvert_exporter": "python",
   "pygments_lexer": "ipython3",
   "version": "3.8.2"
  }
 },
 "nbformat": 4,
 "nbformat_minor": 5
}
