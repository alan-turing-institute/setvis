{
 "cells": [
  {
   "cell_type": "code",
   "execution_count": null,
   "id": "8d7a3ac0",
   "metadata": {},
   "outputs": [],
   "source": [
    "import numpy as np\n",
    "import pandas as pd\n",
    "from bokeh.plotting import figure, show\n",
    "from bokeh.io import output_notebook\n",
    "from bokeh.models import ColumnDataSource, LinearColorMapper, tools, CustomJS\n",
    "from bokeh.palettes import Oranges256\n",
    "from bokeh.transform import transform\n",
    "\n",
    "output_notebook(hide_banner=True)"
   ]
  },
  {
   "cell_type": "code",
   "execution_count": null,
   "id": "b9554286",
   "metadata": {},
   "outputs": [],
   "source": [
    "data = pd.read_csv('../data/test_data_merged_10000.csv')\n",
    "data"
   ]
  },
  {
   "cell_type": "code",
   "execution_count": null,
   "id": "96a99c0d",
   "metadata": {},
   "outputs": [],
   "source": [
    "counts = data.isnull().sum().reset_index(name='Sum')\n",
    "# counts['index']\n",
    "counts"
   ]
  },
  {
   "cell_type": "code",
   "execution_count": null,
   "id": "54559138",
   "metadata": {},
   "outputs": [],
   "source": [
    "source = ColumnDataSource(data=counts)\n",
    "TOOLS = \"box_select, tap\"\n",
    "\n",
    "# horizontal bar plot\n",
    "# p = figure(title=\"Missing by column\", y_range=counts['index'], width=960, height=960)\n",
    "# p.hbar(y='index', right='Sum', source=source)\n",
    "# p.xaxis.axis_label = \"Count of missing\"\n",
    "\n",
    "# vertical bar plot\n",
    "p = figure(title=\"Missing by column\", x_range=counts['index'], tools=TOOLS, width=960, height=960)\n",
    "p.vbar(x='index', top='Sum', source=source)\n",
    "p.xaxis.major_label_orientation = 'vertical'\n",
    "p.yaxis.axis_label = \"Count of missing\"\n",
    "\n",
    "# TODO: get indices of selection\n",
    "\n",
    "\n",
    "show(p)"
   ]
  },
  {
   "cell_type": "code",
   "execution_count": null,
   "id": "7ac9c1a7",
   "metadata": {},
   "outputs": [],
   "source": [
    "data_missingness = data.isnull()\n",
    "data_missingness = data_missingness.groupby(list(data_missingness)).size().reset_index(name='Count')\n",
    "data_missingness = data_missingness.multiply(data_missingness['Count'], axis='index').loc[:, data_missingness.columns != 'Count']\n",
    "data_missingness = data_missingness.reset_index()\n",
    "data_missingness_long = pd.melt(data_missingness, id_vars=['index'])\n",
    "\n",
    "source2 = ColumnDataSource(data_missingness_long)\n",
    "\n",
    "data_missingness"
   ]
  },
  {
   "cell_type": "code",
   "execution_count": null,
   "id": "73cfe923",
   "metadata": {},
   "outputs": [],
   "source": [
    "pal = list(reversed(Oranges256))\n",
    "pal[0] = '#FF000000'\n",
    "colourmap = LinearColorMapper(palette=pal, low=0, high=data_missingness_long['value'].max())\n",
    "p2 = figure(title=\"Missingness pattern\", width=960, height=960, y_range=list(data_missingness), x_range=[str(idx) for idx in list(data_missingness.index)])\n",
    "p2.background_fill_color = '#FFFFFF'\n",
    "p2.grid.visible = False\n",
    "p2.rect(y='variable', x='index', source=source2, width=1.05, height=1.05, fill_color=transform('value', colourmap), \n",
    "        line_color=None)\n",
    "show(p2)"
   ]
  }
 ],
 "metadata": {
  "kernelspec": {
   "display_name": "Python 3 (ipykernel)",
   "language": "python",
   "name": "python3"
  },
  "language_info": {
   "codemirror_mode": {
    "name": "ipython",
    "version": 3
   },
   "file_extension": ".py",
   "mimetype": "text/x-python",
   "name": "python",
   "nbconvert_exporter": "python",
   "pygments_lexer": "ipython3",
   "version": "3.8.2"
  }
 },
 "nbformat": 4,
 "nbformat_minor": 5
}
