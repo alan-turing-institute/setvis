{
 "cells": [
  {
   "cell_type": "markdown",
   "id": "db31c59c",
   "metadata": {},
   "source": [
    "# Random notes\n",
    " - tap and box select tool: holding `shift` while clicking on bars allows you to select several bars"
   ]
  },
  {
   "cell_type": "code",
   "execution_count": null,
   "id": "8d7a3ac0",
   "metadata": {},
   "outputs": [],
   "source": [
    "import numpy as np\n",
    "import pandas as pd\n",
    "from bokeh.plotting import figure, show\n",
    "from bokeh.io import output_notebook\n",
    "from bokeh.models import ColumnDataSource, LinearColorMapper, tools, CustomJS\n",
    "from bokeh.palettes import Oranges256\n",
    "from bokeh.transform import transform\n",
    "\n",
    "output_notebook(hide_banner=True)"
   ]
  },
  {
   "cell_type": "code",
   "execution_count": null,
   "id": "b9554286",
   "metadata": {},
   "outputs": [],
   "source": [
    "data = pd.read_csv('../data/test_data_merged_10000.csv')\n",
    "data"
   ]
  },
  {
   "cell_type": "code",
   "execution_count": null,
   "id": "96a99c0d",
   "metadata": {},
   "outputs": [],
   "source": [
    "counts = data.isnull().sum().reset_index(name='Sum')\n",
    "# counts['index']\n",
    "counts"
   ]
  },
  {
   "cell_type": "code",
   "execution_count": null,
   "id": "54559138",
   "metadata": {},
   "outputs": [],
   "source": [
    "source = ColumnDataSource(data=counts)\n",
    "TOOLS = \"box_select, tap, reset\"\n",
    "\n",
    "# horizontal bar plot\n",
    "# p = figure(title=\"Missing by column\", y_range=counts['index'], width=960, height=960)\n",
    "# p.hbar(y='index', right='Sum', source=source)\n",
    "# p.xaxis.axis_label = \"Count of missing\"\n",
    "\n",
    "# vertical bar plot\n",
    "width = 0.5 # width of bars \n",
    "p = figure(title=\"Value bar chart\", x_range=counts['index'], tools=TOOLS, width=960, height=960)\n",
    "p.vbar(x='index', top='Sum', width=width, source=source)\n",
    "p.xaxis.major_label_orientation = 'vertical'\n",
    "p.yaxis.axis_label = \"Number of missing values\"\n",
    "\n",
    "# make a custom javascript callback that exports the indices of the selected points to the Jupyter notebook\n",
    "callback = CustomJS(args=dict(source=source), \n",
    "                    code=\"\"\"\n",
    "                         console.log('Running CustomJS callback now.');\n",
    "                         var indices = source.selected.indices;\n",
    "                         var data = source.selected.data;\n",
    "                         var kernel = IPython.notebook.kernel;\n",
    "                         kernel.execute(\"selected_indices = \" + indices)\n",
    "                         \"\"\")\n",
    "\n",
    "# set the callback to run when a selection geometry event occurs in the figure\n",
    "p.js_on_event('selectiongeometry', callback)\n",
    "\n",
    "show(p)"
   ]
  },
  {
   "cell_type": "code",
   "execution_count": null,
   "id": "1ace5938",
   "metadata": {},
   "outputs": [],
   "source": [
    "# get data of selection\n",
    "# TODO: list(...) problem when only selecting one bar\n",
    "# list_selected_indices = list(selected_indices)\n",
    "# selected_data = counts.iloc[list_selected_indices]\n",
    "# selected_data\n",
    "# selected_indices"
   ]
  },
  {
   "cell_type": "code",
   "execution_count": null,
   "id": "4d23cd52",
   "metadata": {},
   "outputs": [],
   "source": [
    "data"
   ]
  },
  {
   "cell_type": "code",
   "execution_count": null,
   "id": "7ac9c1a7",
   "metadata": {},
   "outputs": [],
   "source": [
    "data_missingness = data.isnull()\n",
    "data_missingness = data_missingness.groupby(list(data_missingness)).size().reset_index(name='Count')\n",
    "data_missingness = data_missingness.multiply(data_missingness['Count'], axis='index').loc[:, data_missingness.columns != 'Count']\n",
    "data_missingness = data_missingness.reset_index()\n",
    "data_missingness_long = pd.melt(data_missingness, id_vars=['index'])\n",
    "\n",
    "source2 = ColumnDataSource(data_missingness_long)\n"
   ]
  },
  {
   "cell_type": "code",
   "execution_count": null,
   "id": "73cfe923",
   "metadata": {},
   "outputs": [],
   "source": [
    "pal = list(reversed(Oranges256))\n",
    "pal[0] = '#FF000000'\n",
    "colourmap = LinearColorMapper(palette=pal, low=0, high=data_missingness_long['value'].max())\n",
    "p2 = figure(title=\"Missingness pattern\", width=960, height=960, y_range=list(data_missingness), x_range=[str(idx) for idx in list(data_missingness.index)])\n",
    "p2.background_fill_color = '#FFFFFF'\n",
    "p2.grid.visible = False\n",
    "p2.rect(y='variable', x='index', source=source2, width=1.05, height=1.05, fill_color=transform('value', colourmap), \n",
    "        line_color=None)\n",
    "show(p2)"
   ]
  }
 ],
 "metadata": {
  "kernelspec": {
   "display_name": "Python 3 (ipykernel)",
   "language": "python",
   "name": "python3"
  },
  "language_info": {
   "codemirror_mode": {
    "name": "ipython",
    "version": 3
   },
   "file_extension": ".py",
   "mimetype": "text/x-python",
   "name": "python",
   "nbconvert_exporter": "python",
   "pygments_lexer": "ipython3",
   "version": "3.8.2"
  }
 },
 "nbformat": 4,
 "nbformat_minor": 5
}
