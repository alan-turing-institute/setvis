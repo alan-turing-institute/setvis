{
 "cells": [
  {
   "cell_type": "code",
   "execution_count": null,
   "id": "d2c31677",
   "metadata": {},
   "outputs": [],
   "source": [
    "from pace.plots import *"
   ]
  },
  {
   "cell_type": "code",
   "execution_count": null,
   "id": "0687bc90",
   "metadata": {},
   "outputs": [],
   "source": [
    "df = pd.read_csv(\"../examples/datasets/Synthetic_APC_DIAG_Fields.csv\")"
   ]
  },
  {
   "cell_type": "code",
   "execution_count": null,
   "id": "f3f6209f",
   "metadata": {},
   "outputs": [],
   "source": [
    "session = PlotSession(df)"
   ]
  },
  {
   "cell_type": "code",
   "execution_count": null,
   "id": "09c59044",
   "metadata": {
    "scrolled": false
   },
   "outputs": [],
   "source": [
    "session.add_plot(name=\"Plot 1\", height=960, output_backend=\"svg\")"
   ]
  },
  {
   "cell_type": "code",
   "execution_count": null,
   "id": "9732b0c4",
   "metadata": {
    "scrolled": false
   },
   "outputs": [],
   "source": [
    "session.add_plot(name=\"Plot 2\", based_on=\"Plot 1\", notebook=False)"
   ]
  },
  {
   "cell_type": "code",
   "execution_count": null,
   "id": "df4c347d",
   "metadata": {},
   "outputs": [],
   "source": [
    "sum(session.selected_records(\"Plot 2\"))"
   ]
  }
 ],
 "metadata": {
  "kernelspec": {
   "display_name": "Python 3 (ipykernel)",
   "language": "python",
   "name": "python3"
  },
  "language_info": {
   "codemirror_mode": {
    "name": "ipython",
    "version": 3
   },
   "file_extension": ".py",
   "mimetype": "text/x-python",
   "name": "python",
   "nbconvert_exporter": "python",
   "pygments_lexer": "ipython3",
   "version": "3.8.2"
  }
 },
 "nbformat": 4,
 "nbformat_minor": 5
}
