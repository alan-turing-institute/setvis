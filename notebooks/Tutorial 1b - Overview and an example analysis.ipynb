{
 "cells": [
  {
   "cell_type": "markdown",
   "id": "f2662b53",
   "metadata": {},
   "source": [
    "# PACE Tutorial 1b: Analysing Missingness in Synthetic APC Data – Interactive selection (IGR version)"
   ]
  },
  {
   "cell_type": "markdown",
   "id": "e31edfba",
   "metadata": {},
   "source": [
    "## Introduction"
   ]
  },
  {
   "cell_type": "markdown",
   "id": "2ef2c293",
   "metadata": {},
   "source": [
    "This tutorial example focuses on the high-level functionality of PACE and uses a synthetic dataset that mirrors the missingness patterns that were found in an extract of an Admitted Patient Care (APC) dataset from Hospital Episode Statistics (HES).\n",
    "\n",
    "**Objectives for this tutorial:**\n",
    "  - Get a basic overview of PACE functionality for exploring missingness in data\n",
    "  - Introduction to the interactive workflow and `PlotSession`\n",
    "  - Explain unexpected patterns of missing data by using data mining techniques"
   ]
  },
  {
   "cell_type": "markdown",
   "id": "2a20ef68",
   "metadata": {},
   "source": [
    "<div class=\"alert alert-success\"><b>Note: </b>To produce the expected results, this tutorial notebook requires you to interact with it in a few places.  When this is necessary, a box like this will let you know.\n",
    "\n",
    "Given the partly interactive nature, this notebook is intended to be executed **cell by cell**. If you run the whole notbook in one go, you won't get the expected results.\n",
    "</div>"
   ]
  },
  {
   "cell_type": "markdown",
   "id": "858f7215",
   "metadata": {},
   "source": [
    "<div class=\"alert alert-info\"><b>Solution: </b>After an interactive part, you will find a box like this before the cells that contain hints or solutions.</div>"
   ]
  },
  {
   "cell_type": "markdown",
   "id": "580bcf98",
   "metadata": {},
   "source": [
    "## Preamble"
   ]
  },
  {
   "cell_type": "markdown",
   "id": "69ba3e19",
   "metadata": {},
   "source": [
    "### Includes: PACE and other libraries"
   ]
  },
  {
   "cell_type": "code",
   "execution_count": null,
   "id": "9a18e4b9",
   "metadata": {},
   "outputs": [],
   "source": [
    "# For this tutorial, we only need the 'PlotSession' class, from the setvis.plots module\n",
    "from setvis.plots import PlotSession\n",
    "\n",
    "import pandas as pd\n",
    "import numpy as np\n",
    "import matplotlib.pyplot as plt\n",
    "\n",
    "from sklearn import tree, preprocessing\n",
    "from sklearn.metrics import mutual_info_score"
   ]
  },
  {
   "cell_type": "markdown",
   "id": "7d58911e",
   "metadata": {},
   "source": [
    "### Loading the data"
   ]
  },
  {
   "cell_type": "markdown",
   "id": "1551c5fa",
   "metadata": {},
   "source": [
    "Read the data into a Pandas dataframe, which can be read by PACE to explore the missingness of the data."
   ]
  },
  {
   "cell_type": "code",
   "execution_count": null,
   "id": "14e11256",
   "metadata": {},
   "outputs": [],
   "source": [
    "df = pd.read_csv(\"../examples/datasets/Synthetic_APC_DIAG_Fields.csv\")"
   ]
  },
  {
   "cell_type": "code",
   "execution_count": null,
   "id": "ec13c947",
   "metadata": {},
   "outputs": [],
   "source": [
    "df.tail()"
   ]
  },
  {
   "cell_type": "markdown",
   "id": "1ecf8fa8",
   "metadata": {},
   "source": [
    "## PACE Plotting session"
   ]
  },
  {
   "cell_type": "markdown",
   "id": "7a60af08",
   "metadata": {},
   "source": [
    "The first step of use PACE is to create a `PlotSession` object.  \n",
    "\n",
    "`PlotSession` is the core PACE class that provides the functionality to analyse and explore the missingness patterns found in a dataset. This can be done:\n",
    "  - **programatically**, via several methods of the class;\n",
    "  - with several **interactive plots** designed for use within a Jupyter notebook;\n",
    "  - using a combination of these modes.\n",
    "\n",
    "As this tutorial example will show, a `PlotSession` can be used to slice and select data and to create interactive plots. Moreover, the current session (including the interactive selections and active plots) can be saved and re-loaded, so that these do not have to be re-made when the notebook is restarted or shared."
   ]
  },
  {
   "cell_type": "markdown",
   "id": "4e07a87d",
   "metadata": {},
   "source": [
    "A `PlotSession` can be constructed from a Pandas dataframe, as shown in the cell below:"
   ]
  },
  {
   "cell_type": "code",
   "execution_count": null,
   "id": "022956f7",
   "metadata": {},
   "outputs": [],
   "source": [
    "session = PlotSession(df)"
   ]
  },
  {
   "cell_type": "markdown",
   "id": "139dab48",
   "metadata": {},
   "source": [
    "To visualise the dataset, call `PlotSession.add_plot`, providing a name.\n",
    "\n",
    "Naming the plot is important: It allows any interactive selection made in the plot to be referred to later.\n",
    "\n",
    "The result is a [Bokeh](https://docs.bokeh.org/en/latest/index.html) widget with a number of tabs, each with a different visualisation of the data missingness."
   ]
  },
  {
   "cell_type": "markdown",
   "id": "27c582c1",
   "metadata": {},
   "source": [
    "The tab that is selected when a plot is first added is the **Value bar chart**. It displays the number of missing values (y-axis) in each column (x-axis). Like any other visualization in PACE, it supports interactive selections via the tap tool (left-click or `Shift` + left-click) and via box selection (click, drag and release).\n",
    "In case of our APC dataset, this chart shows us that, as expected, the primary diagnosis field (`DIAG_01`) and the five categorical fields (admission age (`ADMIAGE`), admission method (`ADMIMETH`), mortality status (`MORTALITY`), health care provider (`PROCODE3`) and patient's sex (`SEX`)) are never missing. Further, the secondary diagnosis fields are missing progressively more often from `DIAG_02` to `DIAG_10`."
   ]
  },
  {
   "cell_type": "code",
   "execution_count": null,
   "id": "c5e3d39d",
   "metadata": {},
   "outputs": [],
   "source": [
    "session.add_plot(name=\"all data\")"
   ]
  },
  {
   "cell_type": "markdown",
   "id": "cfe5d7f8",
   "metadata": {},
   "source": [
    "## Making a selection\n",
    "\n",
    "To investigate missingness, we have a closer look at the **Combination heatmap**. First we make a new plot and call it \"combinations\" and switch to the heatmap tab. \n",
    "The Combination heatmap displays a matrix of fields on the x-axis and the missing combinations on the y-axis. The number of records that are associated with each missing combination is encoded using a sequential colour\n",
    "map (darker color indicates that a combination is missing more often)."
   ]
  },
  {
   "cell_type": "markdown",
   "id": "d0903d53",
   "metadata": {},
   "source": [
    "It is expected in this dataset that if any diagnosis field from `DIAG_02` to `DIAG_10` is missing then all of\n",
    "the subsequent diagnosis fields should also be missing. The Combination Heatmap above highlights that\n",
    "this is indeed true for most of the missing records. However, there are also 7 unexpected missing combinations, which have gaps in the diagnosis fields."
   ]
  },
  {
   "cell_type": "markdown",
   "id": "499d4a44",
   "metadata": {},
   "source": [
    "<div class=\"alert alert-success\"><b>Try it</b>: \n",
    "<ul>\n",
    "  <li> Run the code cell below and switch to the 'Combination heatmap' tab.\n",
    "  <li> Use one of the interactive tools to select all rows (combinations) that have unexpected gaps.</li>\n",
    "</ul>\n",
    "\n",
    "</div>"
   ]
  },
  {
   "cell_type": "code",
   "execution_count": null,
   "id": "dee48bc9",
   "metadata": {},
   "outputs": [],
   "source": [
    "session.add_plot(name=\"combinations\")"
   ]
  },
  {
   "cell_type": "markdown",
   "id": "995a38d4",
   "metadata": {},
   "source": [
    "<div class=\"alert alert-block alert-info\"> <b>Solution:</b> If you made the suggested selection, the plot will look like the solution below. </div>"
   ]
  },
  {
   "cell_type": "markdown",
   "id": "ff496685",
   "metadata": {},
   "source": [
    "The following PlotSession is pre-populated with the suggested selection of combinations for the \"combination\" heatmap plot."
   ]
  },
  {
   "cell_type": "code",
   "execution_count": null,
   "id": "ebd26fde",
   "metadata": {},
   "outputs": [],
   "source": [
    "# load solution\n",
    "session_solution = PlotSession(df, session_file=\"tutorial_example_session_solution.json\")\n",
    "# plot solution\n",
    "session_solution.add_plot(name=\"combinations\")"
   ]
  },
  {
   "cell_type": "markdown",
   "id": "dcda28f0",
   "metadata": {},
   "source": [
    "We can retrieve the records present in the selection with `PlotSession.selected_records()`, passing the name of the selection.  Recall that our plot was named \"combinations\".\n",
    "\n",
    "Notice that:\n",
    "  - Even though we selected particular *missingness combinations* in the plot, `selected_records()` returns the indices of *records* in the dataframe that are present in the selection.  The indices returned refer to the original dataframe (`df` in our case).\n",
    "  - The function takes a name of a selection as its argument: in this case it is the name of the plot where the selection was made."
   ]
  },
  {
   "cell_type": "code",
   "execution_count": null,
   "id": "cca7df54",
   "metadata": {},
   "outputs": [],
   "source": [
    "gaps = session.selected_records(\"combinations\")"
   ]
  },
  {
   "cell_type": "markdown",
   "id": "aa6632e0",
   "metadata": {},
   "source": [
    "`selected_records()` returns a boolean Pandas series which is `True` when the record is included in the selection and `False` otherwise:"
   ]
  },
  {
   "cell_type": "code",
   "execution_count": null,
   "id": "33a3563d",
   "metadata": {},
   "outputs": [],
   "source": [
    "gaps"
   ]
  },
  {
   "cell_type": "markdown",
   "id": "34ad75fa",
   "metadata": {},
   "source": [
    "<div class=\"alert alert-block alert-info\"> <b>Solution:</b> Check if you made the right selection by running the next code cell. </div>"
   ]
  },
  {
   "cell_type": "code",
   "execution_count": null,
   "id": "59ed3b12",
   "metadata": {},
   "outputs": [],
   "source": [
    "solution_gaps = session_solution.selected_records(\"combinations\")\n",
    "# try:\n",
    "if (solution_gaps == gaps).all():\n",
    "    print(f\"Correct selection. {sum(gaps)} of {len(gaps)} records are included in the selection.\")\n",
    "else:\n",
    "    print(f\"\"\"*** ERROR *** \n",
    "You have not made the correct selection because it should contain {sum(solution_gaps)} records. Try it again.\n",
    "\"\"\")"
   ]
  },
  {
   "cell_type": "markdown",
   "id": "b373ca9d",
   "metadata": {},
   "source": [
    "We can extract the full records that correspond to the selection from the original Pandas dataframe straightforwardly, if required:"
   ]
  },
  {
   "cell_type": "code",
   "execution_count": null,
   "id": "42b02e94",
   "metadata": {},
   "outputs": [],
   "source": [
    "df[gaps]"
   ]
  },
  {
   "cell_type": "markdown",
   "id": "5788a53a",
   "metadata": {},
   "source": [
    "## Explaining unexpected missing combinations – Data mining\n",
    "\n",
    "This section contains an example of how PACE can be combined with data mining methods to gain further insight into the missing data.\n",
    "\n",
    "We will attempt to fit a decision tree in order to explain the anomalous missingness patterns (the 'gaps' identified above) in terms of several explanatory variables."
   ]
  },
  {
   "cell_type": "code",
   "execution_count": null,
   "id": "dbe21774",
   "metadata": {},
   "outputs": [],
   "source": [
    "extra_columns = ['ADMIAGE','ADMIMETH','Mortality','PROCODE3','SEX']"
   ]
  },
  {
   "cell_type": "markdown",
   "id": "832d9028",
   "metadata": {},
   "source": [
    "In order to use sklearn's decision tree classifier, we must one-hot encode some of the categorical variables. `SEX` and `MORTALITY` only contain two classes, so we do not need to encode these:"
   ]
  },
  {
   "cell_type": "code",
   "execution_count": null,
   "id": "7f09c6c5",
   "metadata": {},
   "outputs": [],
   "source": [
    "df_enc = pd.get_dummies(df[extra_columns], columns = [\"PROCODE3\", \"ADMIMETH\"])\n",
    "df_enc"
   ]
  },
  {
   "cell_type": "markdown",
   "id": "58fa6f61",
   "metadata": {},
   "source": [
    "We fit the decision tree classifier in the cell below: the target 'gaps' indicating whether the record has one of the identified missingness patterns.  The \"entropy\" criterion means that maximising information gain (or mutual information) is used to choose the split at each node in the tree."
   ]
  },
  {
   "cell_type": "code",
   "execution_count": null,
   "id": "1faab4f5",
   "metadata": {},
   "outputs": [],
   "source": [
    "def decision_tree(features, target, depth=2):\n",
    "    clf = tree.DecisionTreeClassifier(\n",
    "        max_depth=depth,\n",
    "        criterion=\"entropy\",\n",
    "    )\n",
    "    return clf.fit(features, target)"
   ]
  },
  {
   "cell_type": "code",
   "execution_count": null,
   "id": "e8ab0c4f",
   "metadata": {},
   "outputs": [],
   "source": [
    "clf = decision_tree(features=df_enc, target=gaps)"
   ]
  },
  {
   "cell_type": "markdown",
   "id": "9b595e7c",
   "metadata": {},
   "source": [
    "The tree can be visualised as in the cell below (requires Graphviz):"
   ]
  },
  {
   "cell_type": "code",
   "execution_count": null,
   "id": "1835d0d8",
   "metadata": {},
   "outputs": [],
   "source": [
    "def visualise_tree(clf, features):\n",
    "    tree.plot_tree(\n",
    "        clf,\n",
    "        feature_names=list(features),\n",
    "        filled=True,\n",
    "    )"
   ]
  },
  {
   "cell_type": "code",
   "execution_count": null,
   "id": "b27d1854",
   "metadata": {},
   "outputs": [],
   "source": [
    "visualise_tree(clf, df_enc)"
   ]
  },
  {
   "cell_type": "markdown",
   "id": "7924e57d",
   "metadata": {},
   "source": [
    "<div class=\"alert alert-block alert-info\"> <b>Solution:</b> If you made the suggested selection from the combination heatmap, you should have obtained the following values for the IGR of each column. </div>"
   ]
  },
  {
   "cell_type": "code",
   "execution_count": null,
   "id": "c5e888ba",
   "metadata": {},
   "outputs": [],
   "source": [
    "# plot of the decision tree for the solution data\n",
    "\n",
    "solution_clf = decision_tree(df_enc, solution_gaps)\n",
    "visualise_tree(solution_clf, df_enc)"
   ]
  },
  {
   "cell_type": "markdown",
   "id": "706e63bc",
   "metadata": {},
   "source": [
    "## Identifying the cause of the missing data for a particular combination\n",
    "\n",
    "Next, we want to learn more about the cause of the unexpected missingness. For this, we visualise only the data records with unexpected gaps that we identified earlier.\n",
    "\n",
    "Note how the plots we obtain in doing so highlight a very different pattern of missingness compared to the visualisation of the full missing data.\n",
    "\n",
    "We select the most common missing combination from the heatmap, retrieve the corresponding records and apply data mining methods on them."
   ]
  },
  {
   "cell_type": "markdown",
   "id": "64294be9",
   "metadata": {},
   "source": [
    "<div class=\"alert alert-success\"><b>Try it:</b><br />\n",
    "Run the code cell below and in the plot that pops up do the following:\n",
    "<ul>\n",
    "  <li> Select the 'Combination heatmap' tab\n",
    "  <li> Use one of the interactive tools to select the most common combination (the row with the darkest coloured boxes in the heatmap)</li>\n",
    "</ul>\n",
    "</div>"
   ]
  },
  {
   "cell_type": "code",
   "execution_count": null,
   "id": "632e07fa",
   "metadata": {},
   "outputs": [],
   "source": [
    "session.add_plot(name=\"gaps\", based_on=\"combinations\")"
   ]
  },
  {
   "cell_type": "markdown",
   "id": "8bc24b9c",
   "metadata": {},
   "source": [
    "<div class=\"alert alert-block alert-info\"> <b>Solution:</b> If you selected the suggested most common combination, your plot should match the one below. </div>"
   ]
  },
  {
   "cell_type": "code",
   "execution_count": null,
   "id": "a2651daf",
   "metadata": {
    "scrolled": false
   },
   "outputs": [],
   "source": [
    "# solution plot\n",
    "session_solution.add_plot(name=\"gaps\", based_on=\"combinations\")"
   ]
  },
  {
   "cell_type": "markdown",
   "id": "b34f4dec",
   "metadata": {},
   "source": [
    "Having selected the most common combination with unexpected missingness pattern, we can recover the corresponding records."
   ]
  },
  {
   "cell_type": "code",
   "execution_count": null,
   "id": "33b47f72",
   "metadata": {},
   "outputs": [],
   "source": [
    "gaps_most_freq = session.selected_records(\"gaps\", base_selection=\"combinations\")"
   ]
  },
  {
   "cell_type": "markdown",
   "id": "d62e632d",
   "metadata": {},
   "source": [
    "<div class=\"alert alert-block alert-info\"> <b>Solution:</b> Check if you made the right selection by running the next code cell. </div>"
   ]
  },
  {
   "cell_type": "code",
   "execution_count": null,
   "id": "77772320",
   "metadata": {},
   "outputs": [],
   "source": [
    "# solution records for most common gap\n",
    "gaps_most_freq_solution = session_solution.selected_records(\"gaps\", base_selection=\"combinations\")\n",
    "try:\n",
    "    if (gaps_most_freq == gaps_most_freq_solution).all():\n",
    "        print(f\"Correct selection.\")\n",
    "except:\n",
    "    print(f\"*** ERROR *** You have not made the correct selection because it should contain {sum(gaps_most_freq_solution)} records. Try it again.\")"
   ]
  },
  {
   "cell_type": "markdown",
   "id": "fd464c4a",
   "metadata": {},
   "source": [
    "### Decision tree\n",
    "\n",
    "With the above data, we can attempt to explain the most frequent combination with gaps.\n",
    "\n",
    "We start with the same approach as before, and attempt to fit a decision tree.\n",
    "\n",
    "There are, in fact, a number of criteria that allow a perfect split in the decision tree. The tree below will show one of these (which may change when re-run!)\n",
    "\n",
    "See the next section for another approach."
   ]
  },
  {
   "cell_type": "code",
   "execution_count": null,
   "id": "96f20757",
   "metadata": {},
   "outputs": [],
   "source": [
    "clf_freq = decision_tree(df_enc[gaps], gaps_most_freq)\n",
    "\n",
    "visualise_tree(clf_freq, df_enc)"
   ]
  },
  {
   "cell_type": "markdown",
   "id": "0ccdd1d0",
   "metadata": {},
   "source": [
    "## Helper function"
   ]
  },
  {
   "cell_type": "markdown",
   "id": "6b04eeb6",
   "metadata": {},
   "source": [
    "For the next section, we will need the following helper function.\n",
    "\n",
    "The details of the implementation are not important for this tutorial."
   ]
  },
  {
   "cell_type": "code",
   "execution_count": null,
   "id": "c6ad3aad",
   "metadata": {},
   "outputs": [],
   "source": [
    "def entropy_table(feature: pd.Series, target: pd.Series) -> pd.DataFrame:\n",
    "    \"\"\"\n",
    "    Calculate the entropy for a given feature.\n",
    "    \n",
    "    Parameters\n",
    "    ----------\n",
    "    feature: pd.Series\n",
    "        The features for which the entropy will be calculated\n",
    "    target: pd.Series\n",
    "        The target for which the entropy given the feature will be calculated\n",
    "    Returns\n",
    "    -------\n",
    "    pd.DataFrame\n",
    "        Returns number of records with a particular feature value (count), how many of these records \n",
    "        are in the target class (sum) and the entropy.\n",
    "    \"\"\"\n",
    "    df_target = pd.DataFrame({\n",
    "        feature.name: feature,\n",
    "        \"_target\": target,\n",
    "    })\n",
    "    df_split = (\n",
    "        df_target\n",
    "        .groupby(feature.name)\n",
    "        .agg({\"_target\": [\"sum\", \"count\"]})\n",
    "        .rename(columns={\n",
    "            \"count\":\"Total records\",\n",
    "            \"sum\":\"Records including selected\"\n",
    "        })\n",
    "    )\n",
    "\n",
    "    df_split[(\"_target\", \"Records not including selected\")] = (\n",
    "        df_split[(\"_target\", \"Total records\")] - df_split[(\"_target\", \"Records including selected\")]\n",
    "    )\n",
    "    \n",
    "    df_split[(\"_target\", \"p\")] = (\n",
    "        df_split[(\"_target\", \"Records including selected\")] / df_split[(\"_target\", \"Total records\")]\n",
    "    )\n",
    "\n",
    "    p = df_split[(\"_target\", \"p\")]\n",
    "    df_split[(\"_target\", \"Entropy\")] = (p * np.log(1/p)).fillna(0.0)\n",
    "\n",
    "    df_split.columns = df_split.columns.get_level_values(1)\n",
    "\n",
    "    return df_split[[\"Total records\", \"Records including selected\", \"Records not including selected\", \"Entropy\"]]"
   ]
  },
  {
   "cell_type": "markdown",
   "id": "c2e0c9fc",
   "metadata": {},
   "source": [
    "## Conditional entropy"
   ]
  },
  {
   "cell_type": "markdown",
   "id": "8269e845",
   "metadata": {},
   "source": [
    "We compute the entropy of each admission method, i.e. each value in the field `ADMIMETH`, for the selected missing combination `gaps_most_freq`, using the provided function `entropy_table()`."
   ]
  },
  {
   "cell_type": "markdown",
   "id": "98c6e110",
   "metadata": {},
   "source": [
    "In each row of the entropy table, `Total records` contains the number of records that have this particular feature value (here admission method). The column `Records including selected` indicates how many of these records are included in our selection, i.e. in our case have the most common combination with unexpected missingness pattern.\n",
    "\n",
    "Inspecting `Records including selected` reveals that all 6 records with the selected unexpected missing combination have the same admission method."
   ]
  },
  {
   "cell_type": "code",
   "execution_count": null,
   "id": "02ee86f1",
   "metadata": {},
   "outputs": [],
   "source": [
    "entropy_table(df.loc[gaps, \"ADMIMETH\"], gaps_most_freq)"
   ]
  },
  {
   "cell_type": "markdown",
   "id": "d3cbcdb0",
   "metadata": {},
   "source": [
    "<div class=\"alert alert-block alert-info\"> <b>Solution:</b> Your entropy table given the feature ADMIMETH should look like this. </div>"
   ]
  },
  {
   "cell_type": "code",
   "execution_count": null,
   "id": "37b70464",
   "metadata": {},
   "outputs": [],
   "source": [
    "# solution entropy table 1\n",
    "entropy_table(df.loc[solution_gaps, \"ADMIMETH\"], gaps_most_freq_solution)"
   ]
  },
  {
   "cell_type": "markdown",
   "id": "e537cd26",
   "metadata": {},
   "source": [
    "We repeat this step with for the `PROCODE3` field.\n",
    "\n",
    "We learn that all records with the selected unexpected missing combination not only share the same admission method, but were also submitted by a single provider."
   ]
  },
  {
   "cell_type": "code",
   "execution_count": null,
   "id": "abf8573d",
   "metadata": {
    "scrolled": true
   },
   "outputs": [],
   "source": [
    "entropy_table(df.loc[gaps, \"PROCODE3\"], gaps_most_freq)"
   ]
  },
  {
   "cell_type": "markdown",
   "id": "e208e35b",
   "metadata": {},
   "source": [
    "<div class=\"alert alert-block alert-info\"> <b>Solution:</b> Your entropy table given the feature PROCODE3 should look like this. </div>"
   ]
  },
  {
   "cell_type": "code",
   "execution_count": null,
   "id": "5ece47ee",
   "metadata": {},
   "outputs": [],
   "source": [
    "# solution entropy table 2\n",
    "entropy_table(df.loc[solution_gaps, \"PROCODE3\"], gaps_most_freq_solution)"
   ]
  },
  {
   "cell_type": "markdown",
   "id": "9c8d161c",
   "metadata": {},
   "source": [
    "We find that the records with the selected unexpected missing combination all used one admission method (\"111\") and were submitted by a single provider (\"aaa\"). This could allow us to:\n",
    "- Send the provider feedback so that this problem does not occur in the future;\n",
    "- Clean the data (perhaps by adjusting the identified records)."
   ]
  },
  {
   "cell_type": "markdown",
   "id": "23b48742",
   "metadata": {},
   "source": [
    "## Saving the session\n",
    "\n",
    "If you were to re-run the notebook at this point, the interactive selection made in the Combination Heatmap above (\"combinations\") would be lost.  To avoid this, PACE can save any user-made interactive selections to a file, and load it to restore the state of the session.\n",
    "\n",
    "The following cell will write the current selections in every plot in the session to the indicated json file.\n",
    "\n",
    "This file can be re-loaded into a PlotSession object, or shared with others along with the notebook and any data it uses."
   ]
  },
  {
   "cell_type": "code",
   "execution_count": null,
   "id": "df3f2331",
   "metadata": {},
   "outputs": [],
   "source": [
    "session.save(\"tutorial_example_session.json\")"
   ]
  },
  {
   "cell_type": "markdown",
   "id": "e6666198",
   "metadata": {},
   "source": [
    "<div class=\"alert alert-success\"><b>Try it:</b><br />\n",
    "Replace the code in input cell 4 of this notebook (the cell named '<tt>In [3]</tt>' if it has been run from the start) with\n",
    "    \n",
    "    session = PlotSession(df, session_file=\"tutorial_example_session.json\")\n",
    "    \n",
    "then restart the notebook kernel and re-run it from the beginning.  The interactive selections you made within the plot will be restored.\n",
    "</div>"
   ]
  }
 ],
 "metadata": {
  "kernelspec": {
   "display_name": "Python 3 (ipykernel)",
   "language": "python",
   "name": "python3"
  },
  "language_info": {
   "codemirror_mode": {
    "name": "ipython",
    "version": 3
   },
   "file_extension": ".py",
   "mimetype": "text/x-python",
   "name": "python",
   "nbconvert_exporter": "python",
   "pygments_lexer": "ipython3",
   "version": "3.8.2"
  }
 },
 "nbformat": 4,
 "nbformat_minor": 5
}
