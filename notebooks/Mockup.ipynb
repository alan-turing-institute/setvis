{
 "cells": [
  {
   "cell_type": "markdown",
   "id": "c76be608",
   "metadata": {},
   "source": [
    "# Mock-up interactive notebook - Version 1\n",
    "\n",
    "After performing the computation on the datasetl, the value bar chart is shown. Further plots can be selected from the dropdown menu. To add a new plot panel, add a new cell, past `add_plot()` and run the cell."
   ]
  },
  {
   "cell_type": "code",
   "execution_count": null,
   "id": "98472440",
   "metadata": {},
   "outputs": [],
   "source": [
    "from pace.datastructure import MissingData\n",
    "from pace.plots import value_bar_chart, combination_heatmap, dict_to_matrix, dict_to_long_matrix, plot_data\n",
    "from pathlib import Path\n",
    "import pandas as pd\n",
    "import numpy as np\n",
    "\n",
    "from bokeh.models import ColumnDataSource \n",
    "# from bokeh.models.widgets import Panel, Tabs\n",
    "from bokeh.io import output_notebook\n",
    "output_notebook(hide_banner=True)\n",
    "\n",
    "# imports for click buttons\n",
    "from IPython.display import Javascript, display\n",
    "from ipywidgets import widgets\n",
    "\n",
    "import logging\n",
    "# Set up logging\n",
    "logger = logging.getLogger(__name__)\n",
    "logging.basicConfig(format='%(asctime)s', level=logging.INFO)\n",
    "\n",
    "from IPython.display import clear_output "
   ]
  },
  {
   "cell_type": "code",
   "execution_count": null,
   "id": "d550999e",
   "metadata": {},
   "outputs": [],
   "source": [
    "# function to add new codel cell\n",
    "\n",
    "# import base64\n",
    "# def create_code_cell(code='', where='below'):\n",
    "#     \"\"\"Create a code cell in the IPython Notebook.\n",
    "\n",
    "#     Parameters\n",
    "#     code: unicode\n",
    "#         Code to fill the new code cell with.\n",
    "#     where: unicode\n",
    "#         Where to add the new code cell.\n",
    "#         Possible values include:\n",
    "#             at_bottom\n",
    "#             above\n",
    "#             below\"\"\"\n",
    "#     encoded_code = (base64.b64encode(str.encode(code))).decode()\n",
    "#     display(Javascript(\"\"\"\n",
    "#         var code = IPython.notebook.insert_cell_{0}('code');\n",
    "#         code.set_text(atob(\"{1}\"));\n",
    "#     \"\"\".format(where, encoded_code)))"
   ]
  },
  {
   "cell_type": "code",
   "execution_count": null,
   "id": "6166cea4",
   "metadata": {},
   "outputs": [],
   "source": [
    "# initialise button for later\n",
    "button = widgets.Button(description=\"Add plot!\")\n",
    "button.clicked = False\n",
    "\n",
    "# some functions for buttons\n",
    "def run_cells_below(b): # move function definition\n",
    "    b.clicked = True\n",
    "#     plot_data(missing_data_instance, w.value, selected_indices)\n",
    "    display(Javascript('IPython.notebook.execute_cells_below()'))\n",
    "\n",
    "def run_cells_below_2(b): # move function definition\n",
    "    b.clicked = True\n",
    "    plot_data(missing_data_instance, w.value, selected_indices)\n",
    "#     display(Javascript('IPython.notebook.execute_cells_below()'))\n",
    "\n",
    "\n",
    "# define what buttons do when clicked\n",
    "# button.on_click(add_plot)\n",
    "\n",
    "# dropdown menu\n",
    "w = widgets.Dropdown(\n",
    "    options=['None', 'Combination heatmap', 'Combination bar chart'],\n",
    "    value='None',\n",
    "    description='Plot:',\n",
    ")\n",
    "\n",
    "# v = widgets.Dropdown(\n",
    "#     options=['None', 'Combination heatmap', 'Combination bar chart'],\n",
    "#     value='None',\n",
    "#     description='Plot:',\n",
    "# )\n",
    "\n",
    "def on_change(change):\n",
    "    if change['type'] == 'change' and change['name'] == 'value':\n",
    "        clear_output(wait=True)\n",
    "        display(w)\n",
    "        plot_data(missing_data_instance, w.value, selected_indices)    \n",
    "        logging.info(f\"\"\"\n",
    "        \n",
    "********\n",
    "To add a plot, insert a new cell below, type \"add_plot()\" and run cell.\n",
    "********\"\"\")\n",
    "\n",
    "def add_plot():\n",
    "    w.value = 'None'\n",
    "#     display(w)\n",
    "\n",
    "w.observe(on_change)\n",
    "# v.observe(on_change)"
   ]
  },
  {
   "cell_type": "markdown",
   "id": "6eb407c6",
   "metadata": {},
   "source": [
    "## Load data\n"
   ]
  },
  {
   "cell_type": "code",
   "execution_count": null,
   "id": "bf711fbd",
   "metadata": {},
   "outputs": [],
   "source": [
    "# load data set\n",
    "filename = \"test_data_merged_10000.csv\"\n",
    "path_to_file = Path.cwd().parent / \"data\" / filename\n",
    "data = pd.read_csv(path_to_file)\n",
    "logging.info(f\"\"\"\n",
    "Load dataset\n",
    "********\n",
    "Number of fields: {data.shape[1]}\n",
    "Number of records: {data.shape[0]}\n",
    "********\"\"\")"
   ]
  },
  {
   "cell_type": "markdown",
   "id": "0985ccae",
   "metadata": {},
   "source": [
    "## Perform computation and plot value bar chart\n",
    "\n",
    "Perform missingness computation and plot value bar chart."
   ]
  },
  {
   "cell_type": "code",
   "execution_count": null,
   "id": "2250f25b",
   "metadata": {},
   "outputs": [],
   "source": [
    "# create missing data instance\n",
    "missing_data_instance = MissingData(data)\n",
    "# convert dictionary to plot_source?\n",
    "data_matrix = dict_to_matrix(missing_data_instance) # todo: rename this function\n",
    "selected_indices = []\n",
    "value_bar_chart(data_matrix, selected_indices)\n",
    "logging.info(f\"\"\"\n",
    "Computation\n",
    "********\n",
    "Total number of missing combinations: {len(missing_data_instance.missing_combinations)}\n",
    "********\"\"\")"
   ]
  },
  {
   "cell_type": "markdown",
   "id": "2a7fc76c",
   "metadata": {},
   "source": [
    "## Visualise\n",
    "\n",
    "Plot options can be chosen from the dropdown menu. If you want to visualise only selected fields, go to the plot and hold down the left mouse button to use the `Box select` tool to select multipe fields at once, or left-click on the field you want to select. `Shift` + left-click also allows you to individually selecte multiple fields. "
   ]
  },
  {
   "cell_type": "code",
   "execution_count": null,
   "id": "87a9da07",
   "metadata": {},
   "outputs": [],
   "source": [
    "logging.info(f\"\"\"\n",
    "********\n",
    "Please select a plot from the dropdown menu.\n",
    "OR\n",
    "Select the fields of interest from the value bar chart and then choose a plot from the dropdown menu.\n",
    "********\"\"\")\n",
    "display(w) # add 'button' we want also to display a button"
   ]
  }
 ],
 "metadata": {
  "kernelspec": {
   "display_name": "Python 3 (ipykernel)",
   "language": "python",
   "name": "python3"
  },
  "language_info": {
   "codemirror_mode": {
    "name": "ipython",
    "version": 3
   },
   "file_extension": ".py",
   "mimetype": "text/x-python",
   "name": "python",
   "nbconvert_exporter": "python",
   "pygments_lexer": "ipython3",
   "version": "3.8.2"
  }
 },
 "nbformat": 4,
 "nbformat_minor": 5
}
