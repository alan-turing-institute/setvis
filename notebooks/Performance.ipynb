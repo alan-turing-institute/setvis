{
 "cells": [
  {
   "cell_type": "markdown",
   "id": "444adeec",
   "metadata": {},
   "source": [
    "# Performance"
   ]
  },
  {
   "cell_type": "code",
   "execution_count": null,
   "id": "91508160",
   "metadata": {},
   "outputs": [],
   "source": [
    "import pandas as pd\n",
    "import numpy as np\n",
    "from pace.missingness import Missingness, Col, value_bar_chart_data\n",
    "from pace.setexpression import Set"
   ]
  },
  {
   "cell_type": "code",
   "execution_count": null,
   "id": "1ff17b40",
   "metadata": {},
   "outputs": [],
   "source": [
    "%load_ext line_profiler"
   ]
  },
  {
   "cell_type": "markdown",
   "id": "9e8a48a6",
   "metadata": {},
   "source": [
    "## Read CSV file"
   ]
  },
  {
   "cell_type": "code",
   "execution_count": null,
   "id": "d8ce1715",
   "metadata": {},
   "outputs": [],
   "source": [
    "%%timeit -r 1 -n 1\n",
    "global df\n",
    "df = pd.read_csv(\"../../Data/test_data_DIAG_10000000.csv\",\n",
    "                 dtype={\"Key\":int,\n",
    "                        \"Num_DIAG\":int,\n",
    "                        \"DIAG_01\":str,\n",
    "                        \"DIAG_02\":str,\n",
    "                        \"DIAG_03\":str,\n",
    "                        \"DIAG_04\":str,\n",
    "                        \"DIAG_05\":str,\n",
    "                        \"DIAG_06\":str,\n",
    "                        \"DIAG_07\":str,\n",
    "                        \"DIAG_08\":str,\n",
    "                        \"DIAG_09\":str,\n",
    "                        \"DIAG_10\":str,\n",
    "                        \"DIAG_11\":str,\n",
    "                        \"DIAG_12\":str,\n",
    "                        \"DIAG_13\":str,\n",
    "                        \"DIAG_14\":str,\n",
    "                        \"DIAG_15\":str,\n",
    "                        \"DIAG_16\":str,\n",
    "                        \"DIAG_17\":str,\n",
    "                        \"DIAG_18\":str,\n",
    "                        \"DIAG_19\":str,\n",
    "                        \"DIAG_20\":str})"
   ]
  },
  {
   "cell_type": "raw",
   "id": "b827761a",
   "metadata": {},
   "source": [
    "# TODO: Try loading with dask\n",
    "#\n",
    "\n",
    "%%timeit -r 1 -n 1\n",
    "global df\n",
    "df = pd.read_csv(\"../../Data/test_data_merged_100000000.csv\",\n",
    "                 nrows=100000000,\n",
    "                 dtype={\"Key\": int,\n",
    "                        \"Num_DIAG\": int,\n",
    "                        \"DIAG_01\": str,\n",
    "                        \"DIAG_02\": str,\n",
    "                        \"DIAG_03\": str,\n",
    "                        \"DIAG_04\": str,\n",
    "                        \"DIAG_05\": str,\n",
    "                        \"DIAG_06\": str,\n",
    "                        \"DIAG_07\": str,\n",
    "                        \"DIAG_08\": str,\n",
    "                        \"DIAG_09\": str,\n",
    "                        \"DIAG_10\": str,\n",
    "                        \"DIAG_11\": str,\n",
    "                        \"DIAG_12\": str,\n",
    "                        \"DIAG_13\": str,\n",
    "                        \"DIAG_14\": str,\n",
    "                        \"DIAG_15\": str,\n",
    "                        \"DIAG_16\": str,\n",
    "                        \"DIAG_17\": str,\n",
    "                        \"DIAG_18\": str,\n",
    "                        \"DIAG_19\": str,\n",
    "                        \"DIAG_20\": str,\n",
    "                        \"Num_OPERTN\": int,\n",
    "                        \"OPERTN_01\": str,\n",
    "                        \"OPERTN_02\": str,\n",
    "                        \"OPERTN_03\": str,\n",
    "                        \"OPERTN_04\": str,\n",
    "                        \"OPERTN_05\": str,\n",
    "                        \"OPERTN_06\": str,\n",
    "                        \"OPERTN_07\": str,\n",
    "                        \"OPERTN_08\": str,\n",
    "                        \"OPERTN_09\": str,\n",
    "                        \"OPERTN_10\": str,\n",
    "                        \"OPERTN_11\": str,\n",
    "                        \"OPERTN_12\": str,\n",
    "                        \"OPERTN_13\": str,\n",
    "                        \"OPERTN_14\": str,\n",
    "                        \"OPERTN_15\": str,\n",
    "                        \"OPERTN_16\": str,\n",
    "                        \"OPERTN_17\": str,\n",
    "                        \"OPERTN_18\": str,\n",
    "                        \"OPERTN_19\": str,\n",
    "                        \"OPERTN_20\": str,\n",
    "                        \"OPERTN_21\": str,\n",
    "                        \"OPERTN_22\": str,\n",
    "                        \"OPERTN_23\": str,\n",
    "                        \"OPERTN_24\": str,\n",
    "                        \"Num_MYOPDATE\": int,\n",
    "                        \"MYOPDATE_01\": np.float64,\n",
    "                        \"MYOPDATE_02\": np.float64,\n",
    "                        \"MYOPDATE_03\": np.float64,\n",
    "                        \"MYOPDATE_04\": np.float64,\n",
    "                        \"MYOPDATE_05\": np.float64,\n",
    "                        \"MYOPDATE_06\": np.float64,\n",
    "                        \"MYOPDATE_07\": np.float64,\n",
    "                        \"MYOPDATE_08\": np.float64,\n",
    "                        \"MYOPDATE_09\": np.float64,\n",
    "                        \"MYOPDATE_10\": np.float64,\n",
    "                        \"MYOPDATE_11\": np.float64,\n",
    "                        \"MYOPDATE_12\": np.float64,\n",
    "                        \"MYOPDATE_13\": np.float64,\n",
    "                        \"MYOPDATE_14\": np.float64,\n",
    "                        \"MYOPDATE_15\": np.float64,\n",
    "                        \"MYOPDATE_16\": np.float64,\n",
    "                        \"MYOPDATE_17\": np.float64,\n",
    "                        \"MYOPDATE_18\": np.float64,\n",
    "                        \"MYOPDATE_19\": np.float64,\n",
    "                        \"MYOPDATE_20\": np.float64,\n",
    "                        \"MYOPDATE_21\": np.float64,\n",
    "                        \"MYOPDATE_22\": np.float64,\n",
    "                        \"MYOPDATE_23\": np.float64,\n",
    "                        \"MYOPDATE_24\": np.float64})"
   ]
  },
  {
   "cell_type": "code",
   "execution_count": null,
   "id": "9e3eaa03",
   "metadata": {},
   "outputs": [],
   "source": [
    "df.head()"
   ]
  },
  {
   "cell_type": "markdown",
   "id": "47838591",
   "metadata": {},
   "source": [
    "## Construct missingness object"
   ]
  },
  {
   "cell_type": "code",
   "execution_count": null,
   "id": "0837a5cd",
   "metadata": {},
   "outputs": [],
   "source": [
    "%%timeit -r 1 -n 1\n",
    "global m\n",
    "m = Missingness.from_data_frame(df)"
   ]
  },
  {
   "cell_type": "markdown",
   "id": "935a2a35",
   "metadata": {},
   "source": [
    "An alternative to the `groupby` used by the `from_data_frame` constructors, but with no particular performance benefit."
   ]
  },
  {
   "cell_type": "code",
   "execution_count": null,
   "id": "26b5ab00",
   "metadata": {
    "scrolled": true
   },
   "outputs": [],
   "source": [
    "#%%timeit -r 1 -n 1\n",
    "#pd.isnull(df).reset_index().set_index(list(df)).head()"
   ]
  },
  {
   "cell_type": "markdown",
   "id": "3b34944d",
   "metadata": {},
   "source": [
    "### Memory usage"
   ]
  },
  {
   "cell_type": "code",
   "execution_count": null,
   "id": "e298f9d8",
   "metadata": {},
   "outputs": [],
   "source": [
    "m._combination_id_to_records.info()"
   ]
  },
  {
   "cell_type": "markdown",
   "id": "412a0426",
   "metadata": {},
   "source": [
    "## Counts and matches"
   ]
  },
  {
   "cell_type": "code",
   "execution_count": null,
   "id": "08ba8953",
   "metadata": {},
   "outputs": [],
   "source": [
    "%%timeit\n",
    "m.count_combinations()"
   ]
  },
  {
   "cell_type": "code",
   "execution_count": null,
   "id": "c2ca7337",
   "metadata": {},
   "outputs": [],
   "source": [
    "%%timeit\n",
    "m.matching_records(Set('DIAG_05'))"
   ]
  },
  {
   "cell_type": "markdown",
   "id": "87893782",
   "metadata": {},
   "source": [
    "## Value bar chart data"
   ]
  },
  {
   "cell_type": "code",
   "execution_count": null,
   "id": "8d075e9c",
   "metadata": {},
   "outputs": [],
   "source": [
    "%%timeit\n",
    "global bar_data \n",
    "bar_data = value_bar_chart_data(m)"
   ]
  },
  {
   "cell_type": "markdown",
   "id": "d15d33b0",
   "metadata": {},
   "source": [
    "## Select columns"
   ]
  },
  {
   "cell_type": "code",
   "execution_count": null,
   "id": "f0560798",
   "metadata": {},
   "outputs": [],
   "source": [
    "%%timeit\n",
    "m.select_columns(['Key', 'Num_DIAG', 'DIAG_01', 'DIAG_02', 'DIAG_03', 'DIAG_04', 'DIAG_05', 'DIAG_06', 'DIAG_07', 'DIAG_08', 'DIAG_09', 'DIAG_10'])"
   ]
  },
  {
   "cell_type": "markdown",
   "id": "226becc9",
   "metadata": {},
   "source": [
    "## Select patterns"
   ]
  },
  {
   "cell_type": "code",
   "execution_count": null,
   "id": "c62132fc",
   "metadata": {},
   "outputs": [],
   "source": [
    "%%timeit\n",
    "m.select_combinations([1,2,10])"
   ]
  }
 ],
 "metadata": {
  "kernelspec": {
   "display_name": "Python 3 (ipykernel)",
   "language": "python",
   "name": "python3"
  },
  "language_info": {
   "codemirror_mode": {
    "name": "ipython",
    "version": 3
   },
   "file_extension": ".py",
   "mimetype": "text/x-python",
   "name": "python",
   "nbconvert_exporter": "python",
   "pygments_lexer": "ipython3",
   "version": "3.8.2"
  }
 },
 "nbformat": 4,
 "nbformat_minor": 5
}
