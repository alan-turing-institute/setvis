{
 "cells": [
  {
   "cell_type": "markdown",
   "id": "0bab0513",
   "metadata": {},
   "source": [
    "# PACE Tutorial 3 (supplemental): Create the Synthetic APC database "
   ]
  },
  {
   "cell_type": "markdown",
   "id": "be1e1633",
   "metadata": {},
   "source": [
    "## Prerequisites"
   ]
  },
  {
   "cell_type": "markdown",
   "id": "152ffc2c",
   "metadata": {},
   "source": [
    "For the rest of the tutorial, we assume that:\n",
    "  - Postgres is installed on your system ([download and install Postgres for your platform](https://www.postgresql.org/download/))\n",
    "  - The Postgres server is running (instructions for starting the server are platform specific: consult the documentation for your platform)\n",
    "  - A database named `db` has been created, and is owned by the local user\n",
    "    - This may involve running `creatuser <your_username>` as the database administrator, followed by `createdb db`\n",
    "    \n",
    "[Postgres documentation](https://www.postgresql.org/docs/)"
   ]
  },
  {
   "cell_type": "markdown",
   "id": "362387e0",
   "metadata": {},
   "source": [
    "## Create the schema and table"
   ]
  },
  {
   "cell_type": "markdown",
   "id": "6eacb926",
   "metadata": {},
   "source": [
    "The following SQL script creates the schema and table that we use in the database example"
   ]
  },
  {
   "cell_type": "code",
   "execution_count": null,
   "id": "fe241fc5",
   "metadata": {},
   "outputs": [],
   "source": [
    "%%writefile create-diag-example.sql\n",
    "\n",
    "DROP TABLE IF EXISTS diag_example.synth_apc CASCADE;\n",
    "\n",
    "CREATE SCHEMA diag_example;\n",
    "CREATE TABLE diag_example.synth_apc (\n",
    "    \"Key\" SERIAL PRIMARY KEY,\n",
    "    \"DIAG_01\" VARCHAR,\n",
    "    \"DIAG_02\" VARCHAR,\n",
    "    \"DIAG_03\" VARCHAR,\n",
    "    \"DIAG_04\" VARCHAR,\n",
    "    \"DIAG_05\" VARCHAR,\n",
    "    \"DIAG_06\" VARCHAR,\n",
    "    \"DIAG_07\" VARCHAR,\n",
    "    \"DIAG_08\" VARCHAR,\n",
    "    \"DIAG_09\" VARCHAR,\n",
    "    \"DIAG_10\" VARCHAR,\n",
    "    \"ADMIAGE\" INTEGER,\n",
    "    \"ADMIMETH\" VARCHAR,\n",
    "    \"Mortality\" INTEGER,\n",
    "    \"PROCODE3\" VARCHAR,\n",
    "    \"SEX\" INTEGER\n",
    ");\n",
    "\n",
    "\\copy diag_example.synth_apc (\"DIAG_01\", \"DIAG_02\", \"DIAG_03\", \"DIAG_04\", \"DIAG_05\", \"DIAG_06\", \"DIAG_07\", \"DIAG_08\", \"DIAG_09\", \"DIAG_10\", \"ADMIAGE\", \"ADMIMETH\", \"Mortality\", \"PROCODE3\", \"SEX\") FROM '../examples/datasets/Synthetic_APC_DIAG_Fields.csv' DELIMITER ',' CSV HEADER"
   ]
  },
  {
   "cell_type": "markdown",
   "id": "e2d798d5",
   "metadata": {},
   "source": [
    "<div class=\"alert alert-success\">If the command below fails, make sure that the database <a href=#Prerequisites>prerequisites</a> are satisfied.</div>"
   ]
  },
  {
   "cell_type": "code",
   "execution_count": null,
   "id": "6b2d1f29",
   "metadata": {},
   "outputs": [],
   "source": [
    "!psql --dbname db -f create-diag-example.sql"
   ]
  },
  {
   "cell_type": "markdown",
   "id": "fc22787e",
   "metadata": {},
   "source": [
    "If the above command succeeds, it will echo each command that is run, finishing with `COPY 200`.\n",
    "\n",
    "It should now be possible to continue with [Tutorial 3](./Tutorial%203%20-%20Loading%20data%20from%20Postgres.ipynb)."
   ]
  },
  {
   "cell_type": "markdown",
   "id": "dfd8d742",
   "metadata": {},
   "source": [
    "## (Optional) create an upsampled synthetic dataset"
   ]
  },
  {
   "cell_type": "markdown",
   "id": "1ce2c76d",
   "metadata": {},
   "source": [
    "This section creates a dataset of 10 million rows by sampling with replacement from the dataset above, useful for testing and performance comparison.  It is loaded into a table named `synth_apc_10_7`."
   ]
  },
  {
   "cell_type": "code",
   "execution_count": null,
   "id": "51266a58",
   "metadata": {},
   "outputs": [],
   "source": [
    "import pandas as pd\n",
    "\n",
    "df = pd.read_csv(\"../examples/datasets/Synthetic_APC_DIAG_Fields.csv\")\n",
    "df_large = df.sample(n=10_000_000, replace=True).reset_index(drop=True)\n",
    "df_large.tail()\n",
    "\n",
    "df_large.to_csv(\"./Synthetic_APC_DIAG_Fields_10_7.csv\", index=False)"
   ]
  },
  {
   "cell_type": "code",
   "execution_count": null,
   "id": "d22e4d58",
   "metadata": {},
   "outputs": [],
   "source": [
    "%%writefile create-diag-large-example.sql\n",
    "\n",
    "DROP TABLE IF EXISTS diag_example.synth_apc_10_7 CASCADE;\n",
    "\n",
    "CREATE TABLE diag_example.synth_apc_10_7 (\n",
    "    LIKE diag_example.synth_apc INCLUDING ALL\n",
    ");\n",
    "\n",
    "\\copy diag_example.synth_apc_10_7 (\"DIAG_01\", \"DIAG_02\", \"DIAG_03\", \"DIAG_04\", \"DIAG_05\", \"DIAG_06\", \"DIAG_07\", \"DIAG_08\", \"DIAG_09\", \"DIAG_10\", \"ADMIAGE\", \"ADMIMETH\", \"Mortality\", \"PROCODE3\", \"SEX\") FROM './Synthetic_APC_DIAG_Fields_10_7.csv' DELIMITER ',' CSV HEADER"
   ]
  },
  {
   "cell_type": "code",
   "execution_count": null,
   "id": "3d5ac85c",
   "metadata": {},
   "outputs": [],
   "source": [
    "!psql --dbname db -f create-diag-large-example.sql"
   ]
  }
 ],
 "metadata": {
  "kernelspec": {
   "display_name": "Python 3 (ipykernel)",
   "language": "python",
   "name": "python3"
  },
  "language_info": {
   "codemirror_mode": {
    "name": "ipython",
    "version": 3
   },
   "file_extension": ".py",
   "mimetype": "text/x-python",
   "name": "python",
   "nbconvert_exporter": "python",
   "pygments_lexer": "ipython3",
   "version": "3.8.2"
  }
 },
 "nbformat": 4,
 "nbformat_minor": 5
}
