{
 "cells": [
  {
   "cell_type": "code",
   "execution_count": null,
   "id": "c0ef2b5d",
   "metadata": {},
   "outputs": [],
   "source": [
    "from setvis.membership import *\n",
    "\n",
    "import psycopg2\n",
    "from psycopg2.extensions import connection\n",
    "from psycopg2 import sql"
   ]
  },
  {
   "cell_type": "code",
   "execution_count": null,
   "id": "d5131238",
   "metadata": {},
   "outputs": [],
   "source": [
    "DBNAME =\n",
    "USERNAME ="
   ]
  },
  {
   "cell_type": "code",
   "execution_count": null,
   "id": "b20a321e",
   "metadata": {},
   "outputs": [],
   "source": [
    "conn = psycopg2.connect(host=\"localhost\", database=DBNAME, user=USERNAME)\n",
    "curs = conn.cursor()"
   ]
  },
  {
   "cell_type": "code",
   "execution_count": null,
   "id": "6328c3eb",
   "metadata": {},
   "outputs": [],
   "source": [
    "%%timeit -r 1 -n 1\n",
    "global m_pg\n",
    "\n",
    "m_pg = Membership.from_postgres(\n",
    "    conn,\n",
    "    \"patients_10_4\",\n",
    "    \"Key\",\n",
    "    \"diag_example\",\n",
    ")"
   ]
  },
  {
   "cell_type": "code",
   "execution_count": null,
   "id": "8119d38c",
   "metadata": {},
   "outputs": [],
   "source": [
    "m_pg.intersections().head()"
   ]
  },
  {
   "cell_type": "code",
   "execution_count": null,
   "id": "926ede3b",
   "metadata": {},
   "outputs": [],
   "source": [
    "df = pd.read_csv(\"../../data/test_data_merged_10000.csv\", low_memory=False)\n",
    "m_pd = Membership.from_data_frame(df)"
   ]
  },
  {
   "cell_type": "code",
   "execution_count": null,
   "id": "004b1aa1",
   "metadata": {},
   "outputs": [],
   "source": [
    "m_pg.intersections()"
   ]
  },
  {
   "cell_type": "code",
   "execution_count": null,
   "id": "27a33301",
   "metadata": {},
   "outputs": [],
   "source": [
    "pd_intersections = m_pd.intersections().loc[:,list(m_pd.intersections())[1:]]"
   ]
  },
  {
   "cell_type": "code",
   "execution_count": null,
   "id": "d97f0ac1",
   "metadata": {},
   "outputs": [],
   "source": [
    "m_pg.intersections().equals(pd_intersections)"
   ]
  },
  {
   "cell_type": "code",
   "execution_count": null,
   "id": "1f2bedf2",
   "metadata": {},
   "outputs": [],
   "source": [
    "def intersection_records(df1, df2):\n",
    "    \"\"\"\n",
    "    Compares the intersection of _records_ids between two dataframes for each intersection.\n",
    "    \"\"\"\n",
    "    col = \"_record_id\"\n",
    "    intersections = df1.index.unique()\n",
    "    intersection = [np.intersect1d(df1[col].loc[x], df2[col].loc[x]).shape[0] == df1.loc[x].shape[0] for x in intersections]\n",
    "    return intersection"
   ]
  },
  {
   "cell_type": "code",
   "execution_count": null,
   "id": "cd460ee7",
   "metadata": {},
   "outputs": [],
   "source": [
    "intersections = intersection_records(m_pd._intersection_id_to_records, m_pg._intersection_id_to_records - 1)\n",
    "sum(intersections)"
   ]
  },
  {
   "cell_type": "code",
   "execution_count": null,
   "id": "5a96d87e",
   "metadata": {},
   "outputs": [],
   "source": [
    "m_pg._intersection_id_to_records.info()"
   ]
  },
  {
   "cell_type": "code",
   "execution_count": null,
   "id": "12b46e4c",
   "metadata": {},
   "outputs": [],
   "source": [
    "m_pg._intersection_id_to_records.head()"
   ]
  },
  {
   "cell_type": "code",
   "execution_count": null,
   "id": "1f851753",
   "metadata": {},
   "outputs": [],
   "source": [
    "%%timeit -r 1 -n 1\n",
    "global bd\n",
    "bd = set_bar_chart_data(m_pg)"
   ]
  },
  {
   "cell_type": "code",
   "execution_count": null,
   "id": "1575fe1f",
   "metadata": {},
   "outputs": [],
   "source": [
    "%%timeit -r 1 -n 1\n",
    "m_pg.select_columns(['Num_DIAG', 'DIAG_01', 'DIAG_02', 'DIAG_03', 'DIAG_04', 'DIAG_05', 'DIAG_06', 'DIAG_07', 'DIAG_08', 'DIAG_09', 'DIAG_10'])"
   ]
  },
  {
   "cell_type": "code",
   "execution_count": null,
   "id": "ac7adbfb",
   "metadata": {},
   "outputs": [],
   "source": [
    "%%timeit -r 1 -n 1\n",
    "m_pg.select_intersections([1,2,10])"
   ]
  },
  {
   "cell_type": "code",
   "execution_count": null,
   "id": "d454eb25",
   "metadata": {},
   "outputs": [],
   "source": [
    "%%timeit -r 1 -n 1\n",
    "m_pg.count_intersections()"
   ]
  }
 ],
 "metadata": {
  "kernelspec": {
   "display_name": "Python 3 (ipykernel)",
   "language": "python",
   "name": "python3"
  },
  "language_info": {
   "codemirror_mode": {
    "name": "ipython",
    "version": 3
   },
   "file_extension": ".py",
   "mimetype": "text/x-python",
   "name": "python",
   "nbconvert_exporter": "python",
   "pygments_lexer": "ipython3",
   "version": "3.8.2"
  }
 },
 "nbformat": 4,
 "nbformat_minor": 5
}
