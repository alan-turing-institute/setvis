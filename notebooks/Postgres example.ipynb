{
 "cells": [
  {
   "cell_type": "code",
   "execution_count": null,
   "id": "c0ef2b5d",
   "metadata": {},
   "outputs": [],
   "source": [
    "from pace.missingness import *\n",
    "\n",
    "import psycopg2\n",
    "from psycopg2.extensions import connection\n",
    "from psycopg2 import sql"
   ]
  },
  {
   "cell_type": "code",
   "execution_count": null,
   "id": "d5131238",
   "metadata": {},
   "outputs": [],
   "source": [
    "DBNAME = \n",
    "USERNAME = "
   ]
  },
  {
   "cell_type": "code",
   "execution_count": null,
   "id": "b20a321e",
   "metadata": {},
   "outputs": [],
   "source": [
    "conn = psycopg2.connect(host=\"localhost\", database=DBNAME, user=USERNAME)\n",
    "curs = conn.cursor()"
   ]
  },
  {
   "cell_type": "code",
   "execution_count": null,
   "id": "6328c3eb",
   "metadata": {},
   "outputs": [],
   "source": [
    "m_pg = Missingness.from_postgres(\n",
    "    conn,\n",
    "    \"patients_10_5\",\n",
    "    \"Key\",\n",
    "    \"diag_example\",\n",
    ")"
   ]
  },
  {
   "cell_type": "code",
   "execution_count": null,
   "id": "8119d38c",
   "metadata": {},
   "outputs": [],
   "source": [
    "m_pg"
   ]
  },
  {
   "cell_type": "code",
   "execution_count": null,
   "id": "926ede3b",
   "metadata": {},
   "outputs": [],
   "source": [
    "df = pd.read_csv(\"../../data/test_data_merged_10000.csv\", low_memory=False)\n",
    "m_pd = Missingness.from_data_frame(df)"
   ]
  },
  {
   "cell_type": "code",
   "execution_count": null,
   "id": "004b1aa1",
   "metadata": {},
   "outputs": [],
   "source": [
    "m_pg.combinations().head()"
   ]
  },
  {
   "cell_type": "code",
   "execution_count": null,
   "id": "27a33301",
   "metadata": {},
   "outputs": [],
   "source": [
    "pd_combinations = m_pd.combinations().loc[:,list(m_pd.combinations())[1:]]"
   ]
  },
  {
   "cell_type": "code",
   "execution_count": null,
   "id": "d97f0ac1",
   "metadata": {},
   "outputs": [],
   "source": [
    "m_pg.combinations().equals(pd_combinations)"
   ]
  },
  {
   "cell_type": "code",
   "execution_count": null,
   "id": "1f2bedf2",
   "metadata": {},
   "outputs": [],
   "source": [
    "def intersection_records(df1, df2):\n",
    "    \"\"\"\n",
    "    Compares the intersection of _records_ids between two dataframes for each combination.\n",
    "    \"\"\"\n",
    "    col = \"_record_id\"\n",
    "    combinations = df1.index.unique()\n",
    "    intersection = [np.intersect1d(df1[col].loc[x], df2[col].loc[x]).shape[0] == df1.loc[x].shape[0] for x in combinations]\n",
    "    return intersection"
   ]
  },
  {
   "cell_type": "code",
   "execution_count": null,
   "id": "cd460ee7",
   "metadata": {},
   "outputs": [],
   "source": [
    "intersections = intersection_records(m_pd._combination_id_to_records, m_pg._combination_id_to_records)\n",
    "sum(intersections)"
   ]
  }
 ],
 "metadata": {
  "kernelspec": {
   "display_name": "Python 3 (ipykernel)",
   "language": "python",
   "name": "python3"
  },
  "language_info": {
   "codemirror_mode": {
    "name": "ipython",
    "version": 3
   },
   "file_extension": ".py",
   "mimetype": "text/x-python",
   "name": "python",
   "nbconvert_exporter": "python",
   "pygments_lexer": "ipython3",
   "version": "3.8.2"
  }
 },
 "nbformat": 4,
 "nbformat_minor": 5
}
