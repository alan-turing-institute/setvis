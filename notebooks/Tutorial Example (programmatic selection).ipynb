{
 "cells": [
  {
   "cell_type": "markdown",
   "id": "a5604c79",
   "metadata": {},
   "source": [
    "# Tutorial example (programmatic selection)\n",
    "\n",
    "In this notebook, we repeat the previous example (`Tutorial Example.ipynb`). But instead of selecting unexpected missing combinations in the interactive \"Combination heatmap\", we will choose a programmatic approach to selecting combinations. "
   ]
  },
  {
   "cell_type": "code",
   "execution_count": null,
   "id": "ff437aa7",
   "metadata": {},
   "outputs": [],
   "source": [
    "from pace.missingness import *\n",
    "from pace.history import *\n",
    "from pace.plots import *\n",
    "\n",
    "import pandas as pd\n",
    "import numpy as np\n",
    "\n",
    "import matplotlib.pyplot as plt"
   ]
  },
  {
   "cell_type": "markdown",
   "id": "9564010e",
   "metadata": {},
   "source": [
    "Read the data into a Pandas dataframe to explore the data with PACE."
   ]
  },
  {
   "cell_type": "code",
   "execution_count": null,
   "id": "15287ef0",
   "metadata": {},
   "outputs": [],
   "source": [
    "df = pd.read_csv(\"../../data/Synthetic_APC_DIAG_Fields.csv\")"
   ]
  },
  {
   "cell_type": "markdown",
   "id": "28fa197f",
   "metadata": {},
   "source": [
    "## Plot session\n",
    "\n",
    "First, we create a `PlotSession` object from the dataset."
   ]
  },
  {
   "cell_type": "code",
   "execution_count": null,
   "id": "59e54f33",
   "metadata": {},
   "outputs": [],
   "source": [
    "session = PlotSession(df)"
   ]
  },
  {
   "cell_type": "markdown",
   "id": "b263064c",
   "metadata": {},
   "source": [
    "With the `PlotSession` object, we can then get a dataframe with all the missingness combinations. This dataframe contains the patterns for all missing combinations. A row represents one unqiue combination which can be identified by its `combination_id`. Within the row, a boolean value for each column indicates if the column is missing (`True`) or not (`False`) in this particular combination."
   ]
  },
  {
   "cell_type": "code",
   "execution_count": null,
   "id": "c39107c3",
   "metadata": {},
   "outputs": [],
   "source": [
    "combinations = session.missingness().combinations()\n",
    "combinations.head()"
   ]
  },
  {
   "cell_type": "markdown",
   "id": "06b22984",
   "metadata": {},
   "source": [
    "## Making a programmatic selection\n",
    "\n",
    "In our example, we are interested in unexpected missingness behaviour in the diagnosis fields DIAG_02 to DIAG_10. Hence, we look at the subset of the combinations dataframe that contains only these fields."
   ]
  },
  {
   "cell_type": "code",
   "execution_count": null,
   "id": "6e46579c",
   "metadata": {
    "scrolled": true
   },
   "outputs": [],
   "source": [
    "combinations_subset = combinations[['DIAG_01','DIAG_02','DIAG_03','DIAG_04','DIAG_05','DIAG_06','DIAG_07','DIAG_08','DIAG_09','DIAG_10']]\n",
    "# plt.matshow(combinations_subset)\n",
    "combinations_subset.head()"
   ]
  },
  {
   "cell_type": "markdown",
   "id": "bc6d74ee",
   "metadata": {},
   "source": [
    "As we learned in the previous example, it is expected in this dataset that if any diagnosis column from DIAG_02 to DIAG_10 is missing then all of the subsequent diagnosis columns should also be missing. Unexpected missingness combinations have gaps in the diagnosis columns."
   ]
  },
  {
   "cell_type": "markdown",
   "id": "5bbfb259",
   "metadata": {},
   "source": [
    "The next cell contains a function that takes a row of the combinations dataframe as input and returns `True` if there is a gap in this combination. A gap is identified when the values in the row are not monotonic increasing."
   ]
  },
  {
   "cell_type": "code",
   "execution_count": null,
   "id": "41f1a9b5",
   "metadata": {},
   "outputs": [],
   "source": [
    "def has_gap(row: pd.Series) -> bool:\n",
    "    \"\"\"Does 'row' have a 'gap' (is it non-monotonic)?\"\"\"\n",
    "\n",
    "    return not row.is_monotonic_increasing\n",
    "\n",
    "## equivalent to\n",
    "\n",
    "# def has_gap(row: pd.Series) -> bool:\n",
    "#    found_missing = False\n",
    "#    for m in row:\n",
    "#        found_missing |= m\n",
    "#        if found_missing and not m:\n",
    "#            return True\n",
    "#    return False"
   ]
  },
  {
   "cell_type": "markdown",
   "id": "8e1e5a63",
   "metadata": {},
   "source": [
    "The function `has_gap()` is then applied to each row of the combinations subset dataframe, which gives us an array that contains the `combination_id`of all combinations with gaps."
   ]
  },
  {
   "cell_type": "code",
   "execution_count": null,
   "id": "0089eeb2",
   "metadata": {},
   "outputs": [],
   "source": [
    "combinations_with_gaps = np.where(combinations_subset.apply(has_gap, axis=1))[0]\n",
    "combinations_with_gaps"
   ]
  },
  {
   "cell_type": "markdown",
   "id": "3259664f",
   "metadata": {},
   "source": [
    "With the function `add_selection()` we can then add a selection to the PlotSession object based on the identified combinations. Note that we need to give the selection a name (\"gaps\" in our example)."
   ]
  },
  {
   "cell_type": "code",
   "execution_count": null,
   "id": "a0c52247",
   "metadata": {},
   "outputs": [],
   "source": [
    "session.add_selection(\"gaps\", combinations=combinations_with_gaps)"
   ]
  },
  {
   "cell_type": "markdown",
   "id": "3ad198df",
   "metadata": {},
   "source": [
    "Even though we made a selection based on missingness combinations we can retrieve the corresponding record indices of the original dataframe with the `select_records()` function. The function requires the name of the selection."
   ]
  },
  {
   "cell_type": "code",
   "execution_count": null,
   "id": "ae83b194",
   "metadata": {},
   "outputs": [],
   "source": [
    "gaps_records = session.selected_records(\"gaps\")"
   ]
  },
  {
   "cell_type": "markdown",
   "id": "63f4927d",
   "metadata": {},
   "source": [
    "We can visualise our selection with the `add_plot()` function. The first input argument is the name for the new plot. The second input argument is the name of the selection on which we base the plots."
   ]
  },
  {
   "cell_type": "code",
   "execution_count": null,
   "id": "b406861f",
   "metadata": {},
   "outputs": [],
   "source": [
    "session.add_plot(\"gaps_plot\", \"gaps\")"
   ]
  },
  {
   "cell_type": "markdown",
   "id": "f77f863f",
   "metadata": {},
   "source": [
    "## Explaining unexpected missing combinations – Data mining\n",
    "\n",
    "The notebook `Information Gain Ratio.ipynb` contains helper functions to calculate the information gain ratio (IGR), which we will use for our example dataset."
   ]
  },
  {
   "cell_type": "code",
   "execution_count": null,
   "id": "c6c44b07",
   "metadata": {},
   "outputs": [],
   "source": [
    "%run 'Information Gain Ratio.ipynb'"
   ]
  },
  {
   "cell_type": "markdown",
   "id": "35c4c8d1",
   "metadata": {},
   "source": [
    "`igr()` allows us to rank multiple columns (given by `igr_columns`) based on the correlation of their values with records that either are or\n",
    "are not members of selected missing combinations (`gaps`)."
   ]
  },
  {
   "cell_type": "code",
   "execution_count": null,
   "id": "1edb9a46",
   "metadata": {},
   "outputs": [],
   "source": [
    "igr_columns = ['ADMIAGE','ADMIMETH','Mortality','PROCODE3','SEX']\n",
    "igr_result = igr(df[igr_columns], gaps_records)\n",
    "igr_result"
   ]
  },
  {
   "cell_type": "code",
   "execution_count": null,
   "id": "d7788dca",
   "metadata": {},
   "outputs": [],
   "source": [
    "plt.bar(igr_result.keys(), igr_result.values())\n",
    "plt.ylabel(\"IGR\")\n",
    "plt.show()"
   ]
  }
 ],
 "metadata": {
  "kernelspec": {
   "display_name": "Python 3 (ipykernel)",
   "language": "python",
   "name": "python3"
  },
  "language_info": {
   "codemirror_mode": {
    "name": "ipython",
    "version": 3
   },
   "file_extension": ".py",
   "mimetype": "text/x-python",
   "name": "python",
   "nbconvert_exporter": "python",
   "pygments_lexer": "ipython3",
   "version": "3.9.6"
  }
 },
 "nbformat": 4,
 "nbformat_minor": 5
}
