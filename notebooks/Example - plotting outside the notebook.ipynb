{
 "cells": [
  {
   "cell_type": "markdown",
   "id": "1ed3b2ee",
   "metadata": {},
   "source": [
    "# Example - additional plot options and plotting outside the notebook"
   ]
  },
  {
   "cell_type": "markdown",
   "id": "d905c0dc",
   "metadata": {},
   "source": [
    "This example demonstrates some additional plotting options, including how to produce a plot that doesn't show inline in the notebook, but can be viewed in a separate window or tab, and how to pass additional options to the plot."
   ]
  },
  {
   "cell_type": "markdown",
   "id": "5be2abe9",
   "metadata": {},
   "source": [
    "We start by importing setvis and creating a plot session from one of the example data sets."
   ]
  },
  {
   "cell_type": "code",
   "execution_count": null,
   "id": "d2c31677",
   "metadata": {},
   "outputs": [],
   "source": [
    "import pandas as pd\n",
    "from setvis.plots import PlotSession\n",
    "\n",
    "df = pd.read_csv(\"../examples/datasets/Synthetic_APC_DIAG_Fields.csv\")\n",
    "\n",
    "session = PlotSession(df)"
   ]
  },
  {
   "cell_type": "markdown",
   "id": "6c95e844-45f7-46ee-96b2-ee4170f19984",
   "metadata": {},
   "source": [
    "## Passing additional arguments to configure the plot"
   ]
  },
  {
   "cell_type": "markdown",
   "id": "eda7ddc0",
   "metadata": {},
   "source": [
    "Additional options can be passed as keyword arguments.  Here, the height and the output backend of the plot is changed.  Any additional keyword argument is passed to the Bokeh plot.\n",
    "\n",
    "The effect of changing the output backend is apparent when savng an image of the plot with the icon on the Bokeh toolbar."
   ]
  },
  {
   "cell_type": "code",
   "execution_count": null,
   "id": "09c59044",
   "metadata": {},
   "outputs": [],
   "source": [
    "session.add_plot(name=\"Plot 1\", height=480, output_backend=\"svg\")"
   ]
  },
  {
   "cell_type": "markdown",
   "id": "3a0803d3-4795-4f71-a411-1eefe0f361f1",
   "metadata": {},
   "source": [
    "## Showing plots outside of the notebook (Bokeh server)"
   ]
  },
  {
   "cell_type": "markdown",
   "id": "a7d5631c",
   "metadata": {},
   "source": [
    "The cell below produces a new plot that does not show inline.  Instead, it displays a link to a Bokeh server which can be opened in another tab or window.  This can be done to make use of larger displays, or to use SetVis outside of Jupyter.\n",
    "\n",
    "Notice how the `based_on` argument behaves in the same way as it does when the plot is rendered inline in the notebook, with the resulting plot (Plot 2) showing the data that was selected in Plot 1 above.  Updates to the selection in Plot 1 aren't propagated until the cell below is run again, which will create a new Bokeh server."
   ]
  },
  {
   "cell_type": "code",
   "execution_count": null,
   "id": "9732b0c4",
   "metadata": {},
   "outputs": [],
   "source": [
    "session.add_plot(name=\"Plot 2\", based_on=\"Plot 1\", notebook=False)"
   ]
  },
  {
   "cell_type": "markdown",
   "id": "51cdf2ca-90d3-46df-88ed-eb3d495ea4f4",
   "metadata": {},
   "source": [
    "Making a selection with the plot shown in the newly-opened browser tab will affect the result of the following cell (which simply counts the number of records selected in the plot). Try re-running the cell below after changing the selection in Plot 2."
   ]
  },
  {
   "cell_type": "code",
   "execution_count": null,
   "id": "df4c347d",
   "metadata": {},
   "outputs": [],
   "source": [
    "sum(session.selected_records(\"Plot 2\"))"
   ]
  },
  {
   "cell_type": "markdown",
   "id": "05cfae41-93c2-4845-8edf-6044a967737f",
   "metadata": {},
   "source": [
    "## Creating Setvis plots from outside of a Jupyter notebook (advanced)"
   ]
  },
  {
   "cell_type": "markdown",
   "id": "529c7ba9-f506-4b03-93c8-f0135ea75eda",
   "metadata": {},
   "source": [
    "When run from a Jupyter notebook, as in the example above, the Bokeh server runs immediately in the background (it is attached to the asyncio event loop that Jupyter creates).\n",
    "\n",
    "When run from outside Jupyter, for example from a Python script or from the Python interactive shell, the event loop needs to be created.  A simple way to do this is shown in the cell below (which is not run here).  The Bokeh server object is returned from `add_plot`.\n",
    "\n",
    "Try running the contents of this cell from outside of a notebook."
   ]
  },
  {
   "cell_type": "raw",
   "id": "9f68ff5d-73dd-48ba-897c-2f577a71144d",
   "metadata": {},
   "source": [
    "# Create a plot\n",
    "bokeh_plot_server = session.add_plot(name=\"Plot 3\", notebook=False, html_display_link=False)\n",
    "\n",
    "# Start and enter the event loop (this command blocks)\n",
    "bokeh_plot_server.run_until_shutdown()"
   ]
  }
 ],
 "metadata": {
  "kernelspec": {
   "display_name": "Python 3 (ipykernel)",
   "language": "python",
   "name": "python3"
  },
  "language_info": {
   "codemirror_mode": {
    "name": "ipython",
    "version": 3
   },
   "file_extension": ".py",
   "mimetype": "text/x-python",
   "name": "python",
   "nbconvert_exporter": "python",
   "pygments_lexer": "ipython3",
   "version": "3.12.1"
  }
 },
 "nbformat": 4,
 "nbformat_minor": 5
}
