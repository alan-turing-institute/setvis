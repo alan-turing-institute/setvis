{
 "cells": [
  {
   "cell_type": "markdown",
   "id": "1ed3b2ee",
   "metadata": {},
   "source": [
    "# Example - plotting outside the notebook and additional options"
   ]
  },
  {
   "cell_type": "markdown",
   "id": "d905c0dc",
   "metadata": {},
   "source": [
    "This example demonstrates some additional plotting options, including how to produce a plot that doesn't show inline in the notebook, but can be viewed in a separate window or tab, and how to pass additional options to the plot."
   ]
  },
  {
   "cell_type": "markdown",
   "id": "5be2abe9",
   "metadata": {},
   "source": [
    "We start by importing setvis and creating a plot session from one of the example data sets."
   ]
  },
  {
   "cell_type": "code",
   "execution_count": null,
   "id": "d2c31677",
   "metadata": {},
   "outputs": [],
   "source": [
    "from setvis.plots import *\n",
    "\n",
    "df = pd.read_csv(\"../examples/datasets/Synthetic_APC_DIAG_Fields.csv\")\n",
    "session = PlotSession(df)"
   ]
  },
  {
   "cell_type": "markdown",
   "id": "eda7ddc0",
   "metadata": {},
   "source": [
    "Additional options can be passed as keyword arguments.  Here, the height and the output backend of the plot is changed.  Any additional keyword argument is passed to the Bokeh plot.\n",
    "\n",
    "The effect of changing the output backend is apparent when savng an image of the plot with the icon on the Bokeh toolbar."
   ]
  },
  {
   "cell_type": "code",
   "execution_count": null,
   "id": "09c59044",
   "metadata": {
    "scrolled": false
   },
   "outputs": [],
   "source": [
    "session.add_plot(name=\"Plot 1\", height=480, output_backend=\"svg\")"
   ]
  },
  {
   "cell_type": "markdown",
   "id": "a7d5631c",
   "metadata": {},
   "source": [
    "The cell below produces a new plot that does not show inline.  Instead, it displays a link to a Bokeh server which can be opened in another tab or window.  This can be done to make use of larger displays."
   ]
  },
  {
   "cell_type": "code",
   "execution_count": null,
   "id": "9732b0c4",
   "metadata": {
    "scrolled": false
   },
   "outputs": [],
   "source": [
    "session.add_plot(name=\"Plot 2\", based_on=\"Plot 1\", notebook=False)"
   ]
  },
  {
   "cell_type": "markdown",
   "id": "1991c84c",
   "metadata": {},
   "source": [
    "Making a selection with the plot shown in the newly-opened browser tab will affect the result of the following cell (which simply counts the number of records selected in the plot). Re-run the cell below after changing the selection."
   ]
  },
  {
   "cell_type": "code",
   "execution_count": null,
   "id": "df4c347d",
   "metadata": {},
   "outputs": [],
   "source": [
    "sum(session.selected_records(\"Plot 2\"))"
   ]
  }
 ],
 "metadata": {
  "kernelspec": {
   "display_name": "Python 3 (ipykernel)",
   "language": "python",
   "name": "python3"
  },
  "language_info": {
   "codemirror_mode": {
    "name": "ipython",
    "version": 3
   },
   "file_extension": ".py",
   "mimetype": "text/x-python",
   "name": "python",
   "nbconvert_exporter": "python",
   "pygments_lexer": "ipython3",
   "version": "3.8.2"
  }
 },
 "nbformat": 4,
 "nbformat_minor": 5
}
