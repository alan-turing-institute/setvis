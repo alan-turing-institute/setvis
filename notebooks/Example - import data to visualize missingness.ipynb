{
 "cells": [
  {
   "cell_type": "markdown",
   "id": "f2662b53",
   "metadata": {},
   "source": [
    "# Example: Importing data to visualize patterns of missing values"
   ]
  },
  {
   "cell_type": "markdown",
   "id": "2ef2c293",
   "metadata": {},
   "source": [
    "This example shows the methods that you can use to import data and visualize it. The set data is contained in a Membership object, which stores the sets in each intersection, and the combination of sets that each record belongs to."
   ]
  },
  {
   "cell_type": "markdown",
   "id": "69ba3e19",
   "metadata": {},
   "source": [
    "## Includes: setvis and other libraries"
   ]
  },
  {
   "cell_type": "code",
   "execution_count": null,
   "id": "9a18e4b9",
   "metadata": {},
   "outputs": [],
   "source": [
    "import pandas as pd\n",
    "\n",
    "from setvis import Membership\n",
    "from setvis.plots import PlotSession"
   ]
  },
  {
   "cell_type": "markdown",
   "id": "7d58911e",
   "metadata": {},
   "source": [
    "## Visualizing patterns of missing values"
   ]
  },
  {
   "cell_type": "markdown",
   "id": "4d266e3b",
   "metadata": {},
   "source": [
    "The following three data import methods produce identical visualizations."
   ]
  },
  {
   "cell_type": "code",
   "execution_count": null,
   "id": "14e11256",
   "metadata": {},
   "outputs": [],
   "source": [
    "input_file = \"../examples/datasets/Synthetic_APC_DIAG_Fields.csv\""
   ]
  },
  {
   "cell_type": "markdown",
   "id": "6268105a",
   "metadata": {},
   "source": [
    "### Create a Membership object directly from the input file"
   ]
  },
  {
   "cell_type": "code",
   "execution_count": null,
   "id": "19f877cb",
   "metadata": {},
   "outputs": [],
   "source": [
    "missing1 = Membership.from_csv(input_file)\n",
    "# PlotSession is the core class that provides the functionality to analyse and explore the missingness patterns found in a dataset\n",
    "missing_session1 = PlotSession(missing1)\n",
    "# To visualise the dataset, call add_plot(), providing a name.\n",
    "# Naming the plot is important: It allows any interactive selection made in the plot to be referred to later.\n",
    "# The result is a Bokeh widget with a number of tabs, each with a different visualisation of the missingness data.\n",
    "missing_session1.add_plot(name=\"example\")"
   ]
  },
  {
   "cell_type": "markdown",
   "id": "eb81a7f9",
   "metadata": {},
   "source": [
    "### Import the file as a data frame and then create a Membership object"
   ]
  },
  {
   "cell_type": "code",
   "execution_count": null,
   "id": "5e5f8f3a",
   "metadata": {},
   "outputs": [],
   "source": [
    "df2 = pd.read_csv(input_file)\n",
    "missing2 = Membership.from_data_frame(df2)\n",
    "# Create a PlotSession object and visualise the patterns of missing values\n",
    "missing_session2 = PlotSession(missing2)\n",
    "missing_session2.add_plot(name=\"example\")"
   ]
  },
  {
   "cell_type": "markdown",
   "id": "100402dd",
   "metadata": {},
   "source": [
    "### Create a PlotSession object directly from the input file"
   ]
  },
  {
   "cell_type": "code",
   "execution_count": null,
   "id": "3517d1a4",
   "metadata": {},
   "outputs": [],
   "source": [
    "df3 = pd.read_csv(input_file)\n",
    "missing_session3 = PlotSession(df3)\n",
    "missing_session3.add_plot(name=\"example\")"
   ]
  }
 ],
 "metadata": {
  "kernelspec": {
   "display_name": "Python 3 (ipykernel)",
   "language": "python",
   "name": "python3"
  },
  "language_info": {
   "codemirror_mode": {
    "name": "ipython",
    "version": 3
   },
   "file_extension": ".py",
   "mimetype": "text/x-python",
   "name": "python",
   "nbconvert_exporter": "python",
   "pygments_lexer": "ipython3",
   "version": "3.9.7"
  }
 },
 "nbformat": 4,
 "nbformat_minor": 5
}
