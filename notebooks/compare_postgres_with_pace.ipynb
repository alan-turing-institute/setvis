{
 "cells": [
  {
   "cell_type": "code",
   "execution_count": null,
   "id": "f86dddd3",
   "metadata": {},
   "outputs": [],
   "source": [
    "import numpy as np\n",
    "import pandas as pd\n",
    "from pace.missingness import *\n",
    "from pace.history import *\n",
    "from pace.plots import PlotSession\n",
    "\n",
    "from bokeh.plotting import figure, show\n",
    "from bokeh.io import output_notebook\n",
    "from bokeh.models import ColumnDataSource, tools, CustomJS\n",
    "\n",
    "output_notebook(hide_banner=True)"
   ]
  },
  {
   "cell_type": "code",
   "execution_count": null,
   "id": "6dfe18ad",
   "metadata": {},
   "outputs": [],
   "source": [
    "# dependencies postgres\n",
    "import psycopg2\n",
    "from psycopg2.extensions import connection\n",
    "from psycopg2 import sql"
   ]
  },
  {
   "cell_type": "markdown",
   "id": "d47eb0c3",
   "metadata": {},
   "source": [
    "## Database version"
   ]
  },
  {
   "cell_type": "code",
   "execution_count": null,
   "id": "c10f2702",
   "metadata": {},
   "outputs": [],
   "source": [
    "DBNAME = \"postgres\"\n",
    "USERNAME = \"pwochner\"\n",
    "\n",
    "conn = psycopg2.connect(host=\"localhost\", database=DBNAME, user=USERNAME)\n",
    "curs = conn.cursor()"
   ]
  },
  {
   "cell_type": "markdown",
   "id": "b3025dde",
   "metadata": {},
   "source": [
    "### List of column names in a relation"
   ]
  },
  {
   "cell_type": "code",
   "execution_count": null,
   "id": "b910d268",
   "metadata": {},
   "outputs": [],
   "source": [
    "curs.execute(\"SELECT * FROM diag_example.patients LIMIT 0\")\n",
    "column_names = [c.name for c in curs.description]\n",
    "key = sql.Identifier(column_names[0])\n",
    "relation = sql.Identifier(\"patients\")\n",
    "schema = sql.Identifier(\"diag_example\")\n",
    "column_identifiers = [sql.Identifier(c) for c in column_names[1:]]"
   ]
  },
  {
   "cell_type": "markdown",
   "id": "bb6881cd",
   "metadata": {},
   "source": [
    "### combination id to records"
   ]
  },
  {
   "cell_type": "code",
   "execution_count": null,
   "id": "987bf184",
   "metadata": {},
   "outputs": [],
   "source": [
    "# missingness for all fields except key\n",
    "selection_list = [sql.SQL(\"{col}\").format(col=key)]\n",
    "selection_list += [sql.SQL(\"{col} IS NULL AS {col}\").format(col=x) for x in column_identifiers]\n",
    "# all fields\n",
    "fields = sql.SQL(\",\").join(column_identifiers)\n",
    "# queries\n",
    "query_missing = sql.SQL(\"select {0} from {1}.{2} \").format(sql.SQL(', ').join(selection_list),schema,relation)\n",
    "query_patterns = sql.SQL(\"\"\"select *, dense_rank() over(\n",
    "order by ({0}) asc\n",
    ") from ({1}) AS query_missing\"\"\").format(fields, query_missing, key)\n",
    "query_df = sql.SQL(\"\"\" select \"dense_rank\",{0} from ({1}) AS query_pattern \"\"\").format(key, query_patterns)\n"
   ]
  },
  {
   "cell_type": "code",
   "execution_count": null,
   "id": "d711b361",
   "metadata": {},
   "outputs": [],
   "source": [
    "curs.execute(query_df)"
   ]
  },
  {
   "cell_type": "code",
   "execution_count": null,
   "id": "846659be",
   "metadata": {},
   "outputs": [],
   "source": [
    "df = pd.DataFrame(curs.fetchall(), columns=[\"combination_id\", \"_record_id\"])\n",
    "df = df.apply(lambda x: x-1)\n",
    "df = df.set_index(\"combination_id\")\n",
    "# df = pd.DataFrame(curs.fetchall(), columns=column_names)\n",
    "# df = pd.DataFrame(curs.fetchall(),columns=column_names+[\"combination_id\"])"
   ]
  },
  {
   "cell_type": "code",
   "execution_count": null,
   "id": "5f3768e1",
   "metadata": {},
   "outputs": [],
   "source": [
    "pg_combination_id_to_records = df"
   ]
  },
  {
   "cell_type": "markdown",
   "id": "f778cb14",
   "metadata": {},
   "source": [
    "### Combination id to columns"
   ]
  },
  {
   "cell_type": "code",
   "execution_count": null,
   "id": "e88350b0",
   "metadata": {},
   "outputs": [],
   "source": [
    "query_distinct_combinations = sql.SQL(\"\"\"select distinct on(\"dense_rank\") \"dense_rank\", {0} \n",
    "from ({1}) AS query_patterns\n",
    "order by \"dense_rank\"\n",
    "\"\"\").format(fields, query_patterns)"
   ]
  },
  {
   "cell_type": "code",
   "execution_count": null,
   "id": "3767b4d3",
   "metadata": {},
   "outputs": [],
   "source": [
    "curs.execute(query_distinct_combinations)"
   ]
  },
  {
   "cell_type": "code",
   "execution_count": null,
   "id": "14237c39",
   "metadata": {},
   "outputs": [],
   "source": [
    "df_comb = pd.DataFrame(curs.fetchall(), columns=[\"combination_id\"]+column_names[1:])\n",
    "df_comb[\"combination_id\"] = df_comb[\"combination_id\"].apply(lambda x: x-1)\n",
    "df_comb = df_comb.set_index(\"combination_id\")"
   ]
  },
  {
   "cell_type": "code",
   "execution_count": null,
   "id": "da6a1d59",
   "metadata": {},
   "outputs": [],
   "source": [
    "df_comb"
   ]
  },
  {
   "cell_type": "markdown",
   "id": "c5b4fc67",
   "metadata": {},
   "source": [
    "## Pandas version"
   ]
  },
  {
   "cell_type": "code",
   "execution_count": null,
   "id": "9b074017",
   "metadata": {},
   "outputs": [],
   "source": [
    "# df = pd.read_csv(\"../../data/Synthetic_APC_DIAG_Fields.csv\", low_memory=False)\n",
    "df = pd.read_csv(\"../../data/test_data_merged_10000.csv\", low_memory=False)\n",
    "m = Missingness.from_data_frame(df)"
   ]
  },
  {
   "cell_type": "code",
   "execution_count": null,
   "id": "76a3f91d",
   "metadata": {},
   "outputs": [],
   "source": [
    "combination_id_to_records = m._combination_id_to_records\n",
    "combination_id_to_columns = m._combination_id_to_columns\n",
    "combination_id_to_columns"
   ]
  },
  {
   "cell_type": "markdown",
   "id": "7644a3da",
   "metadata": {},
   "source": [
    "## Compare the two methods"
   ]
  },
  {
   "cell_type": "code",
   "execution_count": null,
   "id": "b23d1819",
   "metadata": {},
   "outputs": [],
   "source": [
    "combination_id_to_records[\"_record_id\"].is_monotonic_decreasing"
   ]
  },
  {
   "cell_type": "code",
   "execution_count": null,
   "id": "0790aed3",
   "metadata": {},
   "outputs": [],
   "source": [
    "comb = 45\n",
    "pg_combination_id_to_records.loc[comb]"
   ]
  },
  {
   "cell_type": "code",
   "execution_count": null,
   "id": "550197d5",
   "metadata": {},
   "outputs": [],
   "source": [
    "# idx = combination_id_to_records.index.max() - comb\n",
    "combination_id_to_records.loc[comb]"
   ]
  },
  {
   "cell_type": "code",
   "execution_count": null,
   "id": "b21d6492",
   "metadata": {},
   "outputs": [],
   "source": [
    "same_length = [len(pg_combination_id_to_records.loc[x])==len(combination_id_to_records.loc[x]) for x in pg_combination_id_to_records.index.unique()]\n",
    "sum(same_length)"
   ]
  },
  {
   "cell_type": "code",
   "execution_count": null,
   "id": "b469dbb7",
   "metadata": {},
   "outputs": [],
   "source": [
    "def intersection_records(df1, df2):\n",
    "    \"\"\"\n",
    "    Compares the intersection of _records_ids between two dataframes for each combination.\n",
    "    \"\"\"\n",
    "    col = \"_record_id\"\n",
    "    combinations = df1.index.unique()\n",
    "    intersection = [np.intersect1d(df1[col].loc[x], df2[col].loc[x]).shape[0] == df1.loc[x].shape[0] for x in combinations]\n",
    "    return intersection"
   ]
  },
  {
   "cell_type": "code",
   "execution_count": null,
   "id": "da2ba526",
   "metadata": {},
   "outputs": [],
   "source": [
    "# check if record_ids for each combination are the same in both dataframes\n",
    "intersections = intersection_records(pg_combination_id_to_records, combination_id_to_records)\n",
    "sum(intersections)"
   ]
  },
  {
   "cell_type": "code",
   "execution_count": null,
   "id": "bb6b5532",
   "metadata": {},
   "outputs": [],
   "source": [
    "# test if unique combination ids (in order) are identical\n",
    "sum(pg_combination_id_to_records.index.unique() == combination_id_to_records.index.unique())"
   ]
  },
  {
   "cell_type": "code",
   "execution_count": null,
   "id": "07c8370e",
   "metadata": {},
   "outputs": [],
   "source": [
    "# compare combination id to columns dataframes\n",
    "compare_patterns = [combination_id_to_columns.loc[x].drop(\"Key\").equals(df_comb.loc[x]) for x in df_comb.index]\n",
    "sum(compare_patterns)"
   ]
  },
  {
   "cell_type": "code",
   "execution_count": null,
   "id": "1d60256e",
   "metadata": {},
   "outputs": [],
   "source": [
    "# m._combination_id_to_columns.head() # id and missingness pattern for each unique combination "
   ]
  },
  {
   "cell_type": "code",
   "execution_count": null,
   "id": "c4cab91c",
   "metadata": {},
   "outputs": [],
   "source": [
    "# session = PlotSession(df, \"session_151021.json\")\n",
    "# session = PlotSession(df)"
   ]
  },
  {
   "cell_type": "code",
   "execution_count": null,
   "id": "700fcfe9",
   "metadata": {
    "scrolled": true
   },
   "outputs": [],
   "source": [
    "# session.add_plot(\"a\")"
   ]
  },
  {
   "cell_type": "code",
   "execution_count": null,
   "id": "7e973ef3",
   "metadata": {},
   "outputs": [],
   "source": [
    "# session.add_plot(name=\"b\", based_on=\"a\")"
   ]
  },
  {
   "cell_type": "code",
   "execution_count": null,
   "id": "f9e3c35b",
   "metadata": {},
   "outputs": [],
   "source": [
    "# session.add_plot(name=\"c\", based_on=\"b\")"
   ]
  },
  {
   "cell_type": "code",
   "execution_count": null,
   "id": "2b0f9109",
   "metadata": {},
   "outputs": [],
   "source": [
    "# session.save(\"session_151021.json\")"
   ]
  }
 ],
 "metadata": {
  "kernelspec": {
   "display_name": "Python 3 (ipykernel)",
   "language": "python",
   "name": "python3"
  },
  "language_info": {
   "codemirror_mode": {
    "name": "ipython",
    "version": 3
   },
   "file_extension": ".py",
   "mimetype": "text/x-python",
   "name": "python",
   "nbconvert_exporter": "python",
   "pygments_lexer": "ipython3",
   "version": "3.9.7"
  }
 },
 "nbformat": 4,
 "nbformat_minor": 5
}
