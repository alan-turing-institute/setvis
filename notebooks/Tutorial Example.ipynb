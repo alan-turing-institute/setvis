{
 "cells": [
  {
   "cell_type": "markdown",
   "id": "f2662b53",
   "metadata": {},
   "source": [
    "# PACE Tutorial 1: Analysing Missingness in Synthetic APC Data – Interactive selection"
   ]
  },
  {
   "cell_type": "markdown",
   "id": "e31edfba",
   "metadata": {},
   "source": [
    "## Introduction"
   ]
  },
  {
   "cell_type": "markdown",
   "id": "2ef2c293",
   "metadata": {},
   "source": [
    "This tutorial example focuses on the high-level functionality of PACE and uses a synthetic dataset that mirrors the missingness patterns that were found in an extract of an Admitted Patient Care (APC) dataset from Hospital Episode Statistics (HES)."
   ]
  },
  {
   "cell_type": "markdown",
   "id": "2a20ef68",
   "metadata": {},
   "source": [
    "<div class=\"alert alert-success\"><b>Note: </b>To produce the expected results, this tutorial notebook requires you to interact with it in a few places.  When this is necessary, a box like this will let you know.</div>"
   ]
  },
  {
   "cell_type": "markdown",
   "id": "580bcf98",
   "metadata": {},
   "source": [
    "## Preamble"
   ]
  },
  {
   "cell_type": "markdown",
   "id": "69ba3e19",
   "metadata": {},
   "source": [
    "### Includes: PACE and other libraries"
   ]
  },
  {
   "cell_type": "code",
   "execution_count": null,
   "id": "9a18e4b9",
   "metadata": {},
   "outputs": [],
   "source": [
    "from pace.missingness import *\n",
    "from pace.history import *\n",
    "from pace.plots import *\n",
    "\n",
    "import pandas as pd\n",
    "import numpy as np\n",
    "import matplotlib.pyplot as plt"
   ]
  },
  {
   "cell_type": "markdown",
   "id": "7d58911e",
   "metadata": {},
   "source": [
    "### Loading the data"
   ]
  },
  {
   "cell_type": "markdown",
   "id": "1551c5fa",
   "metadata": {},
   "source": [
    "Read the data into a Pandas dataframe, which can be read by PACE to explore the missingness of the data."
   ]
  },
  {
   "cell_type": "code",
   "execution_count": null,
   "id": "14e11256",
   "metadata": {},
   "outputs": [],
   "source": [
    "df = pd.read_csv(\"../../data/Synthetic_APC_DIAG_Fields.csv\")"
   ]
  },
  {
   "cell_type": "code",
   "execution_count": null,
   "id": "ec13c947",
   "metadata": {},
   "outputs": [],
   "source": [
    "df.tail()"
   ]
  },
  {
   "cell_type": "markdown",
   "id": "1ecf8fa8",
   "metadata": {},
   "source": [
    "## PACE Plotting session"
   ]
  },
  {
   "cell_type": "markdown",
   "id": "7a60af08",
   "metadata": {},
   "source": [
    "The first step of use PACE is to create a `PlotSession` object.  A `PlotSession` can be constructed from a Pandas dataframe, as shown in the cell below:"
   ]
  },
  {
   "cell_type": "code",
   "execution_count": null,
   "id": "022956f7",
   "metadata": {},
   "outputs": [],
   "source": [
    "session = PlotSession(df)"
   ]
  },
  {
   "cell_type": "markdown",
   "id": "4e07a87d",
   "metadata": {},
   "source": [
    "`PlotSession` is the core PACE class that provides the functionality to analyse and explore the missingness patterns found in a dataset. This can be done:\n",
    "  - **programatically**, via several methods of the class;\n",
    "  - with several **interactive plots** designed for use within a Jupyter notebook;\n",
    "  - using a combination of these modes.\n",
    "\n",
    "As this tutorial example will show, a `PlotSession` can be used to slice and select data and to create interactive plots. Moreover, the current session (including the interactive selections and active plots) can be saved and re-loaded, so that these do not have to be re-made when the notebook is restarted or shared."
   ]
  },
  {
   "cell_type": "markdown",
   "id": "139dab48",
   "metadata": {},
   "source": [
    "To visualise the dataset, call `PlotSession.add_plot`, providing a name.\n",
    "\n",
    "Naming the plot is important: It allows any interactive selection made in the plot to be referred to later."
   ]
  },
  {
   "cell_type": "code",
   "execution_count": null,
   "id": "c5e3d39d",
   "metadata": {},
   "outputs": [],
   "source": [
    "session.add_plot(name=\"all data\")"
   ]
  },
  {
   "cell_type": "markdown",
   "id": "d856a922",
   "metadata": {},
   "source": [
    "The result is a [Bokeh](https://docs.bokeh.org/en/latest/index.html) widget with a number of tabs, each with a different visualisation of the data missingness. All plots allow the user to make interactive selections. \n",
    "\n",
    "The tab that is selected when a plot is first added is the **Value bar chart**. It displays the number of missing values (y-axis) in each column (x-axis). Like any other visualization in PACE, it supports selection via the tap tool (left-click or `Shift` + left-click) and via box selection (click, drag and release)."
   ]
  },
  {
   "cell_type": "markdown",
   "id": "27c582c1",
   "metadata": {},
   "source": [
    "This chart shows us that, as expected, the primary diagnosis field (`DIAG_01`) and the five categorical fields (`ADMIAGE`, `ADMIMETH`, `MORTALITY`, `PROCODE3` and `SEX`) are never missing. Further, the secondary diagnosis fields are missing progressively more often from `DIAG_02` to `DIAG_10`."
   ]
  },
  {
   "cell_type": "markdown",
   "id": "cfe5d7f8",
   "metadata": {},
   "source": [
    "## Making a selection\n",
    "\n",
    "To investigate missingness we make a new plot and call it \"combinations\". \n",
    "The *Combination heatmap* displays a matrix of fields on the x-axis and missing combinations on the y-axis. The number of records that are associated with each missing combination is encoded using a sequential colour\n",
    "map (darker color indicates that a combination is missing more often)."
   ]
  },
  {
   "cell_type": "markdown",
   "id": "499d4a44",
   "metadata": {},
   "source": [
    "<div class=\"alert alert-success\"><b>Try it</b>: Run the code cell below and switch to the 'Combination heatmap' tab.</div>"
   ]
  },
  {
   "cell_type": "code",
   "execution_count": null,
   "id": "dee48bc9",
   "metadata": {},
   "outputs": [],
   "source": [
    "session.add_plot(name=\"combinations\")"
   ]
  },
  {
   "cell_type": "markdown",
   "id": "1cc06d04",
   "metadata": {},
   "source": [
    "It is expected in this dataset that if any diagnosis field from DIAG_02 to DIAG_10 is missing then all of\n",
    "the subsequent diagnosis fields should also be missing. The Combination Heatmap above highlights that\n",
    "this is indeed true for most of the missing records. However, there are also 7 unexpected missing combinations, which have gaps in the diagnosis fields."
   ]
  },
  {
   "cell_type": "markdown",
   "id": "dc308e17",
   "metadata": {},
   "source": [
    "<div class=\"alert alert-success\"><b>Try it:</b> In the Combination heatmap plot above, use one of the interactive tools to select all rows (combinations) that have unexpected gaps.</div>"
   ]
  },
  {
   "cell_type": "markdown",
   "id": "995a38d4",
   "metadata": {},
   "source": [
    "> <b>Hint</b>: If you made the suggested selection, the plot will look like the one in the Solution section at the end of this notebook."
   ]
  },
  {
   "cell_type": "markdown",
   "id": "c8032c35",
   "metadata": {},
   "source": [
    "We can retrieve the records present in the selection with `PlotSession.selected_records()`, passing the name of the selection.  Recall that our plot was named \"combinations\".\n",
    "\n",
    "Notice that:\n",
    "  - Even though we selected particular *missingness combinations* in the plot, `selected_records()` returns the indices of *records* in the dataframe that are present in the selection.  The indices returned refer to the original dataframe (`df` in our case).\n",
    "  - The function takes a name of a selection as its argument: in this case it is the name of the plot where the selection was made."
   ]
  },
  {
   "cell_type": "code",
   "execution_count": null,
   "id": "cca7df54",
   "metadata": {},
   "outputs": [],
   "source": [
    "gaps = session.selected_records(\"combinations\")"
   ]
  },
  {
   "cell_type": "markdown",
   "id": "aa6632e0",
   "metadata": {},
   "source": [
    "`selected_records()` returns a boolean Pandas series which is `True` when the record is included in the selection and `False` otherwise:"
   ]
  },
  {
   "cell_type": "code",
   "execution_count": null,
   "id": "33a3563d",
   "metadata": {},
   "outputs": [],
   "source": [
    "gaps"
   ]
  },
  {
   "cell_type": "code",
   "execution_count": null,
   "id": "483b398c",
   "metadata": {},
   "outputs": [],
   "source": [
    "print(f\"{sum(gaps)} of {len(gaps)} records are included in the selection.\")"
   ]
  },
  {
   "cell_type": "markdown",
   "id": "ccce160e",
   "metadata": {},
   "source": [
    "We can extract the full records from the original Pandas dataframe straightforwardly, if required:"
   ]
  },
  {
   "cell_type": "code",
   "execution_count": null,
   "id": "42b02e94",
   "metadata": {},
   "outputs": [],
   "source": [
    "df[gaps]"
   ]
  },
  {
   "cell_type": "markdown",
   "id": "5788a53a",
   "metadata": {},
   "source": [
    "## Explaining unexpected missing combinations – Data mining\n",
    "\n",
    "This section contains an example of how PACE can be combined with data mining methods to gain further insight into the missing data. \n",
    "The notebook `Information Gain Ratio.ipynb` contains helper functions to calculate the information gain ratio (IGR), which we will use for our example dataset. These helper functions are not part of the core PACE functionality, and illustrate how PACE can work alongside other libraries."
   ]
  },
  {
   "cell_type": "code",
   "execution_count": null,
   "id": "0469b9bf",
   "metadata": {},
   "outputs": [],
   "source": [
    "%run 'Information Gain Ratio.ipynb'"
   ]
  },
  {
   "cell_type": "markdown",
   "id": "f5b4df14",
   "metadata": {},
   "source": [
    "We use the function `igr()` loaded from `Information Gain Ratio.ipynb`."
   ]
  },
  {
   "cell_type": "code",
   "execution_count": null,
   "id": "6bab413b",
   "metadata": {},
   "outputs": [],
   "source": [
    "help(igr)"
   ]
  },
  {
   "cell_type": "markdown",
   "id": "a52d273c",
   "metadata": {},
   "source": [
    "`igr()` allows us to rank multiple columns (given by `igr_columns`) based on the correlation of their values with records that either are or\n",
    "are not members of selected missing combinations (`gaps`)."
   ]
  },
  {
   "cell_type": "code",
   "execution_count": null,
   "id": "7f09c6c5",
   "metadata": {},
   "outputs": [],
   "source": [
    "igr_columns = ['ADMIAGE','ADMIMETH','Mortality','PROCODE3','SEX']\n",
    "igr_result = igr(df[igr_columns], gaps)"
   ]
  },
  {
   "cell_type": "markdown",
   "id": "b18cfeee",
   "metadata": {},
   "source": [
    "If the suggested combinations have been selected from the combination heatmap, then `igr_result` should contain the following values for the IGR of each column:"
   ]
  },
  {
   "cell_type": "markdown",
   "id": "cb638bf9",
   "metadata": {},
   "source": [
    " | Column      | IGR    |\n",
    " |-------------|--------|\n",
    " | `ADMIAGE`   | 0.0852 |\n",
    " | `ADMIMETH`  | 0.0508 |\n",
    " | `Mortality` | 0.0352 |\n",
    " | `PROCODE3`  | 0.0999 |\n",
    " | `SEX`       | 0.0330 |"
   ]
  },
  {
   "cell_type": "code",
   "execution_count": null,
   "id": "1faab4f5",
   "metadata": {},
   "outputs": [],
   "source": [
    "igr_result"
   ]
  },
  {
   "cell_type": "code",
   "execution_count": null,
   "id": "d1c8821c",
   "metadata": {
    "scrolled": true
   },
   "outputs": [],
   "source": [
    "igr_result_sorted = dict(sorted(igr_result.items(), key=lambda kv: kv[1], reverse=True))\n",
    "\n",
    "plt.bar(igr_result_sorted.keys(), igr_result_sorted.values())\n",
    "plt.xlabel(\"Column\")\n",
    "plt.ylabel(\"Information Gain Ratio (IGR)\")\n",
    "plt.show()"
   ]
  },
  {
   "cell_type": "markdown",
   "id": "23b48742",
   "metadata": {},
   "source": [
    "## Saving the session\n",
    "\n",
    "If you were to re-run the notebook at this point, the interactive selection made in the Combination Heatmap above (\"combinations\") would be lost.  To avoid this, PACE can save any user-made selections to a file, and load it to restore the state of the session.\n",
    "\n",
    "The following cell will write the current selections in every plot in the session to the indicated json file."
   ]
  },
  {
   "cell_type": "code",
   "execution_count": null,
   "id": "df3f2331",
   "metadata": {},
   "outputs": [],
   "source": [
    "session.save(\"tutorial_example_session.json\")"
   ]
  },
  {
   "cell_type": "markdown",
   "id": "6835b205",
   "metadata": {},
   "source": [
    "This file can be re-loaded into a PlotSession object, or shared with others along with the notebook and any data it uses."
   ]
  },
  {
   "cell_type": "markdown",
   "id": "e6666198",
   "metadata": {},
   "source": [
    "<div class=\"alert alert-success\">\n",
    "Try replacing the code in input cell 3 of this notebook (the cell named '<tt>In [3]</tt>' if it has been run from the start) with\n",
    "    \n",
    "    session = PlotSession(df, session_file=\"tutorial_example_session.json\")\n",
    "    \n",
    "then restarting the notebook kernel and re-running it from the beginning.  The interactive selections you made within the plot will be restored.\n",
    "</div>"
   ]
  },
  {
   "cell_type": "markdown",
   "id": "8e2fcd46",
   "metadata": {},
   "source": [
    "## Solution"
   ]
  },
  {
   "cell_type": "markdown",
   "id": "8b24ff31",
   "metadata": {},
   "source": [
    "The following PlotSession is pre-populated with the suggested selection of combinations for the \"combination\" heatmap plot."
   ]
  },
  {
   "cell_type": "code",
   "execution_count": null,
   "id": "a0ec6cc4",
   "metadata": {},
   "outputs": [],
   "source": [
    "solution_session = PlotSession(df, session_file=\"tutorial_example_session_solution.json\")"
   ]
  },
  {
   "cell_type": "code",
   "execution_count": null,
   "id": "194004af",
   "metadata": {},
   "outputs": [],
   "source": [
    "solution_session.add_plot(name=\"combinations\")"
   ]
  },
  {
   "cell_type": "code",
   "execution_count": null,
   "id": "f70b10c0",
   "metadata": {},
   "outputs": [],
   "source": [
    "solution_gaps = solution_session.selected_records(\"combinations\")\n",
    "igr_columns = ['ADMIAGE','ADMIMETH','Mortality','PROCODE3','SEX']"
   ]
  },
  {
   "cell_type": "code",
   "execution_count": null,
   "id": "0ca7df39",
   "metadata": {},
   "outputs": [],
   "source": [
    "igr_result = igr(df[igr_columns], solution_gaps)\n",
    "igr_result"
   ]
  }
 ],
 "metadata": {
  "kernelspec": {
   "display_name": "Python 3 (ipykernel)",
   "language": "python",
   "name": "python3"
  },
  "language_info": {
   "codemirror_mode": {
    "name": "ipython",
    "version": 3
   },
   "file_extension": ".py",
   "mimetype": "text/x-python",
   "name": "python",
   "nbconvert_exporter": "python",
   "pygments_lexer": "ipython3",
   "version": "3.8.2"
  }
 },
 "nbformat": 4,
 "nbformat_minor": 5
}
