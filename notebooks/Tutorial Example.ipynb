{
 "cells": [
  {
   "cell_type": "code",
   "execution_count": null,
   "id": "9a18e4b9",
   "metadata": {},
   "outputs": [],
   "source": [
    "from pace.missingness import *\n",
    "from pace.history import *\n",
    "from pace.plots import *\n",
    "import pandas as pd\n",
    "import numpy as np\n",
    "\n",
    "import matplotlib.pyplot as plt"
   ]
  },
  {
   "cell_type": "markdown",
   "id": "1551c5fa",
   "metadata": {},
   "source": [
    "Read the data into a Pandas dataframe to explore the data with PACE."
   ]
  },
  {
   "cell_type": "code",
   "execution_count": null,
   "id": "14e11256",
   "metadata": {},
   "outputs": [],
   "source": [
    "df = pd.read_csv(\"../../data/Synthetic_APC_DIAG_Fields.csv\")"
   ]
  },
  {
   "cell_type": "markdown",
   "id": "1ecf8fa8",
   "metadata": {},
   "source": [
    "## Plot session"
   ]
  },
  {
   "cell_type": "markdown",
   "id": "4e07a87d",
   "metadata": {},
   "source": [
    "The first step to use PACE is to create a `PlotSession` object. `PlotSession` is the core PACE class that provides the functionality for the user to analyse the missingness of the dataset or create plots. `PlotSession()` takes the Pandas dataframe as input and computes the missingness of the provided data. As the example in this tutorial will show, the `PlotSession` object is used to slice/select data and to create interactive plots. Moreover, the current session (including selections and active plots) can be saved and re-loaded for later use. \n",
    "\n"
   ]
  },
  {
   "cell_type": "code",
   "execution_count": null,
   "id": "75947d8b",
   "metadata": {},
   "outputs": [],
   "source": [
    "session = PlotSession(df)"
   ]
  },
  {
   "cell_type": "markdown",
   "id": "139dab48",
   "metadata": {},
   "source": [
    "To visualise the dataset, use `add_plot()` and provide a name. Each tab shows a plot visualising different aspects of the data missingness. All plots allow the user to make interactive selections. \n",
    "\n",
    "The first tab that shows when a plot is added is the **Value bar chart**. It displays the number of missing values (y-axis) in each field (x-axis). Like any other visualization in PACE, it supports selection via the tap tool (left-click or `Shift` + left-click) and via box selection (hold left-click, drag and then release left-click)."
   ]
  },
  {
   "cell_type": "code",
   "execution_count": null,
   "id": "c5e3d39d",
   "metadata": {},
   "outputs": [],
   "source": [
    "session.add_plot(name=\"all data\")"
   ]
  },
  {
   "cell_type": "markdown",
   "id": "27c582c1",
   "metadata": {},
   "source": [
    "This chart shows us that, as expected, the primary diagnosis field (DIAG_01) and the 5 categorical fields (ADMIAGE, ADMIMETH, MORTALITY, PROCODE3 and SEX) are never missing. Further, the secondary diagnosis fields are missing progressively more often from DIAG_02 to DIAG_10."
   ]
  },
  {
   "cell_type": "markdown",
   "id": "cfe5d7f8",
   "metadata": {},
   "source": [
    "## Making a selection\n",
    "\n",
    "To investigate missingness we make a new plot and call it \"combinations\". \n",
    "The \"Combination heatmap\" displays a matrix of fields on the x-axis and missing combinations on the y-axis. The number of records that are associated with each missing combination is encoded using a sequential colour\n",
    "map (darker color indicates that a combination is missing more often)."
   ]
  },
  {
   "cell_type": "markdown",
   "id": "499d4a44",
   "metadata": {},
   "source": [
    "**Run the code cell below and switch to the \"Combination heatmap\" tab.**"
   ]
  },
  {
   "cell_type": "code",
   "execution_count": null,
   "id": "dee48bc9",
   "metadata": {},
   "outputs": [],
   "source": [
    "session.add_plot(name=\"combinations\")"
   ]
  },
  {
   "cell_type": "markdown",
   "id": "1cc06d04",
   "metadata": {},
   "source": [
    "It is expected in this dataset that if any diagnosis field from DIAG_02 to DIAG_10 is missing then all of\n",
    "the subsequent diagnosis fields should also be missing. The “combination heatmap” highlights that\n",
    "this is indeed true for most of the missing records. However, there are also 7 unexpected missing combinations, which have gaps in the diagnosis fields."
   ]
  },
  {
   "cell_type": "markdown",
   "id": "dc308e17",
   "metadata": {},
   "source": [
    "**In the \"Combination heatmap\" use one of the interactive tools to select all combinations that have unexpected gaps.**"
   ]
  },
  {
   "cell_type": "markdown",
   "id": "995a38d4",
   "metadata": {},
   "source": [
    "If you made the right selection, the \"Combination heatmap\" should look like the one in the **Solution** section."
   ]
  },
  {
   "cell_type": "markdown",
   "id": "024c9329",
   "metadata": {},
   "source": [
    "Even though we selected combinations in the \"Combination heatmap\" we can retrieve the corresponding record indices of the original dataframe with the `select_records()` function. The function requires the name of the plot in which the selection was made."
   ]
  },
  {
   "cell_type": "code",
   "execution_count": null,
   "id": "cca7df54",
   "metadata": {},
   "outputs": [],
   "source": [
    "gaps = session.selected_records(\"combinations\")"
   ]
  },
  {
   "cell_type": "markdown",
   "id": "aa6632e0",
   "metadata": {},
   "source": [
    "`selected_records()` returns a boolean Pandas series which is `True` when the record is included in the selection and `False` otherwise."
   ]
  },
  {
   "cell_type": "code",
   "execution_count": null,
   "id": "33a3563d",
   "metadata": {},
   "outputs": [],
   "source": [
    "gaps"
   ]
  },
  {
   "cell_type": "code",
   "execution_count": null,
   "id": "483b398c",
   "metadata": {},
   "outputs": [],
   "source": [
    "print(f\"{sum(gaps)} of {len(gaps)} selected records\")"
   ]
  },
  {
   "cell_type": "markdown",
   "id": "5788a53a",
   "metadata": {},
   "source": [
    "## Explaining unexpected missing combinations – Data mining\n",
    "\n",
    "This section contains an example of how PACE can be combined with data mining methods to gain further insight into the missing data. \n",
    "The notebook `Information Gain Ratio.ipynb` contains helper functions to calculate the information gain ratio (IGR), which we will use for our example dataset. These helper functions are not part of the core PACE functionality and can be replaced by other data mining methods."
   ]
  },
  {
   "cell_type": "code",
   "execution_count": null,
   "id": "0469b9bf",
   "metadata": {},
   "outputs": [],
   "source": [
    "%run 'Information Gain Ratio.ipynb'"
   ]
  },
  {
   "cell_type": "markdown",
   "id": "f5b4df14",
   "metadata": {},
   "source": [
    "We use the function `igr()` loaded from `Information Gain Ratio.ipynb`."
   ]
  },
  {
   "cell_type": "code",
   "execution_count": null,
   "id": "6bab413b",
   "metadata": {},
   "outputs": [],
   "source": [
    "help(igr)"
   ]
  },
  {
   "cell_type": "markdown",
   "id": "a52d273c",
   "metadata": {},
   "source": [
    "`igr()` allows us to rank multiple columns (given by `igr_columns`) based on the correlation of their values with records that either are or\n",
    "are not members of selected missing combinations (`gaps`)."
   ]
  },
  {
   "cell_type": "code",
   "execution_count": null,
   "id": "7f09c6c5",
   "metadata": {},
   "outputs": [],
   "source": [
    "igr_columns = ['ADMIAGE','ADMIMETH','Mortality','PROCODE3','SEX']\n",
    "igr_result = igr(df[igr_columns], gaps)"
   ]
  },
  {
   "cell_type": "markdown",
   "id": "b18cfeee",
   "metadata": {},
   "source": [
    "Assuming the correct combinations have been selected from the \"Combination heatmap\", `igr_result` contains the following values for the IGR:"
   ]
  },
  {
   "cell_type": "raw",
   "id": "f1b8e5fb",
   "metadata": {},
   "source": [
    "{'ADMIAGE': 0.08525399342998607,\n",
    " 'ADMIMETH': 0.05080650168125045,\n",
    " 'Mortality': 0.03520238568285461,\n",
    " 'PROCODE3': 0.09989352715669386,\n",
    " 'SEX': 0.03301993660620961}"
   ]
  },
  {
   "cell_type": "code",
   "execution_count": null,
   "id": "1faab4f5",
   "metadata": {},
   "outputs": [],
   "source": [
    "igr_result"
   ]
  },
  {
   "cell_type": "code",
   "execution_count": null,
   "id": "d1c8821c",
   "metadata": {
    "scrolled": true
   },
   "outputs": [],
   "source": [
    "plt.bar(igr_result.keys(), igr_result.values())\n",
    "plt.ylabel(\"IGR\")\n",
    "plt.show()"
   ]
  },
  {
   "cell_type": "markdown",
   "id": "23b48742",
   "metadata": {},
   "source": [
    "## Save session\n",
    "\n",
    "If you re-run the notebook, the interactive selection made in the \"Combination heatmap\" will be lost. But it is possible to save and re-load the session.\n",
    "\n",
    "The following cell will write the current session (interactive plot selection) to a json file."
   ]
  },
  {
   "cell_type": "code",
   "execution_count": null,
   "id": "df3f2331",
   "metadata": {},
   "outputs": [],
   "source": [
    "session.save(\"tutorial_example_session.json\")"
   ]
  },
  {
   "cell_type": "markdown",
   "id": "6835b205",
   "metadata": {},
   "source": [
    "This file can be re-loaded into a PlotSession object. "
   ]
  },
  {
   "cell_type": "markdown",
   "id": "e6666198",
   "metadata": {},
   "source": [
    "**Try to replace the code in cell 3 with** \n",
    "\n",
    "`session = PlotSession(df, session_file=\"tutorial_example_session.json\")`"
   ]
  },
  {
   "cell_type": "markdown",
   "id": "8e2fcd46",
   "metadata": {},
   "source": [
    "## Solution"
   ]
  },
  {
   "cell_type": "code",
   "execution_count": null,
   "id": "a0ec6cc4",
   "metadata": {},
   "outputs": [],
   "source": [
    "solution_session = PlotSession(df, session_file=\"tutorial_example_session_solution.json\")"
   ]
  },
  {
   "cell_type": "code",
   "execution_count": null,
   "id": "194004af",
   "metadata": {},
   "outputs": [],
   "source": [
    "solution_session.add_plot(name=\"combinations\")"
   ]
  },
  {
   "cell_type": "code",
   "execution_count": null,
   "id": "f70b10c0",
   "metadata": {},
   "outputs": [],
   "source": [
    "solution_gaps = solution_session.selected_records(\"combinations\")\n",
    "igr_columns = ['ADMIAGE','ADMIMETH','Mortality','PROCODE3','SEX']"
   ]
  },
  {
   "cell_type": "code",
   "execution_count": null,
   "id": "0ca7df39",
   "metadata": {},
   "outputs": [],
   "source": [
    "igr_result = igr(df[igr_columns], solution_gaps)\n",
    "igr_result"
   ]
  }
 ],
 "metadata": {
  "kernelspec": {
   "display_name": "Python 3 (ipykernel)",
   "language": "python",
   "name": "python3"
  },
  "language_info": {
   "codemirror_mode": {
    "name": "ipython",
    "version": 3
   },
   "file_extension": ".py",
   "mimetype": "text/x-python",
   "name": "python",
   "nbconvert_exporter": "python",
   "pygments_lexer": "ipython3",
   "version": "3.9.6"
  }
 },
 "nbformat": 4,
 "nbformat_minor": 5
}
