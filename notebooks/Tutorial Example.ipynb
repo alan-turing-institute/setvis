{
 "cells": [
  {
   "cell_type": "code",
   "execution_count": null,
   "id": "9a18e4b9",
   "metadata": {},
   "outputs": [],
   "source": [
    "from pace.missingness import *\n",
    "from pace.history import *\n",
    "from pace.plots import *\n",
    "import pandas as pd\n",
    "import numpy as np\n",
    "\n",
    "import matplotlib.pyplot as plt"
   ]
  },
  {
   "cell_type": "code",
   "execution_count": null,
   "id": "0469b9bf",
   "metadata": {},
   "outputs": [],
   "source": [
    "%run 'Information Gain Ratio.ipynb'"
   ]
  },
  {
   "cell_type": "code",
   "execution_count": null,
   "id": "14e11256",
   "metadata": {},
   "outputs": [],
   "source": [
    "df = pd.read_csv(\"../../data/Synthetic_APC_DIAG_Fields.csv\")"
   ]
  },
  {
   "cell_type": "code",
   "execution_count": null,
   "id": "75947d8b",
   "metadata": {},
   "outputs": [],
   "source": [
    "session = PlotSession(df, session_file=\"tutorial_example_session.json\")"
   ]
  },
  {
   "cell_type": "code",
   "execution_count": null,
   "id": "c5e3d39d",
   "metadata": {},
   "outputs": [],
   "source": [
    "session.add_plot(name=\"gaps\")"
   ]
  },
  {
   "cell_type": "code",
   "execution_count": null,
   "id": "cca7df54",
   "metadata": {},
   "outputs": [],
   "source": [
    "gaps = session.selected_records(\"gaps\")\n",
    "\n",
    "print(f\"{sum(gaps)} of {len(gaps)} selected records\")"
   ]
  },
  {
   "cell_type": "code",
   "execution_count": null,
   "id": "7f09c6c5",
   "metadata": {},
   "outputs": [],
   "source": [
    "igr_columns = ['ADMIAGE','ADMIMETH','Mortality','PROCODE3','SEX']\n",
    "igr_result = igr(df[igr_columns], gaps)\n",
    "\n",
    "igr_result"
   ]
  },
  {
   "cell_type": "code",
   "execution_count": null,
   "id": "d1c8821c",
   "metadata": {},
   "outputs": [],
   "source": [
    "plt.bar(igr_result.keys(), igr_result.values())"
   ]
  },
  {
   "cell_type": "code",
   "execution_count": null,
   "id": "df3f2331",
   "metadata": {},
   "outputs": [],
   "source": [
    "session.save(\"tutorial_example_session.json\")"
   ]
  }
 ],
 "metadata": {
  "kernelspec": {
   "display_name": "Python 3 (ipykernel)",
   "language": "python",
   "name": "python3"
  },
  "language_info": {
   "codemirror_mode": {
    "name": "ipython",
    "version": 3
   },
   "file_extension": ".py",
   "mimetype": "text/x-python",
   "name": "python",
   "nbconvert_exporter": "python",
   "pygments_lexer": "ipython3",
   "version": "3.8.2"
  }
 },
 "nbformat": 4,
 "nbformat_minor": 5
}
