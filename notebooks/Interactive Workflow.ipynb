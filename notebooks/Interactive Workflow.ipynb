{
 "cells": [
  {
   "cell_type": "code",
   "execution_count": null,
   "id": "f86dddd3",
   "metadata": {},
   "outputs": [],
   "source": [
    "import numpy as np\n",
    "import pandas as pd\n",
    "\n",
    "from pace.plots import PlotSession"
   ]
  },
  {
   "cell_type": "code",
   "execution_count": null,
   "id": "9b074017",
   "metadata": {},
   "outputs": [],
   "source": [
    "df = pd.read_csv(\"../data/test_data_merged_10000.csv\", low_memory=False)"
   ]
  },
  {
   "cell_type": "code",
   "execution_count": null,
   "id": "c4cab91c",
   "metadata": {},
   "outputs": [],
   "source": [
    "session = PlotSession(df, session_file=\"session.json\")"
   ]
  },
  {
   "cell_type": "code",
   "execution_count": null,
   "id": "700fcfe9",
   "metadata": {},
   "outputs": [],
   "source": [
    "session.add_plot(name=\"a\")"
   ]
  },
  {
   "cell_type": "code",
   "execution_count": null,
   "id": "cb0f06bc",
   "metadata": {},
   "outputs": [],
   "source": [
    "session.add_plot(name=\"b\", based_on=\"a\")"
   ]
  },
  {
   "cell_type": "code",
   "execution_count": null,
   "id": "a0089641",
   "metadata": {},
   "outputs": [],
   "source": [
    "session.add_plot(name=\"c\", based_on=\"b\")"
   ]
  },
  {
   "cell_type": "code",
   "execution_count": null,
   "id": "2b0f9109",
   "metadata": {},
   "outputs": [],
   "source": [
    "session.save(\"session.json\")"
   ]
  }
 ],
 "metadata": {
  "kernelspec": {
   "display_name": "Python 3 (ipykernel)",
   "language": "python",
   "name": "python3"
  },
  "language_info": {
   "codemirror_mode": {
    "name": "ipython",
    "version": 3
   },
   "file_extension": ".py",
   "mimetype": "text/x-python",
   "name": "python",
   "nbconvert_exporter": "python",
   "pygments_lexer": "ipython3",
   "version": "3.8.2"
  }
 },
 "nbformat": 4,
 "nbformat_minor": 5
}
