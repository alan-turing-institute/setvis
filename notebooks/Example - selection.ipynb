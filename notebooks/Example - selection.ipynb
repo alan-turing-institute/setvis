{
 "cells": [
  {
   "cell_type": "markdown",
   "id": "f2662b53",
   "metadata": {},
   "source": [
    "# Example: selection"
   ]
  },
  {
   "cell_type": "markdown",
   "id": "2ef2c293",
   "metadata": {},
   "source": [
    "This example shows the methods that you can use to select variables to iteratively analyse data with setvis. The example shows how to programmatically select variables via a PlotSession (Method 1) or a Membership object (Method 2). The example also how to interactively select variables from a plot (Method 3; i.e., the interactive version of Method 1).\n",
    "\n",
    "There are similar methods for selecting intersections (using Membership.select_intersections()) and records (using Membership.select_records()).\n",
    "\n",
    "There are also \"drop\" functions: Membership.drop_columns(), Membership.drop_intersections(), Membership.drop_records()\n",
    "\n",
    "And \"invert\" functions: Membership.invert_columns(), Membership.invert_intersections(), Membership.invert_records()\n",
    "\n",
    "Alternatively PlotSession.add_selection() can be used with its columns, intersections, records and/or invert arguments."
   ]
  },
  {
   "cell_type": "markdown",
   "id": "276a3afe",
   "metadata": {},
   "source": [
    "## Preamble"
   ]
  },
  {
   "cell_type": "markdown",
   "id": "69ba3e19",
   "metadata": {},
   "source": [
    "### Includes: setvis and other libraries"
   ]
  },
  {
   "cell_type": "code",
   "execution_count": null,
   "id": "9a18e4b9",
   "metadata": {},
   "outputs": [],
   "source": [
    "import pandas as pd\n",
    "import setvis\n",
    "import setvis.plots"
   ]
  },
  {
   "cell_type": "markdown",
   "id": "24f44867",
   "metadata": {},
   "source": [
    "### Loading the data"
   ]
  },
  {
   "cell_type": "code",
   "execution_count": null,
   "id": "5a57e0ba",
   "metadata": {},
   "outputs": [],
   "source": [
    "input_file = \"../examples/datasets/Synthetic_APC_DIAG_Fields.csv\""
   ]
  },
  {
   "cell_type": "markdown",
   "id": "7d58911e",
   "metadata": {},
   "source": [
    "## Whole dataset - visualize patterns of missing values"
   ]
  },
  {
   "cell_type": "markdown",
   "id": "4d266e3b",
   "metadata": {},
   "source": [
    "Create a membership object and setvis plots. There are 16 intersections (0 - 16) and 200 records (0 - 199)."
   ]
  },
  {
   "cell_type": "code",
   "execution_count": null,
   "id": "14e11256",
   "metadata": {},
   "outputs": [],
   "source": [
    "m = setvis.Membership.from_csv(input_file)\n",
    "session1 = setvis.plots.PlotSession(m)\n",
    "session1.add_plot(name=\"all\")\n",
    "print(session1.membership().intersections().index.tolist())\n",
    "print(session1.membership().records())"
   ]
  },
  {
   "cell_type": "markdown",
   "id": "6268105a",
   "metadata": {},
   "source": [
    "## Method 1: Select and plot missingness for specific columns"
   ]
  },
  {
   "cell_type": "markdown",
   "id": "06a00ab0",
   "metadata": {},
   "source": [
    "### Add a selection to a PlotSession"
   ]
  },
  {
   "cell_type": "markdown",
   "id": "5e2caeb3",
   "metadata": {},
   "source": [
    "Notes:\n",
    "  - Use add_selection() to select the columns DIAG_02 - DIAG_05 in the plot session.\n",
    "  - Then add a new plot to visualize the missingness. The argument `name` is the name for the new plot (and can be used to refer to a more refined selection that we make interactively within it). The argument `based_on` is the name of the selection from which we take the data to plot.  Notice that the plot below shows only the combinations that we selected in \"gaps\".\n",
    "  - The intersection and record IDs are not changed.\n",
    "  - But the Combination Heatmap only contains 9 intersections, because those that only differed due to missing values in DIAG_06 - DIAG_10 in the plot named \"all\" have been merged."
   ]
  },
  {
   "cell_type": "code",
   "execution_count": null,
   "id": "19f877cb",
   "metadata": {
    "scrolled": true
   },
   "outputs": [],
   "source": [
    "cols = ['DIAG_02','DIAG_03','DIAG_04','DIAG_05']\n",
    "session1.add_selection(name=\"selected columns\", columns=cols)\n",
    "session1.add_plot(name=\"selected columns plot\", based_on=\"selected columns\")\n",
    "print(session1.membership().intersections().index.tolist())\n",
    "print(session1.membership().records())"
   ]
  },
  {
   "cell_type": "markdown",
   "id": "5e4f4700",
   "metadata": {},
   "source": [
    "## Method 2: Create a new Membership object from a subset of columns"
   ]
  },
  {
   "cell_type": "markdown",
   "id": "3e0410d0",
   "metadata": {},
   "source": [
    "This is equivalent to only importing the subset of columns from the dataset. Note that:\n",
    "  - The intersections have been recalculated, so the intersection IDs (0-9) are different to session1.\n",
    "  - But the record IDs are the same (0-199) as session1.\n",
    "  - The visualizations identical to the Method 1 visualizations "
   ]
  },
  {
   "cell_type": "code",
   "execution_count": null,
   "id": "b484b9d6",
   "metadata": {},
   "outputs": [],
   "source": [
    "m2 = m.select_columns(cols)\n",
    "session2 = setvis.plots.PlotSession(m2)\n",
    "session2.add_plot(name=\"subset of columns)\")\n",
    "print(m2.intersections().index.tolist())\n",
    "print(m2.records())"
   ]
  },
  {
   "cell_type": "markdown",
   "id": "e9227245",
   "metadata": {},
   "source": [
    "## Method 3: Interactively select columns and visualize the missingness"
   ]
  },
  {
   "cell_type": "markdown",
   "id": "eb81a7f9",
   "metadata": {},
   "source": [
    "### First, create a new PlotSession that again visualizes patterns of missing values in the whole dataset"
   ]
  },
  {
   "cell_type": "code",
   "execution_count": null,
   "id": "5e5f8f3a",
   "metadata": {
    "scrolled": true
   },
   "outputs": [],
   "source": [
    "session3 = setvis.plots.PlotSession(m)\n",
    "session3.add_plot(name=\"session 3 all\")"
   ]
  },
  {
   "cell_type": "markdown",
   "id": "1c6a1526",
   "metadata": {},
   "source": [
    "### Use SHIFT-click to select the DIAG_02 - DIAG-05 columns in the above Value Bar Chart plot"
   ]
  },
  {
   "cell_type": "markdown",
   "id": "6c7ed9a2",
   "metadata": {},
   "source": [
    "If you have done the selection correctly then the \"selected columns plot\" visualizations below will be identical to the Method 1 and Method 2 visualizations."
   ]
  },
  {
   "cell_type": "code",
   "execution_count": null,
   "id": "3517d1a4",
   "metadata": {},
   "outputs": [],
   "source": [
    "session3.add_plot(name=\"selected columns plot\", based_on=\"session 3 all\")"
   ]
  }
 ],
 "metadata": {
  "kernelspec": {
   "display_name": "Python 3 (ipykernel)",
   "language": "python",
   "name": "python3"
  },
  "language_info": {
   "codemirror_mode": {
    "name": "ipython",
    "version": 3
   },
   "file_extension": ".py",
   "mimetype": "text/x-python",
   "name": "python",
   "nbconvert_exporter": "python",
   "pygments_lexer": "ipython3",
   "version": "3.9.7"
  }
 },
 "nbformat": 4,
 "nbformat_minor": 5
}
