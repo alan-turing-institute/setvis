{
 "cells": [
  {
   "cell_type": "code",
   "execution_count": null,
   "id": "dce88b72",
   "metadata": {},
   "outputs": [],
   "source": [
    "import pandas as pd\n",
    "import numpy as np\n",
    "\n",
    "from typing import Dict\n",
    "\n",
    "from scipy.stats import entropy\n",
    "\n",
    "from sklearn.metrics import mutual_info_score, adjusted_mutual_info_score, normalized_mutual_info_score"
   ]
  },
  {
   "cell_type": "code",
   "execution_count": null,
   "id": "81e25553",
   "metadata": {},
   "outputs": [],
   "source": [
    "def series_entropy(s: pd.Series) -> float:\n",
    "    \"\"\"Compute the entropy from samples in a Pandas series\"\"\"\n",
    "    return entropy(s.value_counts(normalize=True))"
   ]
  },
  {
   "cell_type": "code",
   "execution_count": null,
   "id": "2802857f",
   "metadata": {},
   "outputs": [],
   "source": [
    "def igr(df_features: pd.DataFrame, target: pd.Series) -> Dict[Any, float]:\n",
    "    \"\"\"\n",
    "    Calculate the information gain ratio for each feature in a dataframe\n",
    "\n",
    "    Parameters\n",
    "    ----------\n",
    "    df_features : Dataframe\n",
    "        The features for which the information gain ratio will be calculated\n",
    "    target : Series\n",
    "        The targets for which the information gain ratio with each feature will be calculated\n",
    "\n",
    "    Returns\n",
    "    -------\n",
    "    A dictionary of feature names to information gain ratio, for each feature in df_features.\n",
    "    \"\"\"\n",
    "    \n",
    "    return {\n",
    "        col: mutual_info_score(df_features[col], target) / series_entropy(df_features[col])\n",
    "        for col in df_features.columns\n",
    "    }"
   ]
  }
 ],
 "metadata": {
  "kernelspec": {
   "display_name": "Python 3 (ipykernel)",
   "language": "python",
   "name": "python3"
  },
  "language_info": {
   "codemirror_mode": {
    "name": "ipython",
    "version": 3
   },
   "file_extension": ".py",
   "mimetype": "text/x-python",
   "name": "python",
   "nbconvert_exporter": "python",
   "pygments_lexer": "ipython3",
   "version": "3.8.2"
  }
 },
 "nbformat": 4,
 "nbformat_minor": 5
}
