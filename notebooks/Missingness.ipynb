{
 "cells": [
  {
   "cell_type": "markdown",
   "id": "e8c804db",
   "metadata": {},
   "source": [
    "# Missingness example"
   ]
  },
  {
   "cell_type": "code",
   "execution_count": null,
   "id": "d043b41c",
   "metadata": {},
   "outputs": [],
   "source": [
    "import pandas as pd\n",
    "import numpy as np\n",
    "from pace.missingness import *"
   ]
  },
  {
   "cell_type": "code",
   "execution_count": null,
   "id": "7cea85bb",
   "metadata": {},
   "outputs": [],
   "source": [
    "df = pd.read_csv(\"../examples/datasets/Nutrients.csv\", low_memory=False)"
   ]
  },
  {
   "cell_type": "code",
   "execution_count": null,
   "id": "bc75c582",
   "metadata": {},
   "outputs": [],
   "source": [
    "df.tail()"
   ]
  },
  {
   "cell_type": "markdown",
   "id": "c103db84",
   "metadata": {},
   "source": [
    "## Construction from a dataframe"
   ]
  },
  {
   "cell_type": "code",
   "execution_count": null,
   "id": "16a25f83",
   "metadata": {},
   "outputs": [],
   "source": [
    "m = Missingness.from_data_frame(df)\n",
    "display(m)"
   ]
  },
  {
   "cell_type": "markdown",
   "id": "b8bb682c",
   "metadata": {},
   "source": [
    "## Show distinct missingness patterns"
   ]
  },
  {
   "cell_type": "markdown",
   "id": "be98475b",
   "metadata": {},
   "source": [
    "`Missingness.combinations()` returns each distinct missingness pattern as a dataframe"
   ]
  },
  {
   "cell_type": "code",
   "execution_count": null,
   "id": "4d4ed3f0",
   "metadata": {
    "scrolled": true
   },
   "outputs": [],
   "source": [
    "m.combinations()"
   ]
  },
  {
   "cell_type": "markdown",
   "id": "0a628adb",
   "metadata": {},
   "source": [
    "`Missingness.count_combinations()` is the same, along with the number of records satisfying the pattern (in the final column, `_count`)"
   ]
  },
  {
   "cell_type": "code",
   "execution_count": null,
   "id": "5e227c4c",
   "metadata": {
    "scrolled": true
   },
   "outputs": [],
   "source": [
    "m.count_combinations()"
   ]
  },
  {
   "cell_type": "markdown",
   "id": "92513605",
   "metadata": {},
   "source": [
    "## Selecting a subset of records by missingness pattern"
   ]
  },
  {
   "cell_type": "markdown",
   "id": "519a5501",
   "metadata": {},
   "source": [
    "The argument to select patterns refers to `pattern_key` in the dataframe above.  This could be determined by an interactive selection"
   ]
  },
  {
   "cell_type": "code",
   "execution_count": null,
   "id": "42210af6",
   "metadata": {},
   "outputs": [],
   "source": [
    "m.select_combinations([2,5]).count_combinations()"
   ]
  },
  {
   "cell_type": "markdown",
   "id": "0a8b0435",
   "metadata": {},
   "source": [
    "## Selecting a subset of columns"
   ]
  },
  {
   "cell_type": "markdown",
   "id": "543651c7",
   "metadata": {},
   "source": [
    "This will return a new Missingness object, based on the column selection. Patterns that are distinct before the selection may need to be merged, so `pattern_key` is reset."
   ]
  },
  {
   "cell_type": "code",
   "execution_count": null,
   "id": "41587f0c",
   "metadata": {},
   "outputs": [],
   "source": [
    "m.select_columns([\"name\", \"group\", \"protein (g)\", \"calcium (g)\", \"fiber (g)\"]).count_combinations()"
   ]
  },
  {
   "cell_type": "markdown",
   "id": "1a0b6952",
   "metadata": {},
   "source": [
    "## Selecting a subset of records explicitly"
   ]
  },
  {
   "cell_type": "code",
   "execution_count": null,
   "id": "4e350af7",
   "metadata": {
    "scrolled": true
   },
   "outputs": [],
   "source": [
    "# restrict to the first 30 records in the data frame\n",
    "m_first_30 = m.select_records(range(30))\n",
    "\n",
    "m_first_30.count_combinations()"
   ]
  },
  {
   "cell_type": "code",
   "execution_count": null,
   "id": "b26f7fa4",
   "metadata": {},
   "outputs": [],
   "source": [
    "m_first_30.records()"
   ]
  },
  {
   "cell_type": "markdown",
   "id": "a1e6ed34",
   "metadata": {},
   "source": [
    "## Select combinations matching a pattern"
   ]
  },
  {
   "cell_type": "markdown",
   "id": "2a96c6e2",
   "metadata": {},
   "source": [
    "Describe and match on particular patterns of missingness as follows. For example, the following describes any pattern with `DIAG_01` and `DIAG_02` missing (ignoring the other columns). This gives a convenient way of representing any intersection."
   ]
  },
  {
   "cell_type": "code",
   "execution_count": null,
   "id": "99ad0273",
   "metadata": {},
   "outputs": [],
   "source": [
    "Col(\"protein (g)\") & Col(\"fiber (g)\")"
   ]
  },
  {
   "cell_type": "markdown",
   "id": "ac6a7581",
   "metadata": {},
   "source": [
    "Use the description to select matching combinations.  The `combination_id` of matching combinations is returned."
   ]
  },
  {
   "cell_type": "code",
   "execution_count": null,
   "id": "7367933b",
   "metadata": {},
   "outputs": [],
   "source": [
    "matches = m.matching_combinations(Col(\"protein (g)\") & Col(\"fiber (g)\"))\n",
    "matches"
   ]
  },
  {
   "cell_type": "markdown",
   "id": "97964a91",
   "metadata": {},
   "source": [
    "The combinations dataframe can be indexed with the returned `combination_id`s"
   ]
  },
  {
   "cell_type": "code",
   "execution_count": null,
   "id": "2d811052",
   "metadata": {},
   "outputs": [],
   "source": [
    "m.combinations().loc[matches]"
   ]
  },
  {
   "cell_type": "markdown",
   "id": "e4e4a0db",
   "metadata": {},
   "source": [
    "Select individual records from the dataframe:"
   ]
  },
  {
   "cell_type": "code",
   "execution_count": null,
   "id": "f0b9d79c",
   "metadata": {},
   "outputs": [],
   "source": [
    "records = np.sort(m.matching_records(Col(\"protein (g)\") & Col(\"fiber (g)\")))\n",
    "display(records)"
   ]
  },
  {
   "cell_type": "markdown",
   "id": "53600c17",
   "metadata": {},
   "source": [
    "Extracting the matching records from the original dataframe"
   ]
  },
  {
   "cell_type": "code",
   "execution_count": null,
   "id": "c143b42e",
   "metadata": {
    "scrolled": true
   },
   "outputs": [],
   "source": [
    "df.loc[records]"
   ]
  }
 ],
 "metadata": {
  "kernelspec": {
   "display_name": "Python 3 (ipykernel)",
   "language": "python",
   "name": "python3"
  },
  "language_info": {
   "codemirror_mode": {
    "name": "ipython",
    "version": 3
   },
   "file_extension": ".py",
   "mimetype": "text/x-python",
   "name": "python",
   "nbconvert_exporter": "python",
   "pygments_lexer": "ipython3",
   "version": "3.8.2"
  }
 },
 "nbformat": 4,
 "nbformat_minor": 5
}
