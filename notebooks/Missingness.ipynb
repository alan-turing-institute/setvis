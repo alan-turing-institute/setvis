{
 "cells": [
  {
   "cell_type": "markdown",
   "id": "943040ed",
   "metadata": {},
   "source": [
    "# Missingness example"
   ]
  },
  {
   "cell_type": "code",
   "execution_count": null,
   "id": "37e19db2",
   "metadata": {},
   "outputs": [],
   "source": [
    "import pandas as pd\n",
    "import numpy as np\n",
    "from pace.missingness import *"
   ]
  },
  {
   "cell_type": "code",
   "execution_count": null,
   "id": "c1019c87",
   "metadata": {},
   "outputs": [],
   "source": [
    "df = pd.read_csv(\"../data/test_data_merged_10000.csv\", low_memory=False)"
   ]
  },
  {
   "cell_type": "code",
   "execution_count": null,
   "id": "7419c615",
   "metadata": {},
   "outputs": [],
   "source": [
    "df.tail()"
   ]
  },
  {
   "cell_type": "markdown",
   "id": "9be3f674",
   "metadata": {},
   "source": [
    "### Construction from a dataframe"
   ]
  },
  {
   "cell_type": "code",
   "execution_count": null,
   "id": "6a606eb5",
   "metadata": {},
   "outputs": [],
   "source": [
    "m = Missingness.from_data_frame(df)"
   ]
  },
  {
   "cell_type": "markdown",
   "id": "dc299e4f",
   "metadata": {},
   "source": [
    "### Counting missingness patterns"
   ]
  },
  {
   "cell_type": "markdown",
   "id": "0b961325",
   "metadata": {},
   "source": [
    "`Missingness.counts()` returns each distinct missingness pattern, along with the number of records satisfying the pattern (in the final column, `_count`)"
   ]
  },
  {
   "cell_type": "code",
   "execution_count": null,
   "id": "f5e9310d",
   "metadata": {},
   "outputs": [],
   "source": [
    "m.counts().head()"
   ]
  },
  {
   "cell_type": "markdown",
   "id": "3bccc9ea",
   "metadata": {},
   "source": [
    "Can pass a subset of pattern keys (equivalent to `m.counts().loc[selection]`, but could be faster):"
   ]
  },
  {
   "cell_type": "code",
   "execution_count": null,
   "id": "12c28c42",
   "metadata": {},
   "outputs": [],
   "source": [
    "m.counts(pattern_selection=[2, 5])"
   ]
  },
  {
   "cell_type": "markdown",
   "id": "db8cad97",
   "metadata": {},
   "source": [
    "Convenience function to use this to make the heatmap data"
   ]
  },
  {
   "cell_type": "code",
   "execution_count": null,
   "id": "8aa2a2e3",
   "metadata": {
    "scrolled": true
   },
   "outputs": [],
   "source": [
    "heatmap_data(m)"
   ]
  },
  {
   "cell_type": "markdown",
   "id": "cca44530",
   "metadata": {},
   "source": [
    "### Selecting a subset of columns"
   ]
  },
  {
   "cell_type": "markdown",
   "id": "f043ac5d",
   "metadata": {},
   "source": [
    "This will return a new Missingness object, based on the column selection (formerly distinct patterns may need to be merged)"
   ]
  },
  {
   "cell_type": "code",
   "execution_count": null,
   "id": "c29f30b9",
   "metadata": {},
   "outputs": [],
   "source": [
    "m.select_columns([\"Key\", \"Num_DIAG\", \"DIAG_01\", \"DIAG_02\", \"DIAG_03\"]).counts()"
   ]
  },
  {
   "cell_type": "markdown",
   "id": "3d3d3f68",
   "metadata": {},
   "source": [
    "### Describing missingness patterns"
   ]
  },
  {
   "cell_type": "markdown",
   "id": "76820b3e",
   "metadata": {},
   "source": [
    "Can match on particular missingness patterns. For example, the following describes any pattern with `DIAG_01` and `DIAG_02` missing (ignoring the other columns)."
   ]
  },
  {
   "cell_type": "code",
   "execution_count": null,
   "id": "1c3081e9",
   "metadata": {},
   "outputs": [],
   "source": [
    "Col(\"DIAG_02\") & Col(\"OPDATE_02\")"
   ]
  },
  {
   "cell_type": "markdown",
   "id": "8166cdd9",
   "metadata": {},
   "source": [
    "Can use the description to select individual records from the dataframe. The index of the dataframe, `pattern_key`, refers to the particular missingness pattern, and `_index` is the index in the original dataframe."
   ]
  },
  {
   "cell_type": "code",
   "execution_count": null,
   "id": "ce8b5b0c",
   "metadata": {},
   "outputs": [],
   "source": [
    "m.matches(Col(\"DIAG_02\") & Col(\"MYOPDATE_02\"))"
   ]
  },
  {
   "cell_type": "markdown",
   "id": "c3b79b22",
   "metadata": {},
   "source": [
    "Extracting the matching records from the original dataframe"
   ]
  },
  {
   "cell_type": "code",
   "execution_count": null,
   "id": "aebd18fe",
   "metadata": {
    "scrolled": true
   },
   "outputs": [],
   "source": [
    "df.loc[m.matches(Col(\"DIAG_02\") & Col(\"MYOPDATE_02\"))['_index']]"
   ]
  },
  {
   "cell_type": "markdown",
   "id": "9009ddd2",
   "metadata": {},
   "source": [
    "A helper function (based on `matches`) to extract the missingness counts for each column:"
   ]
  },
  {
   "cell_type": "code",
   "execution_count": null,
   "id": "4d2c22c2",
   "metadata": {},
   "outputs": [],
   "source": [
    "value_bar_chart_data(m)"
   ]
  }
 ],
 "metadata": {
  "kernelspec": {
   "display_name": "Python 3 (ipykernel)",
   "language": "python",
   "name": "python3"
  },
  "language_info": {
   "codemirror_mode": {
    "name": "ipython",
    "version": 3
   },
   "file_extension": ".py",
   "mimetype": "text/x-python",
   "name": "python",
   "nbconvert_exporter": "python",
   "pygments_lexer": "ipython3",
   "version": "3.8.2"
  }
 },
 "nbformat": 4,
 "nbformat_minor": 5
}
