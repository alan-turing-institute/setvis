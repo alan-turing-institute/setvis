{
 "cells": [
  {
   "cell_type": "markdown",
   "id": "e8c804db",
   "metadata": {},
   "source": [
    "# Missingness example"
   ]
  },
  {
   "cell_type": "code",
   "execution_count": null,
   "id": "d043b41c",
   "metadata": {},
   "outputs": [],
   "source": [
    "import pandas as pd\n",
    "import numpy as np\n",
    "from pace.missingness import *"
   ]
  },
  {
   "cell_type": "code",
   "execution_count": null,
   "id": "7cea85bb",
   "metadata": {},
   "outputs": [],
   "source": [
    "df = pd.read_csv(\"../data/test_data_merged_10000.csv\", low_memory=False)"
   ]
  },
  {
   "cell_type": "code",
   "execution_count": null,
   "id": "bc75c582",
   "metadata": {},
   "outputs": [],
   "source": [
    "df.tail()"
   ]
  },
  {
   "cell_type": "markdown",
   "id": "c103db84",
   "metadata": {},
   "source": [
    "## Construction from a dataframe"
   ]
  },
  {
   "cell_type": "code",
   "execution_count": null,
   "id": "16a25f83",
   "metadata": {},
   "outputs": [],
   "source": [
    "m = Missingness.from_data_frame(df)\n",
    "display(m)"
   ]
  },
  {
   "cell_type": "markdown",
   "id": "b8bb682c",
   "metadata": {},
   "source": [
    "## Counting missingness patterns"
   ]
  },
  {
   "cell_type": "markdown",
   "id": "0a628adb",
   "metadata": {},
   "source": [
    "`Missingness.counts()` returns each distinct missingness pattern, along with the number of records satisfying the pattern (in the final column, `_count`)"
   ]
  },
  {
   "cell_type": "code",
   "execution_count": null,
   "id": "5e227c4c",
   "metadata": {},
   "outputs": [],
   "source": [
    "m.combination_counts().head()"
   ]
  },
  {
   "cell_type": "markdown",
   "id": "66cd6f9f",
   "metadata": {},
   "source": [
    "Convenience function to make the heatmap data (based on `counts`)"
   ]
  },
  {
   "cell_type": "code",
   "execution_count": null,
   "id": "ffea2db8",
   "metadata": {
    "scrolled": true
   },
   "outputs": [],
   "source": [
    "heatmap_data(m)"
   ]
  },
  {
   "cell_type": "markdown",
   "id": "df4ecb8f",
   "metadata": {},
   "source": [
    "A helper function (based on `matches` - see below) to extract the missingness counts for each column:"
   ]
  },
  {
   "cell_type": "code",
   "execution_count": null,
   "id": "20a52173",
   "metadata": {},
   "outputs": [],
   "source": [
    "value_bar_chart_data(m)"
   ]
  },
  {
   "cell_type": "markdown",
   "id": "92513605",
   "metadata": {},
   "source": [
    "## Selecting a subset of records by missingness pattern"
   ]
  },
  {
   "cell_type": "markdown",
   "id": "519a5501",
   "metadata": {},
   "source": [
    "The argument to select patterns refers to `pattern_key` in the dataframe above.  This could be determined by an interactive selection"
   ]
  },
  {
   "cell_type": "code",
   "execution_count": null,
   "id": "42210af6",
   "metadata": {},
   "outputs": [],
   "source": [
    "m.select_combinations([2,5]).combination_counts()"
   ]
  },
  {
   "cell_type": "markdown",
   "id": "0a8b0435",
   "metadata": {},
   "source": [
    "## Selecting a subset of columns"
   ]
  },
  {
   "cell_type": "markdown",
   "id": "543651c7",
   "metadata": {},
   "source": [
    "This will return a new Missingness object, based on the column selection. Patterns that are distinct before the selection may need to be merged, so `pattern_key` is reset."
   ]
  },
  {
   "cell_type": "code",
   "execution_count": null,
   "id": "41587f0c",
   "metadata": {},
   "outputs": [],
   "source": [
    "m.select_columns([\"Key\", \"Num_DIAG\", \"DIAG_01\", \"DIAG_02\", \"DIAG_03\"]).combination_counts()"
   ]
  },
  {
   "cell_type": "markdown",
   "id": "1a0b6952",
   "metadata": {},
   "source": [
    "## Selecting a subset of records explicitly"
   ]
  },
  {
   "cell_type": "code",
   "execution_count": null,
   "id": "4e350af7",
   "metadata": {
    "scrolled": true
   },
   "outputs": [],
   "source": [
    "# restrict to the first 30 records in the data frame\n",
    "m.select_records(range(30)).combination_counts()"
   ]
  },
  {
   "cell_type": "code",
   "execution_count": null,
   "id": "b26f7fa4",
   "metadata": {},
   "outputs": [],
   "source": [
    "m.records()"
   ]
  },
  {
   "cell_type": "markdown",
   "id": "a1e6ed34",
   "metadata": {},
   "source": [
    "## Describing missingness patterns"
   ]
  },
  {
   "cell_type": "markdown",
   "id": "2a96c6e2",
   "metadata": {},
   "source": [
    "Describe and match on particular missingness patterns as follows. For example, the following describes any pattern with `DIAG_01` and `DIAG_02` missing (ignoring the other columns). This gives a convenient way of representing any intersection."
   ]
  },
  {
   "cell_type": "code",
   "execution_count": null,
   "id": "99ad0273",
   "metadata": {},
   "outputs": [],
   "source": [
    "Col(\"DIAG_02\") & Col(\"OPDATE_02\")"
   ]
  },
  {
   "cell_type": "markdown",
   "id": "e4e4a0db",
   "metadata": {},
   "source": [
    "Can use the description to select individual records from the dataframe. The index of the dataframe, `pattern_key`, refers to the particular missingness pattern, and `_index` is the index in the original dataframe."
   ]
  },
  {
   "cell_type": "code",
   "execution_count": null,
   "id": "f0b9d79c",
   "metadata": {},
   "outputs": [],
   "source": [
    "matches = np.sort(m.matches(Col(\"DIAG_02\") & Col(\"MYOPDATE_02\")))\n",
    "display(matches)"
   ]
  },
  {
   "cell_type": "markdown",
   "id": "53600c17",
   "metadata": {},
   "source": [
    "Extracting the matching records from the original dataframe"
   ]
  },
  {
   "cell_type": "code",
   "execution_count": null,
   "id": "c143b42e",
   "metadata": {
    "scrolled": true
   },
   "outputs": [],
   "source": [
    "df.loc[matches]"
   ]
  }
 ],
 "metadata": {
  "kernelspec": {
   "display_name": "Python 3 (ipykernel)",
   "language": "python",
   "name": "python3"
  },
  "language_info": {
   "codemirror_mode": {
    "name": "ipython",
    "version": 3
   },
   "file_extension": ".py",
   "mimetype": "text/x-python",
   "name": "python",
   "nbconvert_exporter": "python",
   "pygments_lexer": "ipython3",
   "version": "3.8.2"
  }
 },
 "nbformat": 4,
 "nbformat_minor": 5
}
