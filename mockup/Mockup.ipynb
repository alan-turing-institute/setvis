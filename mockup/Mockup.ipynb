{
 "cells": [
  {
   "cell_type": "markdown",
   "id": "c76be608",
   "metadata": {},
   "source": [
    "# Mock-up interactive notebook\n",
    "\n",
    "TODO\n",
    "- Turn off logging for reading csv file\n",
    "- Link reset button plot to empty list of selected indices\n",
    "- Option to dynamically add more cells if required"
   ]
  },
  {
   "cell_type": "code",
   "execution_count": null,
   "id": "98472440",
   "metadata": {},
   "outputs": [],
   "source": [
    "from pace.datastructure import MissingData\n",
    "from pace.plots import value_bar_chart, combination_heatmap, dict_to_matrix, dict_to_long_matrix, plot_data\n",
    "from pathlib import Path\n",
    "import pandas as pd\n",
    "import numpy as np\n",
    "\n",
    "from bokeh.models import ColumnDataSource # remove again\n",
    "from bokeh.io import output_notebook\n",
    "output_notebook(hide_banner=True)\n",
    "\n",
    "# imports for click buttons\n",
    "from IPython.display import Javascript, display\n",
    "from ipywidgets import widgets\n",
    "\n",
    "import logging\n",
    "# Set up logging\n",
    "logger = logging.getLogger(__name__)\n",
    "logging.basicConfig(level=logging.INFO)"
   ]
  },
  {
   "cell_type": "code",
   "execution_count": null,
   "id": "6166cea4",
   "metadata": {},
   "outputs": [],
   "source": [
    "# initialise button for later\n",
    "button = widgets.Button(description=\"Go!\")\n",
    "button.clicked = False\n",
    "\n",
    "def run_cells_below(b): # move function definition\n",
    "    b.clicked = True\n",
    "    display(Javascript('IPython.notebook.execute_cells_below()'))\n",
    "\n",
    "\n",
    "button.on_click(run_cells_below)\n",
    "\n",
    "# dropdown menu\n",
    "w = widgets.Dropdown(\n",
    "    options=['None', 'Combination heatmap', 'Combination bar chart'],\n",
    "    value='None',\n",
    "    description='Plot:',\n",
    ")\n",
    "\n",
    "# def on_change(change):\n",
    "#     if change['type'] == 'change' and change['name'] == 'value':\n",
    "#         print(\"changed to %s\" % change['new'])\n",
    "\n",
    "# w.observe(on_change)"
   ]
  },
  {
   "cell_type": "markdown",
   "id": "6eb407c6",
   "metadata": {},
   "source": [
    "## Load data\n"
   ]
  },
  {
   "cell_type": "code",
   "execution_count": null,
   "id": "bf711fbd",
   "metadata": {},
   "outputs": [],
   "source": [
    "# load data set\n",
    "filename = \"test_data_merged_10000.csv\"\n",
    "path_to_file = Path.cwd() / \"data\" / filename\n",
    "data = pd.read_csv(path_to_file)\n",
    "logging.info(f\"\"\"\n",
    "Load dataset\n",
    "********\n",
    "Number of fields: {data.shape[1]}\n",
    "Number of records: {data.shape[0]}\n",
    "********\"\"\")"
   ]
  },
  {
   "cell_type": "markdown",
   "id": "0985ccae",
   "metadata": {},
   "source": [
    "## Perform computation and plot value bar chart\n",
    "\n",
    "Perform missingness computation and plot value bar chart."
   ]
  },
  {
   "cell_type": "code",
   "execution_count": null,
   "id": "2250f25b",
   "metadata": {},
   "outputs": [],
   "source": [
    "# create missing data instance\n",
    "missing_data_instance = MissingData(data)\n",
    "# convert dictionary to plot_source?\n",
    "data_matrix = dict_to_matrix(missing_data_instance) # todo: rename this function\n",
    "selected_indices = []\n",
    "value_bar_chart(data_matrix, selected_indices)\n",
    "logging.info(f\"\"\"\n",
    "Computation\n",
    "********\n",
    "Total number of missing combinations: {len(missing_data_instance.missing_combinations)}\n",
    "********\"\"\")"
   ]
  },
  {
   "cell_type": "markdown",
   "id": "2a7fc76c",
   "metadata": {},
   "source": [
    "## Visualise\n",
    "\n",
    "Plot options can be chosen from the dropdown menu. If you want to visualise only selected fields, go to the plot and hold down the left mouse button to use the `Box select` tool to select multipe fields at once, or left-click on the field you want to select. `Shift` + left-click also allows you to individually selecte multiple fields. "
   ]
  },
  {
   "cell_type": "code",
   "execution_count": null,
   "id": "87a9da07",
   "metadata": {},
   "outputs": [],
   "source": [
    "logging.info(f\"\"\"\n",
    "********\n",
    "Please select a plot from the dropdown menu and press 'Go!'.\n",
    "OR\n",
    "Select the fields of interest from the value bar chart, choose a plot from the dropdown menu and press 'GO!'.\n",
    "********\"\"\")\n",
    "display(w, button)"
   ]
  },
  {
   "cell_type": "markdown",
   "id": "ce4d66d9",
   "metadata": {},
   "source": [
    "The idea is that if no selection is made, the existing data instance is used for the plot. If a selection is made, a new data instance is created. This isn't fully implemented yet."
   ]
  },
  {
   "cell_type": "code",
   "execution_count": null,
   "id": "77e014f9",
   "metadata": {},
   "outputs": [],
   "source": [
    "if not selected_indices:\n",
    "    plot_data(missing_data_instance, w.value, selected_indices)\n",
    "else:\n",
    "    logging.info(f\"\"\"\n",
    "    Data slicing not implemented yet!\"\"\")"
   ]
  }
 ],
 "metadata": {
  "kernelspec": {
   "display_name": "Python 3 (ipykernel)",
   "language": "python",
   "name": "python3"
  },
  "language_info": {
   "codemirror_mode": {
    "name": "ipython",
    "version": 3
   },
   "file_extension": ".py",
   "mimetype": "text/x-python",
   "name": "python",
   "nbconvert_exporter": "python",
   "pygments_lexer": "ipython3",
   "version": "3.8.2"
  }
 },
 "nbformat": 4,
 "nbformat_minor": 5
}
