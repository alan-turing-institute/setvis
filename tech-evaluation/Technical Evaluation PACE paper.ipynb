{
 "cells": [
  {
   "cell_type": "markdown",
   "id": "a49451c5",
   "metadata": {},
   "source": [
    "# Perfomance PACE (paper - technical evaluation)\n",
    "\n",
    "PACE was designed/implemented to be used in a notebook environment. Hence, a notebook should be used to evaluate its performance.\n",
    "\n",
    "We need to evaluate three spects:\n",
    "1. Missingness computation (time in sec)\n",
    "2. Visualisation (time in sec)\n",
    "3. RAM (`psutil.virtual(memory)`)\n",
    "\n",
    "The results of the evaluation are written to a csv file. \n",
    "\n",
    "<line>\n",
    "    \n",
    "Todo:\n",
    "    \n",
    "- [x] write results to file\n",
    "- [x] load parameters from `config.yaml` file: same file should be used for UpSet (Python script) adn PACE (notebook)\n",
    "- [ ] set seeds"
   ]
  },
  {
   "cell_type": "code",
   "execution_count": null,
   "id": "3568afbc",
   "metadata": {},
   "outputs": [],
   "source": [
    "from pace.membership import Membership\n",
    "from pace.plots import PlotSession\n",
    "from utils import generate_pattern\n",
    "from datetime import datetime\n",
    "import psutil\n",
    "import yaml\n",
    "import pandas as pd\n",
    "import csv"
   ]
  },
  {
   "cell_type": "markdown",
   "id": "253d5123",
   "metadata": {},
   "source": [
    "## Load config file"
   ]
  },
  {
   "cell_type": "code",
   "execution_count": null,
   "id": "c73271b0",
   "metadata": {},
   "outputs": [],
   "source": [
    "config_yaml = open(\"config.yaml\")\n",
    "config = yaml.load(config_yaml, Loader=yaml.FullLoader)"
   ]
  },
  {
   "cell_type": "code",
   "execution_count": null,
   "id": "70fc7bab",
   "metadata": {},
   "outputs": [],
   "source": [
    "num_rows = config[\"dataset\"][\"num_rows\"]\n",
    "num_cols = config[\"dataset\"][\"num_cols\"]\n",
    "patterns = config[\"patterns\"]\n",
    "filename = config[\"output\"][\"filename\"]\n",
    "package = \"pace\"\n",
    "output_file = f\"{filename}_{package}.csv\""
   ]
  },
  {
   "cell_type": "markdown",
   "id": "bb268c94",
   "metadata": {},
   "source": [
    "## Functions"
   ]
  },
  {
   "cell_type": "code",
   "execution_count": null,
   "id": "d819f588",
   "metadata": {},
   "outputs": [],
   "source": [
    "def eval_pace(df, package, pattern, num_rows, num_cols):\n",
    "    \"\"\"\n",
    "    Evaluates the performance of PACE by timing the \n",
    "    missingness computation and the visualisation of the provided data.\n",
    "\n",
    "    Parameters\n",
    "    ----------\n",
    "    df : pd.DataFrame\n",
    "        data frame\n",
    "    package : str\n",
    "        name of the evaluated visualisation package \n",
    "    pattern : str\n",
    "        name of the pattern used to generate data\n",
    "    num_rows : int\n",
    "        number of rows in the dataset (records)\n",
    "    num_cols : int\n",
    "        number of columns in the dataset\n",
    "    Returns \n",
    "    -------\n",
    "    \"\"\"\n",
    "    try:\n",
    "        results = [\n",
    "            [\n",
    "                package,\n",
    "                pattern,\n",
    "                num_rows,\n",
    "                num_cols,\n",
    "                \"START\",\n",
    "                None,\n",
    "                psutil.virtual_memory(),\n",
    "            ]\n",
    "        ]\n",
    "        # compute missingness\n",
    "        start_time = datetime.now()\n",
    "        data_missing = Membership.from_data_frame(df)\n",
    "        time2 = datetime.now()\n",
    "        td = time2 - start_time\n",
    "        results.append(\n",
    "            [\n",
    "                package,\n",
    "                pattern,\n",
    "                num_rows,\n",
    "                num_cols,\n",
    "                \"COMPUTE\",\n",
    "                td.seconds + td.microseconds / 1e6,\n",
    "                psutil.virtual_memory(),\n",
    "            ]\n",
    "        )\n",
    "        # visualisations\n",
    "        time3 = datetime.now()\n",
    "        session = PlotSession(df)\n",
    "        time4 = datetime.now()\n",
    "        session.add_plot(\"a\")\n",
    "        time5 = datetime.now()\n",
    "        td = time5 - time3 # decide what's a fair comparison\n",
    "        results.append(\n",
    "            [\n",
    "                package,\n",
    "                pattern,\n",
    "                num_rows,\n",
    "                num_cols,\n",
    "                \"VISUALIZE\",\n",
    "                td.seconds + td.microseconds / 1e6,\n",
    "                psutil.virtual_memory(),\n",
    "            ]\n",
    "        )\n",
    "        return results\n",
    "    except:\n",
    "        raise\n",
    "    "
   ]
  },
  {
   "cell_type": "markdown",
   "id": "c45ba94d",
   "metadata": {},
   "source": [
    "## Generate data and evaluate"
   ]
  },
  {
   "cell_type": "code",
   "execution_count": null,
   "id": "e553ef60",
   "metadata": {},
   "outputs": [],
   "source": [
    "with open(output_file, \"w\", newline=\"\\n\") as csvfile:\n",
    "    w = csv.writer(csvfile, delimiter=\",\")\n",
    "    w.writerow(\n",
    "        [\n",
    "            \"Package\",\n",
    "            \"Pattern\",\n",
    "            \"Num_rows\",\n",
    "            \"Num_cols\",\n",
    "            \"Stage\",\n",
    "            \"Tims (s)\",\n",
    "            \"RAM\",\n",
    "        ]\n",
    "    )\n",
    "\n",
    "    for pattern in patterns:\n",
    "        for row in num_rows:\n",
    "            for col in num_cols:\n",
    "                # step 1: generate data\n",
    "                df = generate_pattern(pattern,row, col)\n",
    "                # step 2: evaluate pace on data\n",
    "                results = eval_pace(df, package, pattern, row, col)\n",
    "                # step 3: write results to output\n",
    "                w.writerows(results)"
   ]
  }
 ],
 "metadata": {
  "kernelspec": {
   "display_name": "Python 3 (ipykernel)",
   "language": "python",
   "name": "python3"
  },
  "language_info": {
   "codemirror_mode": {
    "name": "ipython",
    "version": 3
   },
   "file_extension": ".py",
   "mimetype": "text/x-python",
   "name": "python",
   "nbconvert_exporter": "python",
   "pygments_lexer": "ipython3",
   "version": "3.9.7"
  }
 },
 "nbformat": 4,
 "nbformat_minor": 5
}
