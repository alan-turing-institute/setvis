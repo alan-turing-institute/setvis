{
 "cells": [
  {
   "cell_type": "markdown",
   "id": "9315cd4b",
   "metadata": {},
   "source": [
    "## PostgreSQL\n",
    "\n",
    "This is a three step process:\n",
    "- Generate 20M rows of dataframe and write them to CSV files\n",
    "- Populate a PSQL instance with each of those CSVs five times\n",
    "- Use setvis to read each of the PSQL tables and record the results"
   ]
  },
  {
   "cell_type": "markdown",
   "id": "a0e4a76e",
   "metadata": {},
   "source": [
    "## Prep and parameters"
   ]
  },
  {
   "cell_type": "code",
   "execution_count": null,
   "id": "0c00d8b4",
   "metadata": {},
   "outputs": [],
   "source": [
    "import os\n",
    "import sys\n",
    "import time\n",
    "import psycopg2\n",
    "from setvis.membership import *\n",
    "from IPython.display import clear_output\n",
    "from utils import (generate_data)"
   ]
  },
  {
   "cell_type": "code",
   "execution_count": null,
   "id": "38183687",
   "metadata": {},
   "outputs": [],
   "source": [
    "def get_connection():\n",
    "    conn = psycopg2.connect(\n",
    "        host=\"localhost\",\n",
    "        port=\"5432\",\n",
    "        user=\"postgres\",\n",
    "        password=\"postgres\",\n",
    "        dbname=\"public\"\n",
    "    )\n",
    "    return conn"
   ]
  },
  {
   "cell_type": "code",
   "execution_count": null,
   "id": "bed14d03",
   "metadata": {},
   "outputs": [],
   "source": [
    "# Do setvis eval\n",
    "def postgresql_intersections(conn, table = \"setvis\"):\n",
    "    data = Membership.from_postgres(\n",
    "        conn,\n",
    "        table,\n",
    "        \"key\",\n",
    "    )\n",
    "    return data"
   ]
  },
  {
   "cell_type": "code",
   "execution_count": null,
   "id": "994a1ec9",
   "metadata": {},
   "outputs": [],
   "source": [
    "# generate csvs for 100M row trial\n",
    "# 1 hour process\n",
    "PM = 'planned missing'\n",
    "GM = 'general missing'\n",
    "SET = 'sets'\n",
    "PATTERNS = [SET, GM, PM]\n",
    "# redefine factors_of func\n",
    "def factors_of(x):\n",
    "    d2 = [0.001, 0.005, 0.01]\n",
    "    return [int(i * x) for i in d2]\n",
    "\n",
    "# constants\n",
    "# 20M rows\n",
    "GM_ROW = int(2e7)\n",
    "GM_COL = 20\n",
    "# one value in each\n",
    "ROWS = [GM_ROW] \n",
    "COLS = [GM_COL]\n",
    "GM_INTS = factors_of(GM_ROW)"
   ]
  },
  {
   "cell_type": "markdown",
   "id": "9ce13841",
   "metadata": {},
   "source": [
    "## Step 1\n",
    "\n",
    "Generate 20M rows of dataframe and write them to CSV files"
   ]
  },
  {
   "cell_type": "code",
   "execution_count": null,
   "id": "56c4660d",
   "metadata": {},
   "outputs": [],
   "source": [
    "# this can take up to 7 hour, on the 12 core cpu 3.6GH\n",
    "# requires minmum 24GB machine\n",
    "# \n",
    "# generate 20m rows & write csvs to directory named csvs\n",
    "start_time = time.time()\n",
    "for c in COLS:\n",
    "    for r in ROWS:\n",
    "        for p in PATTERNS:\n",
    "            num_int = None\n",
    "            if (p == GM) | (p == SET):\n",
    "                for i in GM_INTS:\n",
    "                    num_int = i\n",
    "                    if p == SET:\n",
    "                        num_int = [num_int, int(num_int/10)]\n",
    "                    print(p, \"\\t\", \"\\t combs: \", num_int)\n",
    "                    t = time.time()\n",
    "                    df = generate_data(p, GM_ROW, GM_COL, num_int)\n",
    "                    print(f\"Time to generate data: {time.time()-t:.2f} secs\")\n",
    "                    print(f\"Size of df: {sys.getsizeof(df)/1024/1024:.3f}MB\")\n",
    "                    if p == GM:\n",
    "                        df.to_csv(f\"csvs/{p}-{c}x{r}-{i}.csv\", index=False)\n",
    "                    else:\n",
    "                        df.to_csv(f\"csvs/{p}-{len(num_int)}x{r}-{i}.csv\", index=False)\n",
    "            else:\n",
    "                print(p, \"\\t:\", r, \"\\t\", c)\n",
    "                t = time.time()\n",
    "                df = generate_data(p, r, c, num_int)\n",
    "                print(f\"Time to generate data: {time.time()-t:.2f} secs\")\n",
    "                print(f\"Size of df: {sys.getsizeof(df)/1024/1024:.3f}MB\")\n",
    "                df.to_csv(f\"csvs/{p}-{c}x{r}.csv\", index=False)\n",
    "# clear_output()\n",
    "print(f\"Done. Total time ({time.time() - start_time:.2f}s)\")"
   ]
  },
  {
   "cell_type": "markdown",
   "id": "aeba5f03",
   "metadata": {},
   "source": [
    "## Step 2\n",
    "Populate a PSQL instance with each of those CSVs five times. The script `populate-sql.sh` is carefully curated with both Step 1 and 3 in mind. It also uses PSQL `COPY` to insert the CSVs into PSQL relations in two steps:\n",
    "- copy without a key column\n",
    "- create a key column for setvis to use in Step 3"
   ]
  },
  {
   "cell_type": "code",
   "execution_count": null,
   "id": "79688fe3",
   "metadata": {},
   "outputs": [],
   "source": [
    "# copy written csv files in \"csvs\" directory\n",
    "# to PSQL using script named populate-sql.sh\n",
    "# requires appropriate PSQL user & db privilege on machine\n",
    "# this takes x hours\n",
    "# time sh populate-sql.sh csvs\n",
    "# real\t177m33.442s ~ about 3 hrs\n",
    "# requires some 65GB in /var/lib/postgresql/12"
   ]
  },
  {
   "cell_type": "markdown",
   "id": "990a1aa9",
   "metadata": {},
   "source": [
    "## Step 3\n",
    "\n",
    "Use setvis to read each of the PSQL tables and record the results"
   ]
  },
  {
   "cell_type": "code",
   "execution_count": null,
   "id": "ab594ba8",
   "metadata": {},
   "outputs": [],
   "source": [
    "rams = []\n",
    "times = []\n",
    "\n",
    "def evaluate(table_name, row, col, pattern, num_int = 0):\n",
    "    \"\"\"Evaluates the performance of the \"Membership.from_postgres\" function\n",
    "    for a given PostgreSQL relation populated using rows and columns.\n",
    "    \"\"\"\n",
    "    # 1. capture time\n",
    "    t = time.time()\n",
    "    data = postgresql_intersections(conn, table_name)\n",
    "    t = time.time() - t\n",
    "\n",
    "    print(f'{t:.2f} secs')\n",
    "    # 2. capture memory\n",
    "    m_col = sys.getsizeof(data._intersection_id_to_columns) \n",
    "    m_row = sys.getsizeof(data._intersection_id_to_records)\n",
    "    m = m_col + m_row\n",
    "    output_shape = data._intersection_id_to_columns.shape\n",
    "    times.append((row * 5, col, t, pattern, num_int, \n",
    "                 output_shape[0], output_shape[1]))\n",
    "    rams.append((row * 5, col, m, pattern, num_int, \n",
    "                 output_shape[0], output_shape[1],\n",
    "                 m_col, m_row))\n",
    "    "
   ]
  },
  {
   "cell_type": "code",
   "execution_count": null,
   "id": "7a3edc62",
   "metadata": {},
   "outputs": [],
   "source": [
    "# read and evaluate each 100M row table in PSQL\n",
    "# Done. Total time (4895.91s).\n",
    "conn = get_connection()\n",
    "start_time = time.time()\n",
    "for c in COLS:\n",
    "    for r in ROWS:\n",
    "        for p in PATTERNS:\n",
    "            num_int = None\n",
    "            table_name = p.replace(\" \", \"_\") + f\"_{c}x{r}\"\n",
    "            if (p == GM) | (p == SET):\n",
    "                for i in GM_INTS:\n",
    "                    num_int = i\n",
    "                    table_name = p.replace(\" \", \"_\") + f\"_{c}x{r}_{i}\"\n",
    "                    if p == SET:\n",
    "                        num_int = [num_int, int(num_int/10)]\n",
    "                        table_name = p.replace(\" \", \"_\") + f\"_{len(num_int)}x{r}_{i}\"\n",
    "                    print(f\"Evaluating table: {table_name} ...\")\n",
    "                    evaluate(table_name, r, c, p, i)\n",
    "            else:\n",
    "                print(f\"Evaluating table: {table_name} ...\")\n",
    "                evaluate(table_name, r, c, p)\n",
    "\n",
    "# Close the connection\n",
    "conn.close()\n",
    "# clear_output()\n",
    "print(f\"Done. Total time ({time.time() - start_time:.2f}s).\")"
   ]
  },
  {
   "cell_type": "code",
   "execution_count": null,
   "id": "7fc079e6",
   "metadata": {},
   "outputs": [],
   "source": [
    "times_df = pd.DataFrame([\n",
    "    {\n",
    "        \"rows\": r,\n",
    "        \"columns\": c,\n",
    "        \"colxrow\": r*c,\n",
    "        \"seconds\": t,\n",
    "        \"pattern\": p,\n",
    "        \"combinations\": comb,\n",
    "        \"output_rows\": out_row,\n",
    "        \"output_cols\": out_col\n",
    "    } for r, c, t, p, comb, out_row, out_col in times\n",
    "])\n",
    "mem_df = pd.DataFrame([\n",
    "    {\n",
    "        \"rows\": r,\n",
    "        \"columns\": c,\n",
    "        \"colxrow\": r*c,\n",
    "        \"memory\": round(m/1024/1024,5),\n",
    "        \"pattern\": p,\n",
    "        \"combinations\": comb,\n",
    "        \"output_rows\": out_row,\n",
    "        \"output_cols\": out_col,\n",
    "        \"memory_col\": round(mcol/1024/1024,5),\n",
    "        \"memory_row\": round(mrow/1024/1024,5),\n",
    "    } for r, c, m, p, comb, out_row, out_col, mcol, mrow in rams\n",
    "])"
   ]
  },
  {
   "cell_type": "code",
   "execution_count": null,
   "id": "466aae32",
   "metadata": {},
   "outputs": [],
   "source": [
    "# write 100M results to csv file \n",
    "times_df.to_csv(\"100M-psql-times.csv\", index=False)\n",
    "mem_df.to_csv(\"100M-psql-mems.csv\", index=False)"
   ]
  }
 ],
 "metadata": {
  "kernelspec": {
   "display_name": "Python 3 (ipykernel)",
   "language": "python",
   "name": "python3"
  },
  "language_info": {
   "codemirror_mode": {
    "name": "ipython",
    "version": 3
   },
   "file_extension": ".py",
   "mimetype": "text/x-python",
   "name": "python",
   "nbconvert_exporter": "python",
   "pygments_lexer": "ipython3",
   "version": "3.8.12"
  }
 },
 "nbformat": 4,
 "nbformat_minor": 5
}
