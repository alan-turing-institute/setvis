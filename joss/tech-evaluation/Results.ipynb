{
 "cells": [
  {
   "cell_type": "markdown",
   "id": "a05ea703",
   "metadata": {},
   "source": [
    "## Results\n",
    "\n",
    "There are two trials:\n",
    "\n",
    "* In-memory: in Evaluation-with-vis notebook (to be renamed)\n",
    "* PostgreSQL 100M records: in Postgre100M notebook\n",
    "\n",
    "To run the results you need two results file from each of the above."
   ]
  },
  {
   "cell_type": "code",
   "execution_count": null,
   "id": "bc9aa256",
   "metadata": {},
   "outputs": [],
   "source": [
    "import sys\n",
    "import os\n",
    "import time\n",
    "import pandas as pd\n",
    "import numpy as np\n",
    "import matplotlib\n",
    "import matplotlib.pyplot as plt\n",
    "import matplotlib.ticker as ticker\n",
    "from IPython.display import clear_output\n",
    "\n",
    "from utils import (generate_data,\n",
    "                   plot_data,\n",
    "                   compute)"
   ]
  },
  {
   "cell_type": "code",
   "execution_count": null,
   "id": "c78a2c8c",
   "metadata": {},
   "outputs": [],
   "source": [
    "def format_num(num):\n",
    "    if num >= 1000000:\n",
    "        return f\"{num / 1000000}m\"\n",
    "    elif num >= 1000:\n",
    "        return f\"{num / 1000}k\"\n",
    "    else:\n",
    "        return f\"{num}\"\n",
    "\n",
    "def factors_of(x):\n",
    "    d2 = [0.001, 0.005, 0.01, 0.05, 0.1]\n",
    "    return [i * x for i in d2]\n",
    "\n",
    "PM = 'planned missing'\n",
    "GM = 'general missing'\n",
    "SET = 'sets'\n",
    "PATTERNS = [SET, GM, PM]\n",
    "SETVIS = 'setvis'\n",
    "UPSET = 'upsetplot'\n",
    "PACKAGES = [UPSET, SETVIS]\n",
    "# upset not possible with 100000 rows & 500 cols on 16gb machine\n",
    "UPSET_COL_LIMIT = 500\n",
    "UPSET_ROW_LIMIT = 100000\n",
    "# setvis not possible with planned missing 500000 x 1000 44gb machine\n",
    "GM_ROW = 100000\n",
    "GM_COL = 50\n",
    "GM_INTS = factors_of(GM_ROW)\n",
    "ROWS = [10000, 25000,50000, GM_ROW, 500000] \n",
    "COLS = [10, GM_COL, 100, 500, 700]\n",
    "UPSET_LIMIT = 500\n",
    "def size_mb(object):\n",
    "    return f\"{sys.getsizeof(object)/1024/1024:.3f}MB\""
   ]
  },
  {
   "cell_type": "code",
   "execution_count": null,
   "id": "f2f5b886",
   "metadata": {},
   "outputs": [],
   "source": [
    "GM_INTS"
   ]
  },
  {
   "cell_type": "code",
   "execution_count": null,
   "id": "09fdff50",
   "metadata": {},
   "outputs": [],
   "source": [
    "# df = generate_data(GM, GM_ROW, GM_COL, 2 * GM_COL - 1)\n",
    "# print(\"df size\", size_mb(df))\n",
    "# upset_df = compute(df, UPSET, False)\n",
    "# print(\"obj size\", size_mb(upset_df))\n",
    "# upset_df.head()"
   ]
  },
  {
   "cell_type": "code",
   "execution_count": null,
   "id": "a91256a0",
   "metadata": {},
   "outputs": [],
   "source": [
    "import seaborn as sns\n",
    "\n",
    "def plot_df(d, time=True, y='seconds', compute=True, x='colxrow', \n",
    "            hue='pattern', markertext=True):\n",
    "    ylabel = \"Time (seconds)\"\n",
    "    xlabel = \"Millions of cells\"\n",
    "    # Legend title mapping\n",
    "    legend_map = {\n",
    "        \"upsetplot-sets\": \"upsetplot (set-type data)\",\n",
    "        \"setvis-sets\": \"setvis (set-type data)\",\n",
    "        \"upsetplot-planned missing\": \"upsetplot (missing values)\",\n",
    "        \"setvis-planned missing\": \"setvis (missing values)\"\n",
    "    }\n",
    "    # Apply legend title mapping to the DataFrame\n",
    "    d[hue] = d[hue].map(legend_map).fillna(d[hue])\n",
    "\n",
    "    # is it GM only?\n",
    "    gm_plt = (d['pattern'].str.contains('GM')).all()\n",
    "    # temp title\n",
    "    libraries = d['library'].unique() if 'library' in d.columns else 'PSQL - '\n",
    "    title = ' & '.join(libraries) if not isinstance(libraries, str) else 'SETVIS'\n",
    "    if time:\n",
    "        title += \" - times\"\n",
    "    else:\n",
    "        title += \" - memory\"\n",
    "\n",
    "    # toggle values\n",
    "    if gm_plt:\n",
    "        xlabel = \"Number of missing combinations.\"\n",
    "    if not time:\n",
    "        ylabel = \"Memory (MB)\"\n",
    "    set_plt = (d['pattern'].str.contains('set-type data')).all()\n",
    "    if set_plt:\n",
    "        xlabel = \"Number of set intersections\"\n",
    "        rows_str = ','.join(map(str, d['rows'].unique().tolist()))\n",
    "        title += f\" For {rows_str} rows and 2 column set data.\"\n",
    "        \n",
    "    # start the plot\n",
    "    plt.figure(figsize=(4, 4))\n",
    "    \n",
    "    def format_ax(ax):\n",
    "        ax.set_xlabel(xlabel, fontsize=12)\n",
    "        ax.set_ylabel(ylabel, fontsize=12)\n",
    "\n",
    "        # Add markers to the line plot\n",
    "        for line in ax.lines:\n",
    "            line.set_marker('o')\n",
    "\n",
    "    g = sns.relplot(data=d, x=x, y=y, hue=hue, kind='line', height=3, aspect=1)\n",
    "    for ax in g.axes.flat:\n",
    "        format_ax(ax)\n",
    "    sns.move_legend(g, \"upper left\", bbox_to_anchor=(.55, .65), title=\"\")\n",
    "    g.add_legend()\n",
    "    \n",
    "    # plt.title(f\"Figure: {title}\")\n",
    "    plt.show()\n"
   ]
  },
  {
   "cell_type": "markdown",
   "id": "978f8d0a",
   "metadata": {},
   "source": [
    "## Results"
   ]
  },
  {
   "cell_type": "code",
   "execution_count": null,
   "id": "47cce60a",
   "metadata": {},
   "outputs": [],
   "source": [
    "# eye opener\n",
    "# df = generate_data(GM, 1000000, 10, 2 * 10 -1)\n",
    "# f\"{sys.getsizeof(df)/1024/1024:.3f}MB\"\n",
    "# '381.470MB'"
   ]
  },
  {
   "cell_type": "code",
   "execution_count": null,
   "id": "e96459cb",
   "metadata": {},
   "outputs": [],
   "source": [
    "# where the files are\n",
    "# os.chdir(\"/home/layik/Documents/papers/setvis\")\n",
    "file = '-'.join(map(str, COLS)) + 'X' + '-'.join(map(str, ROWS)) \n",
    "times_df = pd.read_csv(file + \"-times.csv\")\n",
    "mem_df = pd.read_csv(file + \"-mems.csv\")"
   ]
  },
  {
   "cell_type": "code",
   "execution_count": null,
   "id": "6c3a4623",
   "metadata": {},
   "outputs": [],
   "source": [
    "############ modify dataframe for plotting ####################\n",
    "# modify mem_df: upset to upsetplot\n",
    "mem_df.loc[mem_df['library'] == 'upset', 'library'] = UPSET\n",
    "# combine library & pattern\n",
    "mem_df['pattern'] = mem_df['library'] + \"-\" + mem_df['pattern']\n",
    "\n",
    "# modify times_df\n",
    "times_df.loc[times_df['library'] == 'upset', 'library'] = UPSET\n",
    "# combine library & pattern\n",
    "times_df['pattern'] = times_df['library'] + \"-\" + times_df['pattern']"
   ]
  },
  {
   "cell_type": "code",
   "execution_count": null,
   "id": "83d8160d",
   "metadata": {},
   "outputs": [],
   "source": [
    "# mem_df[(mem_df['pattern'].str.contains(GM))]"
   ]
  },
  {
   "cell_type": "markdown",
   "id": "b9a1d132",
   "metadata": {},
   "source": [
    "### Memory results"
   ]
  },
  {
   "cell_type": "code",
   "execution_count": null,
   "id": "4bbc047e",
   "metadata": {},
   "outputs": [],
   "source": [
    "# mem_df[(mem_df['pattern'].str.contains(SET)) & (mem_df['library'] == SETVIS)]"
   ]
  },
  {
   "cell_type": "code",
   "execution_count": null,
   "id": "6a618e9a",
   "metadata": {},
   "outputs": [],
   "source": [
    "# x-axis for SET is combinations\n",
    "plot_df(mem_df[(mem_df['pattern'].str.contains(SET)) & \n",
    "               (mem_df['colxrow'] == 1000000)], time = False, \n",
    "        x = 'combinations', y = 'memory')\n",
    "# x-axis for GM should be num of combs\n",
    "mem_pm_df = mem_df[(mem_df['pattern'].str.contains(PM))].copy()\n",
    "mem_pm_df['colxrow'] = mem_pm_df['colxrow']/1e6\n",
    "plot_df(mem_pm_df, time = False, \n",
    "        y = 'memory', markertext = False)\n",
    "plot_df(mem_df[(mem_df['pattern'].str.contains(GM))], time = False, y = 'memory', markertext = False)\n",
    "\n",
    "# plotting setvis two objects\n",
    "# plot_df(mem_df[(mem_df['pattern'].str.contains(GM)) & (mem_df['library'] == SETVIS)], False, 'memory_col')\n",
    "# plot_df(mem_df[(mem_df['pattern'].str.contains(GM)) & (mem_df['library'] == SETVIS)], False, 'memory_row')\n"
   ]
  },
  {
   "cell_type": "code",
   "execution_count": 46,
   "id": "9a5bd0c9",
   "metadata": {},
   "outputs": [
    {
     "data": {
      "text/html": [
       "<div>\n",
       "<style scoped>\n",
       "    .dataframe tbody tr th:only-of-type {\n",
       "        vertical-align: middle;\n",
       "    }\n",
       "\n",
       "    .dataframe tbody tr th {\n",
       "        vertical-align: top;\n",
       "    }\n",
       "\n",
       "    .dataframe thead th {\n",
       "        text-align: right;\n",
       "    }\n",
       "</style>\n",
       "<table border=\"1\" class=\"dataframe\">\n",
       "  <thead>\n",
       "    <tr style=\"text-align: right;\">\n",
       "      <th></th>\n",
       "      <th>rows</th>\n",
       "      <th>columns</th>\n",
       "      <th>colxrow</th>\n",
       "      <th>memory</th>\n",
       "      <th>pattern</th>\n",
       "      <th>library</th>\n",
       "      <th>memory_df</th>\n",
       "      <th>memory_col</th>\n",
       "      <th>memory_row</th>\n",
       "      <th>combinations</th>\n",
       "      <th>output_rows</th>\n",
       "      <th>output_cols</th>\n",
       "    </tr>\n",
       "  </thead>\n",
       "  <tbody>\n",
       "    <tr>\n",
       "      <th>56</th>\n",
       "      <td>500000</td>\n",
       "      <td>2</td>\n",
       "      <td>1000000</td>\n",
       "      <td>56.28199</td>\n",
       "      <td>upsetplot-sets</td>\n",
       "      <td>upsetplot</td>\n",
       "      <td>55.74240</td>\n",
       "      <td>0.00000</td>\n",
       "      <td>0.00000</td>\n",
       "      <td>100</td>\n",
       "      <td>500000</td>\n",
       "      <td>1</td>\n",
       "    </tr>\n",
       "    <tr>\n",
       "      <th>57</th>\n",
       "      <td>500000</td>\n",
       "      <td>2</td>\n",
       "      <td>1000000</td>\n",
       "      <td>266.15157</td>\n",
       "      <td>upsetplot-sets</td>\n",
       "      <td>upsetplot</td>\n",
       "      <td>56.54349</td>\n",
       "      <td>0.00000</td>\n",
       "      <td>0.00000</td>\n",
       "      <td>500</td>\n",
       "      <td>500000</td>\n",
       "      <td>1</td>\n",
       "    </tr>\n",
       "    <tr>\n",
       "      <th>58</th>\n",
       "      <td>500000</td>\n",
       "      <td>2</td>\n",
       "      <td>1000000</td>\n",
       "      <td>7.64068</td>\n",
       "      <td>setvis-sets</td>\n",
       "      <td>setvis</td>\n",
       "      <td>91.45750</td>\n",
       "      <td>0.01127</td>\n",
       "      <td>7.62941</td>\n",
       "      <td>100</td>\n",
       "      <td>100</td>\n",
       "      <td>110</td>\n",
       "    </tr>\n",
       "    <tr>\n",
       "      <th>59</th>\n",
       "      <td>500000</td>\n",
       "      <td>2</td>\n",
       "      <td>1000000</td>\n",
       "      <td>7.89550</td>\n",
       "      <td>setvis-sets</td>\n",
       "      <td>setvis</td>\n",
       "      <td>93.05968</td>\n",
       "      <td>0.26609</td>\n",
       "      <td>7.62941</td>\n",
       "      <td>500</td>\n",
       "      <td>500</td>\n",
       "      <td>550</td>\n",
       "    </tr>\n",
       "    <tr>\n",
       "      <th>60</th>\n",
       "      <td>500000</td>\n",
       "      <td>2</td>\n",
       "      <td>1000000</td>\n",
       "      <td>8.68610</td>\n",
       "      <td>setvis-sets</td>\n",
       "      <td>setvis</td>\n",
       "      <td>93.25995</td>\n",
       "      <td>1.05669</td>\n",
       "      <td>7.62941</td>\n",
       "      <td>1000</td>\n",
       "      <td>1000</td>\n",
       "      <td>1100</td>\n",
       "    </tr>\n",
       "    <tr>\n",
       "      <th>61</th>\n",
       "      <td>500000</td>\n",
       "      <td>2</td>\n",
       "      <td>1000000</td>\n",
       "      <td>33.89362</td>\n",
       "      <td>setvis-sets</td>\n",
       "      <td>setvis</td>\n",
       "      <td>94.94604</td>\n",
       "      <td>26.26421</td>\n",
       "      <td>7.62941</td>\n",
       "      <td>5000</td>\n",
       "      <td>5000</td>\n",
       "      <td>5500</td>\n",
       "    </tr>\n",
       "    <tr>\n",
       "      <th>62</th>\n",
       "      <td>500000</td>\n",
       "      <td>2</td>\n",
       "      <td>1000000</td>\n",
       "      <td>112.60989</td>\n",
       "      <td>setvis-sets</td>\n",
       "      <td>setvis</td>\n",
       "      <td>95.15681</td>\n",
       "      <td>104.98048</td>\n",
       "      <td>7.62941</td>\n",
       "      <td>10000</td>\n",
       "      <td>10000</td>\n",
       "      <td>11000</td>\n",
       "    </tr>\n",
       "  </tbody>\n",
       "</table>\n",
       "</div>"
      ],
      "text/plain": [
       "      rows  columns  colxrow     memory         pattern    library  memory_df  \\\n",
       "56  500000        2  1000000   56.28199  upsetplot-sets  upsetplot   55.74240   \n",
       "57  500000        2  1000000  266.15157  upsetplot-sets  upsetplot   56.54349   \n",
       "58  500000        2  1000000    7.64068     setvis-sets     setvis   91.45750   \n",
       "59  500000        2  1000000    7.89550     setvis-sets     setvis   93.05968   \n",
       "60  500000        2  1000000    8.68610     setvis-sets     setvis   93.25995   \n",
       "61  500000        2  1000000   33.89362     setvis-sets     setvis   94.94604   \n",
       "62  500000        2  1000000  112.60989     setvis-sets     setvis   95.15681   \n",
       "\n",
       "    memory_col  memory_row  combinations  output_rows  output_cols  \n",
       "56     0.00000     0.00000           100       500000            1  \n",
       "57     0.00000     0.00000           500       500000            1  \n",
       "58     0.01127     7.62941           100          100          110  \n",
       "59     0.26609     7.62941           500          500          550  \n",
       "60     1.05669     7.62941          1000         1000         1100  \n",
       "61    26.26421     7.62941          5000         5000         5500  \n",
       "62   104.98048     7.62941         10000        10000        11000  "
      ]
     },
     "execution_count": 46,
     "metadata": {},
     "output_type": "execute_result"
    }
   ],
   "source": [
    "mem_df[(mem_df['pattern'].str.contains(SET)) & \n",
    "               (mem_df['colxrow'] == 1000000)]"
   ]
  },
  {
   "cell_type": "code",
   "execution_count": null,
   "id": "ffba2bc6",
   "metadata": {},
   "outputs": [],
   "source": [
    "# memory for upset stats\n",
    "# mem_df[mem_df['library'] == UPSET].describe()"
   ]
  },
  {
   "cell_type": "code",
   "execution_count": null,
   "id": "bba88972",
   "metadata": {},
   "outputs": [],
   "source": [
    "# memory for setvis stats\n",
    "# mem_df[mem_df['library'] == SETVIS].describe()"
   ]
  },
  {
   "cell_type": "code",
   "execution_count": null,
   "id": "4303b126",
   "metadata": {},
   "outputs": [],
   "source": [
    "# pattern using least/most memory upset\n",
    "upset_df = mem_df[(mem_df['library'] == UPSET)]\n",
    "display(upset_df[upset_df['memory'] == max(upset_df['memory'])])\n",
    "upset_df[upset_df['memory'] == min(upset_df['memory'])]"
   ]
  },
  {
   "cell_type": "code",
   "execution_count": null,
   "id": "fa4d0912",
   "metadata": {},
   "outputs": [],
   "source": [
    "# pattern using least/most memory setvis\n",
    "setvis_df = mem_df[(mem_df['library'] == SETVIS)]\n",
    "display(setvis_df[setvis_df['memory'] == max(setvis_df['memory'])])\n",
    "setvis_df[setvis_df['memory'] == min(setvis_df['memory'])]"
   ]
  },
  {
   "cell_type": "markdown",
   "id": "75a5c89c",
   "metadata": {},
   "source": [
    "### Times results"
   ]
  },
  {
   "cell_type": "code",
   "execution_count": null,
   "id": "5db72874",
   "metadata": {},
   "outputs": [],
   "source": [
    "# overall min/max time\n",
    "display(times_df[times_df['seconds'] == min(times_df['seconds'])])\n",
    "times_df[times_df['seconds'] == max(times_df['seconds'])]"
   ]
  },
  {
   "cell_type": "code",
   "execution_count": null,
   "id": "581d6d34",
   "metadata": {},
   "outputs": [],
   "source": [
    "# plot plotting times\n",
    "plot_df(times_df[(times_df['compute'] == False) & (~times_df['pattern'].str.contains(GM))], compute = False)\n",
    "plot_df(times_df[(times_df['compute'] == False) & (times_df['pattern'].str.contains(GM))], compute = False)"
   ]
  },
  {
   "cell_type": "code",
   "execution_count": null,
   "id": "3c4d8a2b",
   "metadata": {
    "scrolled": true
   },
   "outputs": [],
   "source": [
    "# pattern using least/max time upset\n",
    "upset_df = times_df[(times_df['library'] == UPSET)]\n",
    "upset_df[upset_df['seconds'] == max(upset_df['seconds'])]"
   ]
  },
  {
   "cell_type": "code",
   "execution_count": null,
   "id": "91d9ac5c",
   "metadata": {},
   "outputs": [],
   "source": [
    "# pattern using least time setvis\n",
    "setvis_df = times_df[(times_df['library'] == SETVIS)]\n",
    "setvis_df[setvis_df['seconds'] == max(setvis_df['seconds'])]\n",
    "# setvis_df[setvis_df['pattern'] == GM]\n",
    "# 100\t0.021\tgeneral missing\tsetvis\tTrue"
   ]
  },
  {
   "cell_type": "markdown",
   "id": "37b465b9",
   "metadata": {},
   "source": [
    "## PSQL 100M record"
   ]
  },
  {
   "cell_type": "code",
   "execution_count": null,
   "id": "41e59f4c",
   "metadata": {},
   "outputs": [],
   "source": [
    "times_100m = pd.read_csv(\"100M-psql-times.csv\")\n",
    "mem_100m = pd.read_csv(\"100M-psql-mems.csv\")"
   ]
  },
  {
   "cell_type": "code",
   "execution_count": null,
   "id": "6c31dd0f",
   "metadata": {},
   "outputs": [],
   "source": [
    "mem_100m"
   ]
  },
  {
   "cell_type": "code",
   "execution_count": null,
   "id": "1c8db028",
   "metadata": {},
   "outputs": [],
   "source": [
    "plot_df(mem_100m[(mem_100m['pattern'].str.contains(GM))], time = False, y = 'memory', x=\"combinations\")\n"
   ]
  }
 ],
 "metadata": {
  "kernelspec": {
   "display_name": "Python 3 (ipykernel)",
   "language": "python",
   "name": "python3"
  },
  "language_info": {
   "codemirror_mode": {
    "name": "ipython",
    "version": 3
   },
   "file_extension": ".py",
   "mimetype": "text/x-python",
   "name": "python",
   "nbconvert_exporter": "python",
   "pygments_lexer": "ipython3",
   "version": "3.11.8"
  }
 },
 "nbformat": 4,
 "nbformat_minor": 5
}
